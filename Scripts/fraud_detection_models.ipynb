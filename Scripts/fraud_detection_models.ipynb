{
 "cells": [
  {
   "cell_type": "code",
   "execution_count": 1,
   "metadata": {},
   "outputs": [],
   "source": [
    "import tensorflow as tf"
   ]
  },
  {
   "cell_type": "code",
   "execution_count": 2,
   "metadata": {},
   "outputs": [
    {
     "name": "stdout",
     "output_type": "stream",
     "text": [
      "Model: \"sequential\"\n",
      "_________________________________________________________________\n",
      " Layer (type)                Output Shape              Param #   \n",
      "=================================================================\n",
      " lstm (LSTM)                 (7, 10, 200)              212000    \n",
      "                                                                 \n",
      " lstm_1 (LSTM)               (7, 10, 200)              320800    \n",
      "                                                                 \n",
      " dense (Dense)               (7, 10, 1)                201       \n",
      "                                                                 \n",
      "=================================================================\n",
      "Total params: 533,001\n",
      "Trainable params: 533,001\n",
      "Non-trainable params: 0\n",
      "_________________________________________________________________\n"
     ]
    }
   ],
   "source": [
    "units = [200,200]\n",
    "output_size = 1\n",
    "seq_len = 10\n",
    "num_feats = 64\n",
    "tf_input = [seq_len, num_feats]\n",
    "batch_size = 7\n",
    "\n",
    "lstm_model = tf.keras.models.Sequential([\n",
    "    tf.keras.layers.LSTM(units[0], input_shape=tf_input, batch_size=batch_size, time_major=True, return_sequences=True),\n",
    "    tf.keras.layers.LSTM(units[1], return_sequences=True, time_major=True),\n",
    "    tf.keras.layers.Dense(output_size, activation='sigmoid')\n",
    "])\n",
    "\n",
    "lstm_model.summary()"
   ]
  },
  {
   "cell_type": "code",
   "execution_count": 3,
   "metadata": {},
   "outputs": [],
   "source": [
    "@tf.function\n",
    "def train_step(input, target):\n",
    "    lstm_input = bert_model(input)\n",
    "\n",
    "    with tf.GradientTape() as tape:\n",
    "        prediction = lstm_model(lstm_input, target)\n",
    "        l = loss(target, prediction)\n",
    "    gradients = tape.gradient(l, lstm_model.trainable_variables)\n",
    "    optimizer.apply_gradients(zip(gradients, lstm_model.trainable_variables))"
   ]
  }
 ],
 "metadata": {
  "kernelspec": {
   "display_name": "wenv",
   "language": "python",
   "name": "python3"
  },
  "language_info": {
   "codemirror_mode": {
    "name": "ipython",
    "version": 3
   },
   "file_extension": ".py",
   "mimetype": "text/x-python",
   "name": "python",
   "nbconvert_exporter": "python",
   "pygments_lexer": "ipython3",
   "version": "3.9.13"
  },
  "orig_nbformat": 4,
  "vscode": {
   "interpreter": {
    "hash": "79af883d0fed3fde69702b9c6d67210ea7fab711f741cf74fe3ad86041e7d3c8"
   }
  }
 },
 "nbformat": 4,
 "nbformat_minor": 2
}
