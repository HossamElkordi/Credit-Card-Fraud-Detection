{
 "cells": [
  {
   "cell_type": "code",
   "execution_count": 1,
   "metadata": {},
   "outputs": [],
   "source": [
    "import pandas as pd\n",
    "import pgeocode\n",
    "from geopy.geocoders import Nominatim\n",
    "import numpy as np"
   ]
  },
  {
   "cell_type": "code",
   "execution_count": 2,
   "metadata": {},
   "outputs": [],
   "source": [
    "users = pd.read_csv('./Data/users.csv')\n",
    "cards = pd.read_csv('./Data/cards.csv')\n",
    "trans = pd.read_csv('./Data/transactions.csv')"
   ]
  },
  {
   "cell_type": "code",
   "execution_count": 3,
   "metadata": {},
   "outputs": [
    {
     "data": {
      "text/plain": [
       "((2000, 19), (6146, 13), (24386900, 15))"
      ]
     },
     "execution_count": 3,
     "metadata": {},
     "output_type": "execute_result"
    }
   ],
   "source": [
    "users.shape, cards.shape, trans.shape"
   ]
  },
  {
   "cell_type": "code",
   "execution_count": 4,
   "metadata": {},
   "outputs": [
    {
     "data": {
      "text/plain": [
       "Index(['User', 'Person', 'Current Age', 'Retirement Age', 'Birth Year',\n",
       "       'Birth Month', 'Gender', 'Address', 'Apartment', 'City', 'State',\n",
       "       'Zipcode', 'Latitude', 'Longitude', 'Per Capita Income - Zipcode',\n",
       "       'Yearly Income - Person', 'Total Debt', 'FICO Score',\n",
       "       'Num Credit Cards'],\n",
       "      dtype='object')"
      ]
     },
     "execution_count": 4,
     "metadata": {},
     "output_type": "execute_result"
    }
   ],
   "source": [
    "users.columns"
   ]
  },
  {
   "cell_type": "code",
   "execution_count": 5,
   "metadata": {},
   "outputs": [
    {
     "data": {
      "text/plain": [
       "Index(['User', 'CARD INDEX', 'Card Brand', 'Card Type', 'Card Number',\n",
       "       'Expires', 'CVV', 'Has Chip', 'Cards Issued', 'Credit Limit',\n",
       "       'Acct Open Date', 'Year PIN last Changed', 'Card on Dark Web'],\n",
       "      dtype='object')"
      ]
     },
     "execution_count": 5,
     "metadata": {},
     "output_type": "execute_result"
    }
   ],
   "source": [
    "cards.columns"
   ]
  },
  {
   "cell_type": "code",
   "execution_count": 8,
   "metadata": {},
   "outputs": [
    {
     "data": {
      "text/plain": [
       "Index(['User', 'Card', 'Year', 'Month', 'Day', 'Time', 'Amount', 'Use Chip',\n",
       "       'Merchant Name', 'Merchant City', 'Merchant State', 'Zip', 'MCC',\n",
       "       'Errors?', 'Is Fraud?'],\n",
       "      dtype='object')"
      ]
     },
     "execution_count": 8,
     "metadata": {},
     "output_type": "execute_result"
    }
   ],
   "source": [
    "trans.columns"
   ]
  },
  {
   "attachments": {},
   "cell_type": "markdown",
   "metadata": {},
   "source": [
    "# Geocode Example"
   ]
  },
  {
   "cell_type": "code",
   "execution_count": 27,
   "metadata": {},
   "outputs": [],
   "source": [
    "geolocator = Nominatim(user_agent=\"geoapiExercises\")\n",
    "location = geolocator.geocode('91750')"
   ]
  },
  {
   "cell_type": "code",
   "execution_count": 15,
   "metadata": {},
   "outputs": [
    {
     "data": {
      "text/plain": [
       "Location(Île-de-France, France métropolitaine, 91750, France, (48.5150632, 2.4419139839231048, 0.0))"
      ]
     },
     "execution_count": 15,
     "metadata": {},
     "output_type": "execute_result"
    }
   ],
   "source": [
    "location"
   ]
  },
  {
   "cell_type": "code",
   "execution_count": 16,
   "metadata": {},
   "outputs": [
    {
     "data": {
      "text/plain": [
       "(48.5150632, 2.4419139839231048)"
      ]
     },
     "execution_count": 16,
     "metadata": {},
     "output_type": "execute_result"
    }
   ],
   "source": [
    "location[-1]"
   ]
  },
  {
   "attachments": {},
   "cell_type": "markdown",
   "metadata": {},
   "source": [
    "# Pgeocode Example"
   ]
  },
  {
   "cell_type": "code",
   "execution_count": 40,
   "metadata": {},
   "outputs": [],
   "source": [
    "pgeo = pgeocode.Nominatim('us')"
   ]
  },
  {
   "cell_type": "code",
   "execution_count": 41,
   "metadata": {},
   "outputs": [
    {
     "data": {
      "text/plain": [
       "postal_code             91750\n",
       "country_code               US\n",
       "place_name           La Verne\n",
       "state_name         California\n",
       "state_code                 CA\n",
       "county_name       Los Angeles\n",
       "county_code              37.0\n",
       "community_name           None\n",
       "community_code            NaN\n",
       "latitude              34.1159\n",
       "longitude           -117.7708\n",
       "accuracy                  4.0\n",
       "Name: 0, dtype: object"
      ]
     },
     "execution_count": 41,
     "metadata": {},
     "output_type": "execute_result"
    }
   ],
   "source": [
    "pgeo.query_postal_code('91750')"
   ]
  },
  {
   "attachments": {},
   "cell_type": "markdown",
   "metadata": {},
   "source": [
    "# NaN Counts"
   ]
  },
  {
   "cell_type": "code",
   "execution_count": 13,
   "metadata": {},
   "outputs": [
    {
     "data": {
      "text/plain": [
       "User                     0\n",
       "Card                     0\n",
       "Year                     0\n",
       "Month                    0\n",
       "Day                      0\n",
       "Time                     0\n",
       "Amount                   0\n",
       "Use Chip                 0\n",
       "Merchant Name            0\n",
       "Merchant City            0\n",
       "Merchant State     2720821\n",
       "Zip                2878135\n",
       "MCC                      0\n",
       "Errors?           23998469\n",
       "Is Fraud?                0\n",
       "dtype: int64"
      ]
     },
     "execution_count": 13,
     "metadata": {},
     "output_type": "execute_result"
    }
   ],
   "source": [
    "trans.isna().sum()"
   ]
  },
  {
   "attachments": {},
   "cell_type": "markdown",
   "metadata": {},
   "source": [
    "# Handle Online Transaction"
   ]
  },
  {
   "cell_type": "code",
   "execution_count": 8,
   "metadata": {},
   "outputs": [
    {
     "data": {
      "text/html": [
       "<div>\n",
       "<style scoped>\n",
       "    .dataframe tbody tr th:only-of-type {\n",
       "        vertical-align: middle;\n",
       "    }\n",
       "\n",
       "    .dataframe tbody tr th {\n",
       "        vertical-align: top;\n",
       "    }\n",
       "\n",
       "    .dataframe thead th {\n",
       "        text-align: right;\n",
       "    }\n",
       "</style>\n",
       "<table border=\"1\" class=\"dataframe\">\n",
       "  <thead>\n",
       "    <tr style=\"text-align: right;\">\n",
       "      <th></th>\n",
       "      <th>User</th>\n",
       "      <th>Card</th>\n",
       "      <th>Year</th>\n",
       "      <th>Month</th>\n",
       "      <th>Day</th>\n",
       "      <th>Time</th>\n",
       "      <th>Amount</th>\n",
       "      <th>Use Chip</th>\n",
       "      <th>Merchant Name</th>\n",
       "      <th>Merchant City</th>\n",
       "      <th>Merchant State</th>\n",
       "      <th>Zip</th>\n",
       "      <th>MCC</th>\n",
       "      <th>Errors?</th>\n",
       "      <th>Is Fraud?</th>\n",
       "    </tr>\n",
       "  </thead>\n",
       "  <tbody>\n",
       "    <tr>\n",
       "      <th>11</th>\n",
       "      <td>0</td>\n",
       "      <td>0</td>\n",
       "      <td>2002</td>\n",
       "      <td>9</td>\n",
       "      <td>5</td>\n",
       "      <td>20:41</td>\n",
       "      <td>$53.91</td>\n",
       "      <td>Online Transaction</td>\n",
       "      <td>-9092677072201095172</td>\n",
       "      <td>ONLINE</td>\n",
       "      <td>NaN</td>\n",
       "      <td>NaN</td>\n",
       "      <td>4900</td>\n",
       "      <td>NaN</td>\n",
       "      <td>No</td>\n",
       "    </tr>\n",
       "    <tr>\n",
       "      <th>24</th>\n",
       "      <td>0</td>\n",
       "      <td>0</td>\n",
       "      <td>2002</td>\n",
       "      <td>9</td>\n",
       "      <td>9</td>\n",
       "      <td>20:02</td>\n",
       "      <td>$144.90</td>\n",
       "      <td>Online Transaction</td>\n",
       "      <td>-8338381919281017248</td>\n",
       "      <td>ONLINE</td>\n",
       "      <td>NaN</td>\n",
       "      <td>NaN</td>\n",
       "      <td>4899</td>\n",
       "      <td>NaN</td>\n",
       "      <td>No</td>\n",
       "    </tr>\n",
       "    <tr>\n",
       "      <th>85</th>\n",
       "      <td>0</td>\n",
       "      <td>0</td>\n",
       "      <td>2002</td>\n",
       "      <td>9</td>\n",
       "      <td>30</td>\n",
       "      <td>06:21</td>\n",
       "      <td>$127.32</td>\n",
       "      <td>Online Transaction</td>\n",
       "      <td>-7421093378627544099</td>\n",
       "      <td>ONLINE</td>\n",
       "      <td>NaN</td>\n",
       "      <td>NaN</td>\n",
       "      <td>5311</td>\n",
       "      <td>NaN</td>\n",
       "      <td>No</td>\n",
       "    </tr>\n",
       "    <tr>\n",
       "      <th>99</th>\n",
       "      <td>0</td>\n",
       "      <td>0</td>\n",
       "      <td>2002</td>\n",
       "      <td>10</td>\n",
       "      <td>6</td>\n",
       "      <td>06:14</td>\n",
       "      <td>$139.39</td>\n",
       "      <td>Online Transaction</td>\n",
       "      <td>-7421093378627544099</td>\n",
       "      <td>ONLINE</td>\n",
       "      <td>NaN</td>\n",
       "      <td>NaN</td>\n",
       "      <td>5311</td>\n",
       "      <td>NaN</td>\n",
       "      <td>No</td>\n",
       "    </tr>\n",
       "    <tr>\n",
       "      <th>106</th>\n",
       "      <td>0</td>\n",
       "      <td>0</td>\n",
       "      <td>2002</td>\n",
       "      <td>10</td>\n",
       "      <td>9</td>\n",
       "      <td>08:16</td>\n",
       "      <td>$53.09</td>\n",
       "      <td>Online Transaction</td>\n",
       "      <td>-4956618006720593695</td>\n",
       "      <td>ONLINE</td>\n",
       "      <td>NaN</td>\n",
       "      <td>NaN</td>\n",
       "      <td>5193</td>\n",
       "      <td>NaN</td>\n",
       "      <td>No</td>\n",
       "    </tr>\n",
       "    <tr>\n",
       "      <th>...</th>\n",
       "      <td>...</td>\n",
       "      <td>...</td>\n",
       "      <td>...</td>\n",
       "      <td>...</td>\n",
       "      <td>...</td>\n",
       "      <td>...</td>\n",
       "      <td>...</td>\n",
       "      <td>...</td>\n",
       "      <td>...</td>\n",
       "      <td>...</td>\n",
       "      <td>...</td>\n",
       "      <td>...</td>\n",
       "      <td>...</td>\n",
       "      <td>...</td>\n",
       "      <td>...</td>\n",
       "    </tr>\n",
       "    <tr>\n",
       "      <th>24386877</th>\n",
       "      <td>1999</td>\n",
       "      <td>1</td>\n",
       "      <td>2020</td>\n",
       "      <td>2</td>\n",
       "      <td>24</td>\n",
       "      <td>20:04</td>\n",
       "      <td>$55.79</td>\n",
       "      <td>Online Transaction</td>\n",
       "      <td>-6160036380778658394</td>\n",
       "      <td>ONLINE</td>\n",
       "      <td>NaN</td>\n",
       "      <td>NaN</td>\n",
       "      <td>4121</td>\n",
       "      <td>NaN</td>\n",
       "      <td>No</td>\n",
       "    </tr>\n",
       "    <tr>\n",
       "      <th>24386879</th>\n",
       "      <td>1999</td>\n",
       "      <td>1</td>\n",
       "      <td>2020</td>\n",
       "      <td>2</td>\n",
       "      <td>25</td>\n",
       "      <td>07:06</td>\n",
       "      <td>$43.08</td>\n",
       "      <td>Online Transaction</td>\n",
       "      <td>-6160036380778658394</td>\n",
       "      <td>ONLINE</td>\n",
       "      <td>NaN</td>\n",
       "      <td>NaN</td>\n",
       "      <td>4121</td>\n",
       "      <td>NaN</td>\n",
       "      <td>No</td>\n",
       "    </tr>\n",
       "    <tr>\n",
       "      <th>24386880</th>\n",
       "      <td>1999</td>\n",
       "      <td>1</td>\n",
       "      <td>2020</td>\n",
       "      <td>2</td>\n",
       "      <td>25</td>\n",
       "      <td>07:34</td>\n",
       "      <td>$43.76</td>\n",
       "      <td>Online Transaction</td>\n",
       "      <td>-6160036380778658394</td>\n",
       "      <td>ONLINE</td>\n",
       "      <td>NaN</td>\n",
       "      <td>NaN</td>\n",
       "      <td>4121</td>\n",
       "      <td>NaN</td>\n",
       "      <td>No</td>\n",
       "    </tr>\n",
       "    <tr>\n",
       "      <th>24386884</th>\n",
       "      <td>1999</td>\n",
       "      <td>1</td>\n",
       "      <td>2020</td>\n",
       "      <td>2</td>\n",
       "      <td>26</td>\n",
       "      <td>07:43</td>\n",
       "      <td>$45.18</td>\n",
       "      <td>Online Transaction</td>\n",
       "      <td>-6160036380778658394</td>\n",
       "      <td>ONLINE</td>\n",
       "      <td>NaN</td>\n",
       "      <td>NaN</td>\n",
       "      <td>4121</td>\n",
       "      <td>NaN</td>\n",
       "      <td>No</td>\n",
       "    </tr>\n",
       "    <tr>\n",
       "      <th>24386889</th>\n",
       "      <td>1999</td>\n",
       "      <td>1</td>\n",
       "      <td>2020</td>\n",
       "      <td>2</td>\n",
       "      <td>27</td>\n",
       "      <td>07:47</td>\n",
       "      <td>$47.18</td>\n",
       "      <td>Online Transaction</td>\n",
       "      <td>-5841929396161652653</td>\n",
       "      <td>ONLINE</td>\n",
       "      <td>NaN</td>\n",
       "      <td>NaN</td>\n",
       "      <td>4121</td>\n",
       "      <td>NaN</td>\n",
       "      <td>No</td>\n",
       "    </tr>\n",
       "  </tbody>\n",
       "</table>\n",
       "<p>2720821 rows × 15 columns</p>\n",
       "</div>"
      ],
      "text/plain": [
       "          User  Card  Year  Month  Day   Time   Amount            Use Chip  \\\n",
       "11           0     0  2002      9    5  20:41   $53.91  Online Transaction   \n",
       "24           0     0  2002      9    9  20:02  $144.90  Online Transaction   \n",
       "85           0     0  2002      9   30  06:21  $127.32  Online Transaction   \n",
       "99           0     0  2002     10    6  06:14  $139.39  Online Transaction   \n",
       "106          0     0  2002     10    9  08:16   $53.09  Online Transaction   \n",
       "...        ...   ...   ...    ...  ...    ...      ...                 ...   \n",
       "24386877  1999     1  2020      2   24  20:04   $55.79  Online Transaction   \n",
       "24386879  1999     1  2020      2   25  07:06   $43.08  Online Transaction   \n",
       "24386880  1999     1  2020      2   25  07:34   $43.76  Online Transaction   \n",
       "24386884  1999     1  2020      2   26  07:43   $45.18  Online Transaction   \n",
       "24386889  1999     1  2020      2   27  07:47   $47.18  Online Transaction   \n",
       "\n",
       "                Merchant Name Merchant City Merchant State  Zip   MCC Errors?  \\\n",
       "11       -9092677072201095172        ONLINE            NaN  NaN  4900     NaN   \n",
       "24       -8338381919281017248        ONLINE            NaN  NaN  4899     NaN   \n",
       "85       -7421093378627544099        ONLINE            NaN  NaN  5311     NaN   \n",
       "99       -7421093378627544099        ONLINE            NaN  NaN  5311     NaN   \n",
       "106      -4956618006720593695        ONLINE            NaN  NaN  5193     NaN   \n",
       "...                       ...           ...            ...  ...   ...     ...   \n",
       "24386877 -6160036380778658394        ONLINE            NaN  NaN  4121     NaN   \n",
       "24386879 -6160036380778658394        ONLINE            NaN  NaN  4121     NaN   \n",
       "24386880 -6160036380778658394        ONLINE            NaN  NaN  4121     NaN   \n",
       "24386884 -6160036380778658394        ONLINE            NaN  NaN  4121     NaN   \n",
       "24386889 -5841929396161652653        ONLINE            NaN  NaN  4121     NaN   \n",
       "\n",
       "         Is Fraud?  \n",
       "11              No  \n",
       "24              No  \n",
       "85              No  \n",
       "99              No  \n",
       "106             No  \n",
       "...            ...  \n",
       "24386877        No  \n",
       "24386879        No  \n",
       "24386880        No  \n",
       "24386884        No  \n",
       "24386889        No  \n",
       "\n",
       "[2720821 rows x 15 columns]"
      ]
     },
     "execution_count": 8,
     "metadata": {},
     "output_type": "execute_result"
    }
   ],
   "source": [
    "online = trans[trans['Merchant City'] == 'ONLINE']\n",
    "online"
   ]
  },
  {
   "cell_type": "code",
   "execution_count": 14,
   "metadata": {},
   "outputs": [
    {
     "name": "stderr",
     "output_type": "stream",
     "text": [
      "C:\\Users\\haelkordi\\AppData\\Local\\Temp\\ipykernel_23076\\964028055.py:7: SettingWithCopyWarning: \n",
      "A value is trying to be set on a copy of a slice from a DataFrame.\n",
      "Try using .loc[row_indexer,col_indexer] = value instead\n",
      "\n",
      "See the caveats in the documentation: https://pandas.pydata.org/pandas-docs/stable/user_guide/indexing.html#returning-a-view-versus-a-copy\n",
      "  online['Latitude'] = online.User.map(map_lat_from_users)\n",
      "C:\\Users\\haelkordi\\AppData\\Local\\Temp\\ipykernel_23076\\964028055.py:8: SettingWithCopyWarning: \n",
      "A value is trying to be set on a copy of a slice from a DataFrame.\n",
      "Try using .loc[row_indexer,col_indexer] = value instead\n",
      "\n",
      "See the caveats in the documentation: https://pandas.pydata.org/pandas-docs/stable/user_guide/indexing.html#returning-a-view-versus-a-copy\n",
      "  online['Longitude'] = online.User.map(map_long_from_users)\n"
     ]
    }
   ],
   "source": [
    "def map_lat_from_users(id):\n",
    "    return users.iloc[id]['Latitude']\n",
    "\n",
    "def map_long_from_users(id):\n",
    "    return users.iloc[id]['Longitude']\n",
    "\n",
    "online['Latitude'] = online.User.map(map_lat_from_users)\n",
    "online['Longitude'] = online.User.map(map_long_from_users)"
   ]
  },
  {
   "cell_type": "code",
   "execution_count": 54,
   "metadata": {},
   "outputs": [],
   "source": [
    "online.drop(columns=['Merchant City', 'Merchant State', 'Zip']).to_csv('./Data/AdjustedData/online.csv', index=False)"
   ]
  },
  {
   "attachments": {},
   "cell_type": "markdown",
   "metadata": {},
   "source": [
    "# Handle NaN Zip codes of non online transaction"
   ]
  },
  {
   "cell_type": "code",
   "execution_count": 22,
   "metadata": {},
   "outputs": [],
   "source": [
    "nan_not_online = trans[(trans.Zip.isna()) & (trans['Merchant City'] != 'ONLINE')]"
   ]
  },
  {
   "cell_type": "code",
   "execution_count": 23,
   "metadata": {},
   "outputs": [
    {
     "name": "stderr",
     "output_type": "stream",
     "text": [
      "C:\\Users\\haelkordi\\AppData\\Local\\Temp\\ipykernel_23076\\1208842936.py:1: SettingWithCopyWarning: \n",
      "A value is trying to be set on a copy of a slice from a DataFrame.\n",
      "Try using .loc[row_indexer,col_indexer] = value instead\n",
      "\n",
      "See the caveats in the documentation: https://pandas.pydata.org/pandas-docs/stable/user_guide/indexing.html#returning-a-view-versus-a-copy\n",
      "  nan_not_online['loc'] = nan_not_online['Merchant City'] + ' ' + nan_not_online['Merchant State']\n"
     ]
    }
   ],
   "source": [
    "nan_not_online['loc'] = nan_not_online['Merchant City'] + ' ' + nan_not_online['Merchant State']"
   ]
  },
  {
   "cell_type": "code",
   "execution_count": 24,
   "metadata": {},
   "outputs": [
    {
     "data": {
      "text/html": [
       "<div>\n",
       "<style scoped>\n",
       "    .dataframe tbody tr th:only-of-type {\n",
       "        vertical-align: middle;\n",
       "    }\n",
       "\n",
       "    .dataframe tbody tr th {\n",
       "        vertical-align: top;\n",
       "    }\n",
       "\n",
       "    .dataframe thead th {\n",
       "        text-align: right;\n",
       "    }\n",
       "</style>\n",
       "<table border=\"1\" class=\"dataframe\">\n",
       "  <thead>\n",
       "    <tr style=\"text-align: right;\">\n",
       "      <th></th>\n",
       "      <th>User</th>\n",
       "      <th>Card</th>\n",
       "      <th>Year</th>\n",
       "      <th>Month</th>\n",
       "      <th>Day</th>\n",
       "      <th>Time</th>\n",
       "      <th>Amount</th>\n",
       "      <th>Use Chip</th>\n",
       "      <th>Merchant Name</th>\n",
       "      <th>Merchant City</th>\n",
       "      <th>Merchant State</th>\n",
       "      <th>Zip</th>\n",
       "      <th>MCC</th>\n",
       "      <th>Errors?</th>\n",
       "      <th>Is Fraud?</th>\n",
       "      <th>loc</th>\n",
       "    </tr>\n",
       "  </thead>\n",
       "  <tbody>\n",
       "    <tr>\n",
       "      <th>407</th>\n",
       "      <td>0</td>\n",
       "      <td>0</td>\n",
       "      <td>2003</td>\n",
       "      <td>2</td>\n",
       "      <td>24</td>\n",
       "      <td>13:02</td>\n",
       "      <td>$7.52</td>\n",
       "      <td>Swipe Transaction</td>\n",
       "      <td>-727612092139916043</td>\n",
       "      <td>Zurich</td>\n",
       "      <td>Switzerland</td>\n",
       "      <td>NaN</td>\n",
       "      <td>5411</td>\n",
       "      <td>NaN</td>\n",
       "      <td>No</td>\n",
       "      <td>Zurich Switzerland</td>\n",
       "    </tr>\n",
       "    <tr>\n",
       "      <th>408</th>\n",
       "      <td>0</td>\n",
       "      <td>0</td>\n",
       "      <td>2003</td>\n",
       "      <td>2</td>\n",
       "      <td>25</td>\n",
       "      <td>06:46</td>\n",
       "      <td>$36.97</td>\n",
       "      <td>Swipe Transaction</td>\n",
       "      <td>-4816289482172287511</td>\n",
       "      <td>Zurich</td>\n",
       "      <td>Switzerland</td>\n",
       "      <td>NaN</td>\n",
       "      <td>5411</td>\n",
       "      <td>NaN</td>\n",
       "      <td>No</td>\n",
       "      <td>Zurich Switzerland</td>\n",
       "    </tr>\n",
       "    <tr>\n",
       "      <th>906</th>\n",
       "      <td>0</td>\n",
       "      <td>0</td>\n",
       "      <td>2004</td>\n",
       "      <td>7</td>\n",
       "      <td>22</td>\n",
       "      <td>06:32</td>\n",
       "      <td>$38.26</td>\n",
       "      <td>Swipe Transaction</td>\n",
       "      <td>3510944833163794547</td>\n",
       "      <td>Tallinn</td>\n",
       "      <td>Estonia</td>\n",
       "      <td>NaN</td>\n",
       "      <td>5912</td>\n",
       "      <td>NaN</td>\n",
       "      <td>No</td>\n",
       "      <td>Tallinn Estonia</td>\n",
       "    </tr>\n",
       "    <tr>\n",
       "      <th>907</th>\n",
       "      <td>0</td>\n",
       "      <td>0</td>\n",
       "      <td>2004</td>\n",
       "      <td>7</td>\n",
       "      <td>23</td>\n",
       "      <td>20:05</td>\n",
       "      <td>$75.38</td>\n",
       "      <td>Swipe Transaction</td>\n",
       "      <td>8793545055147237096</td>\n",
       "      <td>Tallinn</td>\n",
       "      <td>Estonia</td>\n",
       "      <td>NaN</td>\n",
       "      <td>5812</td>\n",
       "      <td>NaN</td>\n",
       "      <td>No</td>\n",
       "      <td>Tallinn Estonia</td>\n",
       "    </tr>\n",
       "    <tr>\n",
       "      <th>908</th>\n",
       "      <td>0</td>\n",
       "      <td>0</td>\n",
       "      <td>2004</td>\n",
       "      <td>7</td>\n",
       "      <td>25</td>\n",
       "      <td>13:08</td>\n",
       "      <td>$16.20</td>\n",
       "      <td>Swipe Transaction</td>\n",
       "      <td>2027553650310142703</td>\n",
       "      <td>Tallinn</td>\n",
       "      <td>Estonia</td>\n",
       "      <td>NaN</td>\n",
       "      <td>5541</td>\n",
       "      <td>NaN</td>\n",
       "      <td>No</td>\n",
       "      <td>Tallinn Estonia</td>\n",
       "    </tr>\n",
       "    <tr>\n",
       "      <th>...</th>\n",
       "      <td>...</td>\n",
       "      <td>...</td>\n",
       "      <td>...</td>\n",
       "      <td>...</td>\n",
       "      <td>...</td>\n",
       "      <td>...</td>\n",
       "      <td>...</td>\n",
       "      <td>...</td>\n",
       "      <td>...</td>\n",
       "      <td>...</td>\n",
       "      <td>...</td>\n",
       "      <td>...</td>\n",
       "      <td>...</td>\n",
       "      <td>...</td>\n",
       "      <td>...</td>\n",
       "      <td>...</td>\n",
       "    </tr>\n",
       "    <tr>\n",
       "      <th>24385846</th>\n",
       "      <td>1999</td>\n",
       "      <td>1</td>\n",
       "      <td>2019</td>\n",
       "      <td>6</td>\n",
       "      <td>26</td>\n",
       "      <td>07:43</td>\n",
       "      <td>$54.40</td>\n",
       "      <td>Chip Transaction</td>\n",
       "      <td>8467004869390085980</td>\n",
       "      <td>Buenos Aires</td>\n",
       "      <td>Argentina</td>\n",
       "      <td>NaN</td>\n",
       "      <td>4121</td>\n",
       "      <td>NaN</td>\n",
       "      <td>No</td>\n",
       "      <td>Buenos Aires Argentina</td>\n",
       "    </tr>\n",
       "    <tr>\n",
       "      <th>24385847</th>\n",
       "      <td>1999</td>\n",
       "      <td>1</td>\n",
       "      <td>2019</td>\n",
       "      <td>6</td>\n",
       "      <td>26</td>\n",
       "      <td>11:38</td>\n",
       "      <td>$241.45</td>\n",
       "      <td>Swipe Transaction</td>\n",
       "      <td>-8566951830324093739</td>\n",
       "      <td>Buenos Aires</td>\n",
       "      <td>Argentina</td>\n",
       "      <td>NaN</td>\n",
       "      <td>3640</td>\n",
       "      <td>NaN</td>\n",
       "      <td>No</td>\n",
       "      <td>Buenos Aires Argentina</td>\n",
       "    </tr>\n",
       "    <tr>\n",
       "      <th>24385848</th>\n",
       "      <td>1999</td>\n",
       "      <td>1</td>\n",
       "      <td>2019</td>\n",
       "      <td>6</td>\n",
       "      <td>26</td>\n",
       "      <td>11:58</td>\n",
       "      <td>$-103.00</td>\n",
       "      <td>Swipe Transaction</td>\n",
       "      <td>-8566951830324093739</td>\n",
       "      <td>Buenos Aires</td>\n",
       "      <td>Argentina</td>\n",
       "      <td>NaN</td>\n",
       "      <td>3640</td>\n",
       "      <td>NaN</td>\n",
       "      <td>No</td>\n",
       "      <td>Buenos Aires Argentina</td>\n",
       "    </tr>\n",
       "    <tr>\n",
       "      <th>24385849</th>\n",
       "      <td>1999</td>\n",
       "      <td>1</td>\n",
       "      <td>2019</td>\n",
       "      <td>6</td>\n",
       "      <td>26</td>\n",
       "      <td>12:44</td>\n",
       "      <td>$118.29</td>\n",
       "      <td>Chip Transaction</td>\n",
       "      <td>190253443608377572</td>\n",
       "      <td>Buenos Aires</td>\n",
       "      <td>Argentina</td>\n",
       "      <td>NaN</td>\n",
       "      <td>3359</td>\n",
       "      <td>NaN</td>\n",
       "      <td>No</td>\n",
       "      <td>Buenos Aires Argentina</td>\n",
       "    </tr>\n",
       "    <tr>\n",
       "      <th>24385850</th>\n",
       "      <td>1999</td>\n",
       "      <td>1</td>\n",
       "      <td>2019</td>\n",
       "      <td>6</td>\n",
       "      <td>26</td>\n",
       "      <td>12:58</td>\n",
       "      <td>$-129.00</td>\n",
       "      <td>Chip Transaction</td>\n",
       "      <td>190253443608377572</td>\n",
       "      <td>Buenos Aires</td>\n",
       "      <td>Argentina</td>\n",
       "      <td>NaN</td>\n",
       "      <td>3359</td>\n",
       "      <td>NaN</td>\n",
       "      <td>No</td>\n",
       "      <td>Buenos Aires Argentina</td>\n",
       "    </tr>\n",
       "  </tbody>\n",
       "</table>\n",
       "<p>157314 rows × 16 columns</p>\n",
       "</div>"
      ],
      "text/plain": [
       "          User  Card  Year  Month  Day   Time    Amount           Use Chip  \\\n",
       "407          0     0  2003      2   24  13:02     $7.52  Swipe Transaction   \n",
       "408          0     0  2003      2   25  06:46    $36.97  Swipe Transaction   \n",
       "906          0     0  2004      7   22  06:32    $38.26  Swipe Transaction   \n",
       "907          0     0  2004      7   23  20:05    $75.38  Swipe Transaction   \n",
       "908          0     0  2004      7   25  13:08    $16.20  Swipe Transaction   \n",
       "...        ...   ...   ...    ...  ...    ...       ...                ...   \n",
       "24385846  1999     1  2019      6   26  07:43    $54.40   Chip Transaction   \n",
       "24385847  1999     1  2019      6   26  11:38   $241.45  Swipe Transaction   \n",
       "24385848  1999     1  2019      6   26  11:58  $-103.00  Swipe Transaction   \n",
       "24385849  1999     1  2019      6   26  12:44   $118.29   Chip Transaction   \n",
       "24385850  1999     1  2019      6   26  12:58  $-129.00   Chip Transaction   \n",
       "\n",
       "                Merchant Name Merchant City Merchant State  Zip   MCC Errors?  \\\n",
       "407       -727612092139916043        Zurich    Switzerland  NaN  5411     NaN   \n",
       "408      -4816289482172287511        Zurich    Switzerland  NaN  5411     NaN   \n",
       "906       3510944833163794547       Tallinn        Estonia  NaN  5912     NaN   \n",
       "907       8793545055147237096       Tallinn        Estonia  NaN  5812     NaN   \n",
       "908       2027553650310142703       Tallinn        Estonia  NaN  5541     NaN   \n",
       "...                       ...           ...            ...  ...   ...     ...   \n",
       "24385846  8467004869390085980  Buenos Aires      Argentina  NaN  4121     NaN   \n",
       "24385847 -8566951830324093739  Buenos Aires      Argentina  NaN  3640     NaN   \n",
       "24385848 -8566951830324093739  Buenos Aires      Argentina  NaN  3640     NaN   \n",
       "24385849   190253443608377572  Buenos Aires      Argentina  NaN  3359     NaN   \n",
       "24385850   190253443608377572  Buenos Aires      Argentina  NaN  3359     NaN   \n",
       "\n",
       "         Is Fraud?                     loc  \n",
       "407             No      Zurich Switzerland  \n",
       "408             No      Zurich Switzerland  \n",
       "906             No         Tallinn Estonia  \n",
       "907             No         Tallinn Estonia  \n",
       "908             No         Tallinn Estonia  \n",
       "...            ...                     ...  \n",
       "24385846        No  Buenos Aires Argentina  \n",
       "24385847        No  Buenos Aires Argentina  \n",
       "24385848        No  Buenos Aires Argentina  \n",
       "24385849        No  Buenos Aires Argentina  \n",
       "24385850        No  Buenos Aires Argentina  \n",
       "\n",
       "[157314 rows x 16 columns]"
      ]
     },
     "execution_count": 24,
     "metadata": {},
     "output_type": "execute_result"
    }
   ],
   "source": [
    "nan_not_online"
   ]
  },
  {
   "cell_type": "code",
   "execution_count": 31,
   "metadata": {},
   "outputs": [],
   "source": [
    "loc2zip = pd.DataFrame()\n",
    "loc2zip['loc'] = nan_not_online['loc']\n",
    "loc2zip.drop_duplicates(inplace=True)\n",
    "loc2zip.reset_index(drop=True, inplace=True)"
   ]
  },
  {
   "cell_type": "code",
   "execution_count": 33,
   "metadata": {},
   "outputs": [],
   "source": [
    "loc2zip['Latitude'] = loc2zip['loc'].map(map_lat_from_loc)\n",
    "loc2zip['Longitude'] = loc2zip['loc'].map(map_long_from_loc)"
   ]
  },
  {
   "cell_type": "code",
   "execution_count": 35,
   "metadata": {},
   "outputs": [
    {
     "data": {
      "text/html": [
       "<div>\n",
       "<style scoped>\n",
       "    .dataframe tbody tr th:only-of-type {\n",
       "        vertical-align: middle;\n",
       "    }\n",
       "\n",
       "    .dataframe tbody tr th {\n",
       "        vertical-align: top;\n",
       "    }\n",
       "\n",
       "    .dataframe thead th {\n",
       "        text-align: right;\n",
       "    }\n",
       "</style>\n",
       "<table border=\"1\" class=\"dataframe\">\n",
       "  <thead>\n",
       "    <tr style=\"text-align: right;\">\n",
       "      <th></th>\n",
       "      <th>loc</th>\n",
       "      <th>Latitude</th>\n",
       "      <th>Longitude</th>\n",
       "    </tr>\n",
       "  </thead>\n",
       "  <tbody>\n",
       "    <tr>\n",
       "      <th>29</th>\n",
       "      <td>Johannesberg South Africa</td>\n",
       "      <td>NaN</td>\n",
       "      <td>NaN</td>\n",
       "    </tr>\n",
       "    <tr>\n",
       "      <th>96</th>\n",
       "      <td>Pnomh Penh Cambodia</td>\n",
       "      <td>NaN</td>\n",
       "      <td>NaN</td>\n",
       "    </tr>\n",
       "    <tr>\n",
       "      <th>185</th>\n",
       "      <td>Bishek Kyrgyzstan</td>\n",
       "      <td>NaN</td>\n",
       "      <td>NaN</td>\n",
       "    </tr>\n",
       "    <tr>\n",
       "      <th>189</th>\n",
       "      <td>Dili East Timor (Timor-Leste)</td>\n",
       "      <td>NaN</td>\n",
       "      <td>NaN</td>\n",
       "    </tr>\n",
       "  </tbody>\n",
       "</table>\n",
       "</div>"
      ],
      "text/plain": [
       "                               loc  Latitude  Longitude\n",
       "29       Johannesberg South Africa       NaN        NaN\n",
       "96             Pnomh Penh Cambodia       NaN        NaN\n",
       "185              Bishek Kyrgyzstan       NaN        NaN\n",
       "189  Dili East Timor (Timor-Leste)       NaN        NaN"
      ]
     },
     "execution_count": 35,
     "metadata": {},
     "output_type": "execute_result"
    }
   ],
   "source": [
    "loc2zip[loc2zip['Latitude'].isna()]"
   ]
  },
  {
   "cell_type": "code",
   "execution_count": 46,
   "metadata": {},
   "outputs": [],
   "source": [
    "loc2zip_dict = {}\n",
    "for l in loc2zip['loc'].unique():\n",
    "    ll = {}\n",
    "    if l == 'Johannesberg South Africa':\n",
    "        ll['Latitude'] = -26.195\n",
    "        ll['Longitude'] = 28.034\n",
    "    elif l == 'Pnomh Penh Cambodia':\n",
    "        ll['Latitude'] = 11.562\n",
    "        ll['Longitude'] = 104.888\n",
    "    elif l == 'Bishek Kyrgyzstan':\n",
    "        ll['Latitude'] = 42.882\n",
    "        ll['Longitude'] = 74.582\n",
    "    elif l == 'Dili East Timor (Timor-Leste)':\n",
    "        ll['Latitude'] = -8.556\n",
    "        ll['Longitude'] = 125.560\n",
    "    else:\n",
    "        ll['Latitude'] = loc2zip[loc2zip['loc'] == l]['Latitude'].values[0]\n",
    "        ll['Longitude'] = loc2zip[loc2zip['loc'] == l]['Longitude'].values[0]\n",
    "    loc2zip_dict[l] = ll  "
   ]
  },
  {
   "cell_type": "code",
   "execution_count": 49,
   "metadata": {},
   "outputs": [
    {
     "name": "stderr",
     "output_type": "stream",
     "text": [
      "C:\\Users\\haelkordi\\AppData\\Local\\Temp\\ipykernel_23076\\912311970.py:7: SettingWithCopyWarning: \n",
      "A value is trying to be set on a copy of a slice from a DataFrame.\n",
      "Try using .loc[row_indexer,col_indexer] = value instead\n",
      "\n",
      "See the caveats in the documentation: https://pandas.pydata.org/pandas-docs/stable/user_guide/indexing.html#returning-a-view-versus-a-copy\n",
      "  nan_not_online['Latitude'] = nan_not_online['loc'].map(map_lat_from_loc)\n",
      "C:\\Users\\haelkordi\\AppData\\Local\\Temp\\ipykernel_23076\\912311970.py:8: SettingWithCopyWarning: \n",
      "A value is trying to be set on a copy of a slice from a DataFrame.\n",
      "Try using .loc[row_indexer,col_indexer] = value instead\n",
      "\n",
      "See the caveats in the documentation: https://pandas.pydata.org/pandas-docs/stable/user_guide/indexing.html#returning-a-view-versus-a-copy\n",
      "  nan_not_online['Longitude'] = nan_not_online['loc'].map(map_long_from_loc)\n"
     ]
    }
   ],
   "source": [
    "def map_lat_from_loc(loc):\n",
    "    return loc2zip_dict[loc]['Latitude']\n",
    "\n",
    "def map_long_from_loc(loc):\n",
    "    return loc2zip_dict[loc]['Longitude']\n",
    "\n",
    "nan_not_online['Latitude'] = nan_not_online['loc'].map(map_lat_from_loc)\n",
    "nan_not_online['Longitude'] = nan_not_online['loc'].map(map_long_from_loc)"
   ]
  },
  {
   "cell_type": "code",
   "execution_count": 52,
   "metadata": {},
   "outputs": [],
   "source": [
    "nan_not_online.drop(columns=['Merchant City', 'Merchant State', 'Zip', 'loc']).to_csv('./Data/AdjustedData/nan_not_online.csv', index=False)"
   ]
  },
  {
   "attachments": {},
   "cell_type": "markdown",
   "metadata": {},
   "source": [
    "# Handle Zip codes of non online transactions"
   ]
  },
  {
   "cell_type": "code",
   "execution_count": 4,
   "metadata": {},
   "outputs": [],
   "source": [
    "non_online = trans[(~trans.Zip.isna()) & (trans['Merchant City'] != 'ONLINE')]"
   ]
  },
  {
   "cell_type": "code",
   "execution_count": 5,
   "metadata": {},
   "outputs": [
    {
     "name": "stderr",
     "output_type": "stream",
     "text": [
      "C:\\Users\\haelkordi\\AppData\\Local\\Temp\\ipykernel_3732\\29739700.py:1: SettingWithCopyWarning: \n",
      "A value is trying to be set on a copy of a slice from a DataFrame.\n",
      "Try using .loc[row_indexer,col_indexer] = value instead\n",
      "\n",
      "See the caveats in the documentation: https://pandas.pydata.org/pandas-docs/stable/user_guide/indexing.html#returning-a-view-versus-a-copy\n",
      "  non_online.Zip = non_online.Zip.astype(int).astype(str)\n"
     ]
    }
   ],
   "source": [
    "non_online.Zip = non_online.Zip.astype(int).astype(str)"
   ]
  },
  {
   "cell_type": "code",
   "execution_count": 57,
   "metadata": {},
   "outputs": [],
   "source": [
    "zip2loc = pd.DataFrame()\n",
    "zip2loc['Zip'] = non_online['Zip']\n",
    "zip2loc.drop_duplicates(inplace=True)\n",
    "zip2loc.reset_index(drop=True, inplace=True)"
   ]
  },
  {
   "cell_type": "code",
   "execution_count": 59,
   "metadata": {},
   "outputs": [],
   "source": [
    "pgeo = pgeocode.Nominatim('us')"
   ]
  },
  {
   "cell_type": "code",
   "execution_count": 61,
   "metadata": {},
   "outputs": [],
   "source": [
    "def map_lat_from_loc(zip):\n",
    "    l = pgeo.query_postal_code(zip)\n",
    "    return l['latitude']\n",
    "\n",
    "def map_long_from_loc(zip):\n",
    "    l = pgeo.query_postal_code(zip)\n",
    "    return l['longitude']\n",
    "\n",
    "zip2loc['Latitude'] = zip2loc['Zip'].map(map_lat_from_loc)\n",
    "zip2loc['Longitude'] = zip2loc['Zip'].map(map_long_from_loc)"
   ]
  },
  {
   "cell_type": "code",
   "execution_count": 62,
   "metadata": {},
   "outputs": [],
   "source": [
    "zip2loc.to_csv('./Data/zip2loc.csv', index=False)"
   ]
  },
  {
   "cell_type": "code",
   "execution_count": 6,
   "metadata": {},
   "outputs": [],
   "source": [
    "zip2loc = pd.read_csv('./Data/zip2loc.csv')"
   ]
  },
  {
   "cell_type": "code",
   "execution_count": 7,
   "metadata": {},
   "outputs": [],
   "source": [
    "zip2loc.dropna(axis=0, inplace=True)"
   ]
  },
  {
   "cell_type": "code",
   "execution_count": 8,
   "metadata": {},
   "outputs": [],
   "source": [
    "zip2loc_dict = {}\n",
    "for l in zip2loc['Zip'].unique():\n",
    "    ll = {}\n",
    "    ll['Latitude'] = zip2loc[zip2loc['Zip'] == l]['Latitude'].values[0]\n",
    "    ll['Longitude'] = zip2loc[zip2loc['Zip'] == l]['Longitude'].values[0]\n",
    "    zip2loc_dict[l] = ll  "
   ]
  },
  {
   "cell_type": "code",
   "execution_count": null,
   "metadata": {},
   "outputs": [],
   "source": [
    "def map_lat_from_zip2loc(zip):\n",
    "    return zip2loc_dict[zip]['Latitude'] if zip in zip2loc.keys() else np.nan\n",
    "\n",
    "def map_long_from_zip2loc(zip):\n",
    "    return zip2loc_dict[zip]['Longitude'] if zip in zip2loc.keys() else np.nan\n",
    "\n",
    "non_online['Latitude'] = non_online['Zip'].map(map_lat_from_zip2loc)\n",
    "non_online['Longitude'] = non_online['Zip'].map(map_long_from_zip2loc)"
   ]
  },
  {
   "cell_type": "code",
   "execution_count": 60,
   "metadata": {},
   "outputs": [
    {
     "data": {
      "text/html": [
       "<div>\n",
       "<style scoped>\n",
       "    .dataframe tbody tr th:only-of-type {\n",
       "        vertical-align: middle;\n",
       "    }\n",
       "\n",
       "    .dataframe tbody tr th {\n",
       "        vertical-align: top;\n",
       "    }\n",
       "\n",
       "    .dataframe thead th {\n",
       "        text-align: right;\n",
       "    }\n",
       "</style>\n",
       "<table border=\"1\" class=\"dataframe\">\n",
       "  <thead>\n",
       "    <tr style=\"text-align: right;\">\n",
       "      <th></th>\n",
       "      <th>User</th>\n",
       "      <th>Card</th>\n",
       "      <th>Year</th>\n",
       "      <th>Month</th>\n",
       "      <th>Day</th>\n",
       "      <th>Time</th>\n",
       "      <th>Amount</th>\n",
       "      <th>Use Chip</th>\n",
       "      <th>Merchant Name</th>\n",
       "      <th>Merchant City</th>\n",
       "      <th>Merchant State</th>\n",
       "      <th>Zip</th>\n",
       "      <th>MCC</th>\n",
       "      <th>Errors?</th>\n",
       "      <th>Is Fraud?</th>\n",
       "      <th>Latitude</th>\n",
       "      <th>Longitude</th>\n",
       "    </tr>\n",
       "  </thead>\n",
       "  <tbody>\n",
       "    <tr>\n",
       "      <th>0</th>\n",
       "      <td>0</td>\n",
       "      <td>0</td>\n",
       "      <td>2002</td>\n",
       "      <td>9</td>\n",
       "      <td>1</td>\n",
       "      <td>06:21</td>\n",
       "      <td>$134.09</td>\n",
       "      <td>Swipe Transaction</td>\n",
       "      <td>3527213246127876953</td>\n",
       "      <td>La Verne</td>\n",
       "      <td>CA</td>\n",
       "      <td>91750</td>\n",
       "      <td>5300</td>\n",
       "      <td>NaN</td>\n",
       "      <td>No</td>\n",
       "      <td>NaN</td>\n",
       "      <td>NaN</td>\n",
       "    </tr>\n",
       "    <tr>\n",
       "      <th>1</th>\n",
       "      <td>0</td>\n",
       "      <td>0</td>\n",
       "      <td>2002</td>\n",
       "      <td>9</td>\n",
       "      <td>1</td>\n",
       "      <td>06:42</td>\n",
       "      <td>$38.48</td>\n",
       "      <td>Swipe Transaction</td>\n",
       "      <td>-727612092139916043</td>\n",
       "      <td>Monterey Park</td>\n",
       "      <td>CA</td>\n",
       "      <td>91754</td>\n",
       "      <td>5411</td>\n",
       "      <td>NaN</td>\n",
       "      <td>No</td>\n",
       "      <td>NaN</td>\n",
       "      <td>NaN</td>\n",
       "    </tr>\n",
       "    <tr>\n",
       "      <th>2</th>\n",
       "      <td>0</td>\n",
       "      <td>0</td>\n",
       "      <td>2002</td>\n",
       "      <td>9</td>\n",
       "      <td>2</td>\n",
       "      <td>06:22</td>\n",
       "      <td>$120.34</td>\n",
       "      <td>Swipe Transaction</td>\n",
       "      <td>-727612092139916043</td>\n",
       "      <td>Monterey Park</td>\n",
       "      <td>CA</td>\n",
       "      <td>91754</td>\n",
       "      <td>5411</td>\n",
       "      <td>NaN</td>\n",
       "      <td>No</td>\n",
       "      <td>NaN</td>\n",
       "      <td>NaN</td>\n",
       "    </tr>\n",
       "    <tr>\n",
       "      <th>3</th>\n",
       "      <td>0</td>\n",
       "      <td>0</td>\n",
       "      <td>2002</td>\n",
       "      <td>9</td>\n",
       "      <td>2</td>\n",
       "      <td>17:45</td>\n",
       "      <td>$128.95</td>\n",
       "      <td>Swipe Transaction</td>\n",
       "      <td>3414527459579106770</td>\n",
       "      <td>Monterey Park</td>\n",
       "      <td>CA</td>\n",
       "      <td>91754</td>\n",
       "      <td>5651</td>\n",
       "      <td>NaN</td>\n",
       "      <td>No</td>\n",
       "      <td>NaN</td>\n",
       "      <td>NaN</td>\n",
       "    </tr>\n",
       "    <tr>\n",
       "      <th>4</th>\n",
       "      <td>0</td>\n",
       "      <td>0</td>\n",
       "      <td>2002</td>\n",
       "      <td>9</td>\n",
       "      <td>3</td>\n",
       "      <td>06:23</td>\n",
       "      <td>$104.71</td>\n",
       "      <td>Swipe Transaction</td>\n",
       "      <td>5817218446178736267</td>\n",
       "      <td>La Verne</td>\n",
       "      <td>CA</td>\n",
       "      <td>91750</td>\n",
       "      <td>5912</td>\n",
       "      <td>NaN</td>\n",
       "      <td>No</td>\n",
       "      <td>NaN</td>\n",
       "      <td>NaN</td>\n",
       "    </tr>\n",
       "    <tr>\n",
       "      <th>...</th>\n",
       "      <td>...</td>\n",
       "      <td>...</td>\n",
       "      <td>...</td>\n",
       "      <td>...</td>\n",
       "      <td>...</td>\n",
       "      <td>...</td>\n",
       "      <td>...</td>\n",
       "      <td>...</td>\n",
       "      <td>...</td>\n",
       "      <td>...</td>\n",
       "      <td>...</td>\n",
       "      <td>...</td>\n",
       "      <td>...</td>\n",
       "      <td>...</td>\n",
       "      <td>...</td>\n",
       "      <td>...</td>\n",
       "      <td>...</td>\n",
       "    </tr>\n",
       "    <tr>\n",
       "      <th>24386895</th>\n",
       "      <td>1999</td>\n",
       "      <td>1</td>\n",
       "      <td>2020</td>\n",
       "      <td>2</td>\n",
       "      <td>27</td>\n",
       "      <td>22:23</td>\n",
       "      <td>$-54.00</td>\n",
       "      <td>Chip Transaction</td>\n",
       "      <td>-5162038175624867091</td>\n",
       "      <td>Merrimack</td>\n",
       "      <td>NH</td>\n",
       "      <td>3054</td>\n",
       "      <td>5541</td>\n",
       "      <td>NaN</td>\n",
       "      <td>No</td>\n",
       "      <td>NaN</td>\n",
       "      <td>NaN</td>\n",
       "    </tr>\n",
       "    <tr>\n",
       "      <th>24386896</th>\n",
       "      <td>1999</td>\n",
       "      <td>1</td>\n",
       "      <td>2020</td>\n",
       "      <td>2</td>\n",
       "      <td>27</td>\n",
       "      <td>22:24</td>\n",
       "      <td>$54.00</td>\n",
       "      <td>Chip Transaction</td>\n",
       "      <td>-5162038175624867091</td>\n",
       "      <td>Merrimack</td>\n",
       "      <td>NH</td>\n",
       "      <td>3054</td>\n",
       "      <td>5541</td>\n",
       "      <td>NaN</td>\n",
       "      <td>No</td>\n",
       "      <td>NaN</td>\n",
       "      <td>NaN</td>\n",
       "    </tr>\n",
       "    <tr>\n",
       "      <th>24386897</th>\n",
       "      <td>1999</td>\n",
       "      <td>1</td>\n",
       "      <td>2020</td>\n",
       "      <td>2</td>\n",
       "      <td>28</td>\n",
       "      <td>07:43</td>\n",
       "      <td>$59.15</td>\n",
       "      <td>Chip Transaction</td>\n",
       "      <td>2500998799892805156</td>\n",
       "      <td>Merrimack</td>\n",
       "      <td>NH</td>\n",
       "      <td>3054</td>\n",
       "      <td>4121</td>\n",
       "      <td>NaN</td>\n",
       "      <td>No</td>\n",
       "      <td>NaN</td>\n",
       "      <td>NaN</td>\n",
       "    </tr>\n",
       "    <tr>\n",
       "      <th>24386898</th>\n",
       "      <td>1999</td>\n",
       "      <td>1</td>\n",
       "      <td>2020</td>\n",
       "      <td>2</td>\n",
       "      <td>28</td>\n",
       "      <td>20:10</td>\n",
       "      <td>$43.12</td>\n",
       "      <td>Chip Transaction</td>\n",
       "      <td>2500998799892805156</td>\n",
       "      <td>Merrimack</td>\n",
       "      <td>NH</td>\n",
       "      <td>3054</td>\n",
       "      <td>4121</td>\n",
       "      <td>NaN</td>\n",
       "      <td>No</td>\n",
       "      <td>NaN</td>\n",
       "      <td>NaN</td>\n",
       "    </tr>\n",
       "    <tr>\n",
       "      <th>24386899</th>\n",
       "      <td>1999</td>\n",
       "      <td>1</td>\n",
       "      <td>2020</td>\n",
       "      <td>2</td>\n",
       "      <td>28</td>\n",
       "      <td>23:10</td>\n",
       "      <td>$45.13</td>\n",
       "      <td>Chip Transaction</td>\n",
       "      <td>4751695835751691036</td>\n",
       "      <td>Merrimack</td>\n",
       "      <td>NH</td>\n",
       "      <td>3054</td>\n",
       "      <td>5814</td>\n",
       "      <td>NaN</td>\n",
       "      <td>No</td>\n",
       "      <td>NaN</td>\n",
       "      <td>NaN</td>\n",
       "    </tr>\n",
       "  </tbody>\n",
       "</table>\n",
       "<p>21508765 rows × 17 columns</p>\n",
       "</div>"
      ],
      "text/plain": [
       "          User  Card  Year  Month  Day   Time   Amount           Use Chip  \\\n",
       "0            0     0  2002      9    1  06:21  $134.09  Swipe Transaction   \n",
       "1            0     0  2002      9    1  06:42   $38.48  Swipe Transaction   \n",
       "2            0     0  2002      9    2  06:22  $120.34  Swipe Transaction   \n",
       "3            0     0  2002      9    2  17:45  $128.95  Swipe Transaction   \n",
       "4            0     0  2002      9    3  06:23  $104.71  Swipe Transaction   \n",
       "...        ...   ...   ...    ...  ...    ...      ...                ...   \n",
       "24386895  1999     1  2020      2   27  22:23  $-54.00   Chip Transaction   \n",
       "24386896  1999     1  2020      2   27  22:24   $54.00   Chip Transaction   \n",
       "24386897  1999     1  2020      2   28  07:43   $59.15   Chip Transaction   \n",
       "24386898  1999     1  2020      2   28  20:10   $43.12   Chip Transaction   \n",
       "24386899  1999     1  2020      2   28  23:10   $45.13   Chip Transaction   \n",
       "\n",
       "                Merchant Name  Merchant City Merchant State    Zip   MCC  \\\n",
       "0         3527213246127876953       La Verne             CA  91750  5300   \n",
       "1         -727612092139916043  Monterey Park             CA  91754  5411   \n",
       "2         -727612092139916043  Monterey Park             CA  91754  5411   \n",
       "3         3414527459579106770  Monterey Park             CA  91754  5651   \n",
       "4         5817218446178736267       La Verne             CA  91750  5912   \n",
       "...                       ...            ...            ...    ...   ...   \n",
       "24386895 -5162038175624867091      Merrimack             NH   3054  5541   \n",
       "24386896 -5162038175624867091      Merrimack             NH   3054  5541   \n",
       "24386897  2500998799892805156      Merrimack             NH   3054  4121   \n",
       "24386898  2500998799892805156      Merrimack             NH   3054  4121   \n",
       "24386899  4751695835751691036      Merrimack             NH   3054  5814   \n",
       "\n",
       "         Errors? Is Fraud?  Latitude  Longitude  \n",
       "0            NaN        No       NaN        NaN  \n",
       "1            NaN        No       NaN        NaN  \n",
       "2            NaN        No       NaN        NaN  \n",
       "3            NaN        No       NaN        NaN  \n",
       "4            NaN        No       NaN        NaN  \n",
       "...          ...       ...       ...        ...  \n",
       "24386895     NaN        No       NaN        NaN  \n",
       "24386896     NaN        No       NaN        NaN  \n",
       "24386897     NaN        No       NaN        NaN  \n",
       "24386898     NaN        No       NaN        NaN  \n",
       "24386899     NaN        No       NaN        NaN  \n",
       "\n",
       "[21508765 rows x 17 columns]"
      ]
     },
     "execution_count": 60,
     "metadata": {},
     "output_type": "execute_result"
    }
   ],
   "source": [
    "non_online_nans = non_online[non_online.Latitude.isna()]\n",
    "non_online_nans"
   ]
  },
  {
   "cell_type": "code",
   "execution_count": 61,
   "metadata": {},
   "outputs": [],
   "source": [
    "non_online_nans['loc'] = non_online_nans['Merchant City'] + ' ' + non_online_nans['Merchant State']"
   ]
  },
  {
   "cell_type": "code",
   "execution_count": null,
   "metadata": {},
   "outputs": [],
   "source": [
    "from tqdm import tqdm\n",
    "\n",
    "loc = {}\n",
    "for l in tqdm(non_online_nans['loc'].unique()):\n",
    "    ll = geolocator.geocode(l)\n",
    "    loc[l] = ll"
   ]
  },
  {
   "cell_type": "code",
   "execution_count": 34,
   "metadata": {},
   "outputs": [],
   "source": [
    "geolocator = Nominatim(user_agent=\"geoapiExercises\")"
   ]
  },
  {
   "cell_type": "code",
   "execution_count": 36,
   "metadata": {},
   "outputs": [
    {
     "data": {
      "text/plain": [
       "Location(Chicago park, Vincennes, Knox County, Indiana, United States, (38.694994949999995, -87.50869204289171, 0.0))"
      ]
     },
     "execution_count": 36,
     "metadata": {},
     "output_type": "execute_result"
    }
   ],
   "source": [
    "geolocator.geocode('Chicago Park')"
   ]
  },
  {
   "cell_type": "code",
   "execution_count": 38,
   "metadata": {},
   "outputs": [],
   "source": [
    "erroneous = []"
   ]
  },
  {
   "cell_type": "code",
   "execution_count": 39,
   "metadata": {},
   "outputs": [
    {
     "name": "stderr",
     "output_type": "stream",
     "text": [
      "100%|██████████| 20135/20135 [58:09<00:00,  5.77it/s]  \n"
     ]
    }
   ],
   "source": [
    "for l in tqdm(non_online_nans['loc'].unique()):\n",
    "    if l in loc.keys():\n",
    "        continue\n",
    "    try:\n",
    "        ll = geolocator.geocode(l)\n",
    "        loc[l] = ll\n",
    "    except:\n",
    "        erroneous.append(l)"
   ]
  },
  {
   "cell_type": "code",
   "execution_count": 56,
   "metadata": {},
   "outputs": [],
   "source": [
    "loc['Chicago Park CA'] = geolocator.geocode('Chicago park')\n",
    "loc['Shaw A F B SC'] = geolocator.geocode('Shaw AFB SC')"
   ]
  },
  {
   "cell_type": "code",
   "execution_count": 66,
   "metadata": {},
   "outputs": [
    {
     "data": {
      "text/plain": [
       "20136"
      ]
     },
     "execution_count": 66,
     "metadata": {},
     "output_type": "execute_result"
    }
   ],
   "source": [
    "len(loc.keys())"
   ]
  },
  {
   "cell_type": "code",
   "execution_count": 62,
   "metadata": {},
   "outputs": [],
   "source": [
    "def map_lat_from_loc_1(l):\n",
    "    l = loc[l]\n",
    "    return l[-1][0] if l is not None else np.nan\n",
    "\n",
    "def map_long_from_loc_1(l):\n",
    "    l = loc[l]\n",
    "    return l[-1][1] if l is not None else np.nan\n",
    "\n",
    "non_online_nans['Latitude'] = non_online_nans['loc'].map(map_lat_from_loc_1)\n",
    "non_online_nans['Longitude'] = non_online_nans['loc'].map(map_long_from_loc_1)"
   ]
  },
  {
   "cell_type": "code",
   "execution_count": 143,
   "metadata": {},
   "outputs": [],
   "source": [
    "non_online_nans.to_csv('./Data/AdjustedData/non_online.csv', index=False)"
   ]
  },
  {
   "cell_type": "code",
   "execution_count": 70,
   "metadata": {},
   "outputs": [],
   "source": [
    "rem = list(non_online_nans[non_online_nans.Latitude.isna()]['loc'].drop_duplicates())"
   ]
  },
  {
   "cell_type": "code",
   "execution_count": 125,
   "metadata": {},
   "outputs": [
    {
     "data": {
      "text/plain": [
       "['Diboll TX',\n",
       " 'Purdon TX',\n",
       " 'Kopperl TX',\n",
       " 'Colmesneil TX',\n",
       " 'Ben Bolt TX',\n",
       " 'Boling TX',\n",
       " 'Yatahey NM',\n",
       " 'Thrall TX',\n",
       " 'Elm Mott TX',\n",
       " 'Gause TX',\n",
       " 'Marion Station MD',\n",
       " 'Garciasville TX',\n",
       " 'Saint Hedwig TX',\n",
       " 'Etoile TX',\n",
       " 'La Vernia TX',\n",
       " 'Olton TX',\n",
       " 'Ropesville TX',\n",
       " 'Pineland TX',\n",
       " 'Chillicothe TX',\n",
       " 'Onalaska TX',\n",
       " 'Glendale Luke Afb AZ',\n",
       " 'Gordonville TX',\n",
       " 'Snook TX',\n",
       " 'La Fayette GA',\n",
       " 'De Mossville KY',\n",
       " 'China Spring TX',\n",
       " 'Brookeland TX',\n",
       " 'Smokerun PA',\n",
       " 'Moscow TX',\n",
       " 'Tolar TX',\n",
       " 'Cookville TX',\n",
       " 'Quemado TX',\n",
       " 'Annona TX',\n",
       " 'Collinsville TX',\n",
       " 'Hillister TX',\n",
       " 'U S A F Academy CO',\n",
       " 'Telferner TX',\n",
       " 'Iola TX',\n",
       " 'Mullin TX',\n",
       " 'Batesville TX',\n",
       " 'Muenster TX',\n",
       " 'Bon Wier TX',\n",
       " 'Yancey TX',\n",
       " 'San Ygnacio TX',\n",
       " 'Fe Warren Afb WY',\n",
       " 'Newark TX',\n",
       " 'La Pryor TX',\n",
       " 'Knippa TX',\n",
       " 'Forestburg TX',\n",
       " 'Spurger TX',\n",
       " 'Bangs TX',\n",
       " 'Naval Air Station/ Jrb TX',\n",
       " 'Reynolds Station KY',\n",
       " 'Mapleton Depot PA',\n",
       " 'Poth TX',\n",
       " 'J B P H H HI',\n",
       " 'Orangefield TX',\n",
       " 'Asherton TX',\n",
       " 'Brookston TX',\n",
       " 'Tuscola TX',\n",
       " 'Odonnell TX',\n",
       " 'Saint Jo TX',\n",
       " 'Newhebron MS',\n",
       " 'Sutherland Springs TX',\n",
       " 'Scroggins TX']"
      ]
     },
     "execution_count": 125,
     "metadata": {},
     "output_type": "execute_result"
    }
   ],
   "source": [
    "rem"
   ]
  },
  {
   "cell_type": "code",
   "execution_count": 107,
   "metadata": {},
   "outputs": [],
   "source": [
    "rem_dict = {}\n",
    "for l in rem:\n",
    "    f = l.replace('Mc ', 'Mc').replace('A F B', 'AFB')\n",
    "    if f != l:\n",
    "        ll = geolocator.geocode(f)\n",
    "        if ll is None:\n",
    "            f = ' '.join(f.split(' ')[:-1])\n",
    "            ll = geolocator.geocode(f)\n",
    "        rem_dict[l] = ll"
   ]
  },
  {
   "cell_type": "code",
   "execution_count": 108,
   "metadata": {},
   "outputs": [
    {
     "data": {
      "text/plain": [
       "37"
      ]
     },
     "execution_count": 108,
     "metadata": {},
     "output_type": "execute_result"
    }
   ],
   "source": [
    "len(rem_dict.keys())"
   ]
  },
  {
   "cell_type": "code",
   "execution_count": 111,
   "metadata": {},
   "outputs": [],
   "source": [
    "for k in rem_dict.keys():\n",
    "    rem.remove(k)"
   ]
  },
  {
   "cell_type": "code",
   "execution_count": 109,
   "metadata": {},
   "outputs": [
    {
     "data": {
      "text/plain": [
       "{'Lackland A F B TX': Location(Country Inn & Suites, 6502, Enrique M Barrera Parkway, Westwood Village, San Antonio, Bexar County, 78227, United States, (29.4056425, -98.61735335834058, 0.0)),\n",
       " 'Mc Rae AR': Location(McRae, White County, Arkansas, United States, (35.1137095, -91.8217004, 0.0)),\n",
       " 'Mc Connellsburg PA': Location(McConnellsburg, Fulton County, Pennsylvania, United States, (39.932589, -77.9988906, 0.0)),\n",
       " 'Mc Louth KS': Location(McLouth, Jefferson County, Kansas, United States, (39.1958333, -95.2083035, 0.0)),\n",
       " 'Mc Camey TX': Location(McCamey, Upton County, 79752, United States, (31.1315474, -102.222393, 0.0)),\n",
       " 'Fort Mc Coy FL': Location(Fort McCoy, Marion County, Florida, 34489, United States, (29.3649734, -81.9670322, 0.0)),\n",
       " 'Mc Calla AL': Location(McCalla, Jefferson County, Alabama, United States, (33.3062319, -87.0241656, 0.0)),\n",
       " 'Mc Nabb IL': Location(McNabb, Putnam County, Illinois, United States, (41.1769799, -89.2092522, 0.0)),\n",
       " 'Mc Rae GA': Location(US 280;US 319;US 441;GA 30;GA 31, McRae–Helena, Telfair County, Georgia, 31055, United States, (32.078885, -82.89267, 0.0)),\n",
       " 'Mc Leansboro IL': Location(McLeansboro, Hamilton County, Illinois, 62859, United States, (38.0933811, -88.5356076, 0.0)),\n",
       " 'Mc Cordsville IN': Location(McCordsville, Hancock County, Indiana, 46055, United States, (39.8939648, -85.9219417, 0.0)),\n",
       " 'Mc Gaheysville VA': Location(McGaheysville, Rockingham County, Virginia, 22840, United States, (38.3712399, -78.7322449, 0.0)),\n",
       " 'Mc Gregor TX': Location(McGregor, Northeast 1st Street, McGregor, McLennan County, 76657, United States, (31.4434196, -97.4046997, 0.0)),\n",
       " 'Mc Sherrystown PA': Location(McSherrystown, Adams County, Pennsylvania, 17344, United States, (39.8073216, -77.0113699, 0.0)),\n",
       " 'Mc Afee NJ': Location(McAfee, Vernon Township, Sussex County, New Jersey, 07428, United States, (41.1784291, -74.5404371, 0.0)),\n",
       " 'Mc Crory AR': Location(McCrory, Woodruff County, Arkansas, United States, (35.2561979, -91.2001246, 0.0)),\n",
       " 'Mc Caysville GA': Location(McCaysville, Fannin County, Georgia, United States, (34.9861914, -84.3713117, 0.0)),\n",
       " 'Mc Queeney TX': Location(McQueeney, Guadalupe County, 78123, United States, (29.5921732, -98.0333396, 0.0)),\n",
       " 'Mc Daniels KY': Location(McDaniels, Breckinridge County, Kentucky, 40152, United States, (37.6067229, -86.4249784, 0.0)),\n",
       " 'Mc Carr KY': Location(McCarr, Pike County, Kentucky, 41544, United States, (37.610938, -82.1698566, 0.0)),\n",
       " 'Mc Cutchenville OH': Location(McCutchenville, Tymochtee Township, Wyandot County, Ohio, United States, (40.9885107, -83.25625073042931, 0.0)),\n",
       " 'East Mc Keesport PA': Location(East McKeesport, Allegheny County, Pennsylvania, United States, (40.3831247, -79.806436, 0.0)),\n",
       " 'Mc Ewen TN': Location(McEwen, Humphreys County, Middle Tennessee, Tennessee, 37101, United States, (36.1099172, -87.6349344, 0.0)),\n",
       " 'Mc Cool MS': Location(McCool, Attala County, Mississippi, United States, (33.2020707, -89.3450703, 0.0)),\n",
       " 'Mc Coll SC': Location(McColl, Marlboro County, South Carolina, 29570, United States, (34.6687714, -79.5453297, 0.0)),\n",
       " 'Mc Bain MI': Location(McBain, Missaukee County, Michigan, United States, (44.193623, -85.213376, 0.0)),\n",
       " 'Mc Veytown PA': Location(McVeytown, Mifflin County, Pennsylvania, United States, (40.4979121, -77.7414033, 0.0)),\n",
       " 'Mc Caskill AR': Location(McCaskill, Hempstead County, Arkansas, 71847, United States, (33.9170727, -93.6414756, 0.0)),\n",
       " 'Mc Connells SC': Location(McConnells, York County, South Carolina, 29726, United States, (34.8687483, -81.2275817, 0.0)),\n",
       " 'Mc Cool Junction NE': Location(McCool Junction, York County, Nebraska, United States, (40.7442155, -97.5935135, 0.0)),\n",
       " 'Mc Alisterville PA': Location(McAlisterville, Juniata County, Pennsylvania, United States, (40.639367, -77.27733503135406, 0.0)),\n",
       " 'Mc Dade TX': Location(McDade Park, Dumas, Moore County, 79029, United States, (35.8495106, -101.96722771872592, 0.0)),\n",
       " 'Mc Henry MD': Location(McHenry, Garrett County, Maryland, 21541, United States, (39.5584217, -79.3528174, 0.0)),\n",
       " 'Mc Clellanville SC': Location(McClellanville, Charleston County, South Carolina, United States, (33.0882246, -79.4611743, 0.0)),\n",
       " 'Mc Clellandtown PA': Location(McClellandtown, German Township, Fayette County, Pennsylvania, 15458, United States, (39.8870205, -79.8667169, 0.0)),\n",
       " 'Mountain Home A F B ID': Location(Mountain Home Air Force Base, Beech Street, Elmore County, Idaho, 83648, United States, (43.04683355, -115.87639414293614, 0.0)),\n",
       " 'Mc Carley MS': Location(McCarley, Carroll County, Mississippi, 38943, United States, (33.5231775, -89.8339716, 0.0))}"
      ]
     },
     "execution_count": 109,
     "metadata": {},
     "output_type": "execute_result"
    }
   ],
   "source": [
    "rem_dict"
   ]
  },
  {
   "cell_type": "code",
   "execution_count": null,
   "metadata": {},
   "outputs": [],
   "source": [
    " 'J B P H H HI'"
   ]
  },
  {
   "cell_type": "code",
   "execution_count": 142,
   "metadata": {},
   "outputs": [],
   "source": [
    "geolocator.geocode('JBPHH HI')"
   ]
  },
  {
   "cell_type": "code",
   "execution_count": 124,
   "metadata": {},
   "outputs": [],
   "source": [
    "loc['Lackland A F B TX'] = geolocator.geocode('Lackland AFB TX')\n",
    "loc['Diboll TX'] = geolocator.geocode('Diboll')\n",
    "loc['Mc Rae AR'] = geolocator.geocode('McRae AR')\n",
    "loc['Mc Connellsburg PA'] = geolocator.geocode('Mc Connellsburg PA')\n",
    "loc['Purdon TX'] = geolocator.geocode('Purdon')\n",
    "loc['M C B H Kaneohe Bay HI'] = geolocator.geocode('Kaneohe Bay')"
   ]
  },
  {
   "cell_type": "code",
   "execution_count": 128,
   "metadata": {},
   "outputs": [],
   "source": [
    "loc['U S A F Academy CO'] = geolocator.geocode('USAF Academy CO')"
   ]
  },
  {
   "cell_type": "code",
   "execution_count": 133,
   "metadata": {},
   "outputs": [],
   "source": [
    "loc['Naval Air Station/ Jrb TX'] = geolocator.geocode('Naval Air Station TX')"
   ]
  },
  {
   "cell_type": "code",
   "execution_count": null,
   "metadata": {},
   "outputs": [],
   "source": []
  }
 ],
 "metadata": {
  "kernelspec": {
   "display_name": "py39",
   "language": "python",
   "name": "python3"
  },
  "language_info": {
   "codemirror_mode": {
    "name": "ipython",
    "version": 3
   },
   "file_extension": ".py",
   "mimetype": "text/x-python",
   "name": "python",
   "nbconvert_exporter": "python",
   "pygments_lexer": "ipython3",
   "version": "3.9.12"
  },
  "orig_nbformat": 4,
  "vscode": {
   "interpreter": {
    "hash": "78274f11d02abe01282ab0a43a111750ecce5551d51b9a2e8f18a2a15cb4f073"
   }
  }
 },
 "nbformat": 4,
 "nbformat_minor": 2
}
