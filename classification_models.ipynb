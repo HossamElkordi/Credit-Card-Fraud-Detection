{
 "cells": [
  {
   "cell_type": "code",
   "execution_count": 1,
   "metadata": {},
   "outputs": [],
   "source": [
    "import os\n",
    "import joblib\n",
    "import random\n",
    "import numpy as np\n",
    "import pandas as pd\n",
    "import datetime as dt\n",
    "from tqdm import tqdm\n",
    "import lightgbm as lgb\n",
    "import tensorflow as tf\n",
    "from tensorflow import keras\n",
    "from keras import layers, Model\n",
    "from matplotlib import pyplot as plt\n",
    "from sklearn.utils.class_weight import compute_class_weight\n",
    "from sklearn.model_selection import train_test_split, GridSearchCV\n",
    "from sklearn.preprocessing import LabelEncoder, OneHotEncoder, MinMaxScaler"
   ]
  },
  {
   "attachments": {},
   "cell_type": "markdown",
   "metadata": {},
   "source": [
    "# Loading and Preparing Data"
   ]
  },
  {
   "cell_type": "code",
   "execution_count": 2,
   "metadata": {},
   "outputs": [],
   "source": [
    "users = pd.read_csv('./Data/users.csv')\n",
    "cards = pd.read_csv('./Data/cards.csv')\n",
    "trans = pd.read_csv('./Data/transactions.csv')"
   ]
  },
  {
   "cell_type": "code",
   "execution_count": 3,
   "metadata": {},
   "outputs": [],
   "source": [
    "users_needed_cols = ['Current Age', 'Retirement Age', 'Gender', 'Zipcode', 'Per Capita Income - Zipcode', \n",
    "                    'Yearly Income - Person', 'Total Debt', 'FICO Score', 'Num Credit Cards']\n",
    "cards_needed_cols = ['User', 'CARD INDEX', 'Year PIN last Changed', 'Acct Open Date', 'Expires', 'Card Duration', \n",
    "                    'Has Chip', 'Cards Issued', 'Credit Limit', 'Visa', 'Mastercard', 'Discover', 'Amex', 'Debit', \n",
    "                    'Credit', 'Debit (Prepaid)']\n",
    "trans_needed_cols = ['User', 'Card', 'Time', 'Time From Now', 'Amount', 'Merchant Name', 'Merchant City', \n",
    "                    'Merchant State', 'Zip', 'MCC', 'Errors?', 'Swipe Transaction', 'Online Transaction', \n",
    "                    'Chip Transaction', 'Is Fraud?']"
   ]
  },
  {
   "cell_type": "code",
   "execution_count": 4,
   "metadata": {},
   "outputs": [],
   "source": [
    "data_prep_models = {}"
   ]
  },
  {
   "attachments": {},
   "cell_type": "markdown",
   "metadata": {},
   "source": [
    "## Handling Zip Codes"
   ]
  },
  {
   "cell_type": "code",
   "execution_count": 5,
   "metadata": {},
   "outputs": [],
   "source": [
    "zip = pd.concat([users.Zipcode, trans.Zip.fillna(0).astype(int)])\n",
    "zip_encoder = LabelEncoder()\n",
    "zip_encoder.fit_transform(zip)\n",
    "users.Zipcode = zip_encoder.transform(users.Zipcode)\n",
    "trans.Zip = zip_encoder.transform(trans.Zip.fillna(0).astype(int))\n",
    "data_prep_models['zip_encoder'] = zip_encoder"
   ]
  },
  {
   "cell_type": "code",
   "execution_count": 6,
   "metadata": {},
   "outputs": [
    {
     "data": {
      "text/plain": [
       "(33, 27247)"
      ]
     },
     "execution_count": 6,
     "metadata": {},
     "output_type": "execute_result"
    }
   ],
   "source": [
    "users['Zipcode'].min(), users['Zipcode'].max()"
   ]
  },
  {
   "cell_type": "code",
   "execution_count": 7,
   "metadata": {},
   "outputs": [
    {
     "data": {
      "text/plain": [
       "(0, 27321)"
      ]
     },
     "execution_count": 7,
     "metadata": {},
     "output_type": "execute_result"
    }
   ],
   "source": [
    "trans['Zip'].min(), trans['Zip'].max()"
   ]
  },
  {
   "cell_type": "code",
   "execution_count": 8,
   "metadata": {},
   "outputs": [],
   "source": [
    "users['Zipcode'] = users['Zipcode'].astype(np.uint16)\n",
    "trans['Zip'] = trans['Zip'].astype(np.uint16)"
   ]
  },
  {
   "attachments": {},
   "cell_type": "markdown",
   "metadata": {},
   "source": [
    "## Handling User Ages"
   ]
  },
  {
   "cell_type": "code",
   "execution_count": 9,
   "metadata": {},
   "outputs": [
    {
     "data": {
      "text/plain": [
       "(Current Age       18\n",
       " Retirement Age    50\n",
       " dtype: int64,\n",
       " Current Age       101\n",
       " Retirement Age     79\n",
       " dtype: int64)"
      ]
     },
     "execution_count": 9,
     "metadata": {},
     "output_type": "execute_result"
    }
   ],
   "source": [
    "users[['Current Age', 'Retirement Age']].min(), users[['Current Age', 'Retirement Age']].max()"
   ]
  },
  {
   "cell_type": "code",
   "execution_count": 10,
   "metadata": {},
   "outputs": [],
   "source": [
    "users['Current Age'] = users['Current Age'].astype(np.uint8)\n",
    "users['Retirement Age'] = users['Retirement Age'].astype(np.uint8)"
   ]
  },
  {
   "attachments": {},
   "cell_type": "markdown",
   "metadata": {},
   "source": [
    "## Handling User Gender"
   ]
  },
  {
   "cell_type": "code",
   "execution_count": 11,
   "metadata": {},
   "outputs": [
    {
     "data": {
      "text/plain": [
       "Female    1016\n",
       "Male       984\n",
       "Name: Gender, dtype: int64"
      ]
     },
     "execution_count": 11,
     "metadata": {},
     "output_type": "execute_result"
    }
   ],
   "source": [
    "users['Gender'].value_counts()"
   ]
  },
  {
   "cell_type": "code",
   "execution_count": 12,
   "metadata": {},
   "outputs": [],
   "source": [
    "gender_encoder = LabelEncoder()\n",
    "gender_encoder.fit_transform(users['Gender'])\n",
    "users['Gender'] = gender_encoder.transform(users['Gender'])\n",
    "data_prep_models['gender_encoder'] = gender_encoder"
   ]
  },
  {
   "attachments": {},
   "cell_type": "markdown",
   "metadata": {},
   "source": [
    "## Handling Money"
   ]
  },
  {
   "cell_type": "code",
   "execution_count": 13,
   "metadata": {},
   "outputs": [],
   "source": [
    "users['Per Capita Income - Zipcode'] = users['Per Capita Income - Zipcode'].str.replace('$', '', regex=True).astype(int)\n",
    "users['Yearly Income - Person'] = users['Yearly Income - Person'].str.replace('$', '', regex=True).astype(int)\n",
    "users['Total Debt'] = users['Total Debt'].str.replace('$', '', regex=True).astype(int)"
   ]
  },
  {
   "attachments": {},
   "cell_type": "markdown",
   "metadata": {},
   "source": [
    "## Handling FICO Score"
   ]
  },
  {
   "cell_type": "code",
   "execution_count": 14,
   "metadata": {},
   "outputs": [
    {
     "data": {
      "text/plain": [
       "(480, 850)"
      ]
     },
     "execution_count": 14,
     "metadata": {},
     "output_type": "execute_result"
    }
   ],
   "source": [
    "users['FICO Score'].min(), users['FICO Score'].max()"
   ]
  },
  {
   "cell_type": "code",
   "execution_count": 15,
   "metadata": {},
   "outputs": [],
   "source": [
    "users['FICO Score'] = users['FICO Score'].astype(np.uint16)"
   ]
  },
  {
   "attachments": {},
   "cell_type": "markdown",
   "metadata": {},
   "source": [
    "## Handling User's Credit Cards Number"
   ]
  },
  {
   "cell_type": "code",
   "execution_count": 16,
   "metadata": {},
   "outputs": [],
   "source": [
    "users['Num Credit Cards'] = users['Num Credit Cards'].astype(np.uint8)"
   ]
  },
  {
   "attachments": {},
   "cell_type": "markdown",
   "metadata": {},
   "source": [
    "## Handling User and Card Index"
   ]
  },
  {
   "cell_type": "code",
   "execution_count": 17,
   "metadata": {},
   "outputs": [],
   "source": [
    "cards['User'] = cards['User'].astype(np.uint16)\n",
    "cards['CARD INDEX'] = cards['CARD INDEX'].astype(np.uint8)"
   ]
  },
  {
   "attachments": {},
   "cell_type": "markdown",
   "metadata": {},
   "source": [
    "## Handling Card Brand and Type"
   ]
  },
  {
   "cell_type": "code",
   "execution_count": 18,
   "metadata": {},
   "outputs": [
    {
     "data": {
      "text/plain": [
       "(Mastercard    3209\n",
       " Visa          2326\n",
       " Amex           402\n",
       " Discover       209\n",
       " Name: Card Brand, dtype: int64,\n",
       " Debit              3511\n",
       " Credit             2057\n",
       " Debit (Prepaid)     578\n",
       " Name: Card Type, dtype: int64)"
      ]
     },
     "execution_count": 18,
     "metadata": {},
     "output_type": "execute_result"
    }
   ],
   "source": [
    "cards['Card Brand'].value_counts(), cards['Card Type'].value_counts()"
   ]
  },
  {
   "cell_type": "code",
   "execution_count": 19,
   "metadata": {},
   "outputs": [
    {
     "data": {
      "text/plain": [
       "[array(['Visa', 'Mastercard', 'Discover', 'Amex'], dtype=object),\n",
       " array(['Debit', 'Credit', 'Debit (Prepaid)'], dtype=object)]"
      ]
     },
     "execution_count": 19,
     "metadata": {},
     "output_type": "execute_result"
    }
   ],
   "source": [
    "card_brand_type_encoder = OneHotEncoder(categories=[cards['Card Brand'].unique(), cards['Card Type'].unique()], handle_unknown='ignore', dtype=np.uint8)\n",
    "brand = cards[['Card Brand', 'Card Type']]\n",
    "card_brand_type_encoder.fit_transform(brand)\n",
    "brand = pd.DataFrame(card_brand_type_encoder.transform(brand).toarray(), columns=['Visa', 'Mastercard', 'Discover', 'Amex', 'Debit', 'Credit', 'Debit (Prepaid)'])\n",
    "cards = pd.concat([cards.drop(columns=['Card Brand', 'Card Type']), brand], axis=1)\n",
    "data_prep_models['card_brand_type_encoder'] = card_brand_type_encoder\n",
    "card_brand_type_encoder.categories_"
   ]
  },
  {
   "attachments": {},
   "cell_type": "markdown",
   "metadata": {},
   "source": [
    "## Handle Has Chip"
   ]
  },
  {
   "cell_type": "code",
   "execution_count": 20,
   "metadata": {},
   "outputs": [
    {
     "data": {
      "text/plain": [
       "YES    5500\n",
       "NO      646\n",
       "Name: Has Chip, dtype: int64"
      ]
     },
     "execution_count": 20,
     "metadata": {},
     "output_type": "execute_result"
    }
   ],
   "source": [
    "cards['Has Chip'].value_counts()"
   ]
  },
  {
   "cell_type": "code",
   "execution_count": 21,
   "metadata": {},
   "outputs": [],
   "source": [
    "has_chip_encoder = LabelEncoder()\n",
    "has_chip_encoder.fit_transform(cards['Has Chip'])\n",
    "cards['Has Chip'] = has_chip_encoder.transform(cards['Has Chip'])\n",
    "data_prep_models['has_chip_encoder'] = has_chip_encoder"
   ]
  },
  {
   "attachments": {},
   "cell_type": "markdown",
   "metadata": {},
   "source": [
    "## Handle Cards Issued"
   ]
  },
  {
   "cell_type": "code",
   "execution_count": 22,
   "metadata": {},
   "outputs": [
    {
     "data": {
      "text/plain": [
       "(1, 3)"
      ]
     },
     "execution_count": 22,
     "metadata": {},
     "output_type": "execute_result"
    }
   ],
   "source": [
    "cards['Cards Issued'].min(), cards['Cards Issued'].max()"
   ]
  },
  {
   "cell_type": "code",
   "execution_count": 23,
   "metadata": {},
   "outputs": [],
   "source": [
    "cards['Cards Issued'] = cards['Cards Issued'].astype(np.uint8)"
   ]
  },
  {
   "attachments": {},
   "cell_type": "markdown",
   "metadata": {},
   "source": [
    "## Handle Card Credit Limit"
   ]
  },
  {
   "cell_type": "code",
   "execution_count": 24,
   "metadata": {},
   "outputs": [],
   "source": [
    "cards['Credit Limit'] = cards['Credit Limit'].str.replace('$', '', regex=True).astype(int)"
   ]
  },
  {
   "attachments": {},
   "cell_type": "markdown",
   "metadata": {},
   "source": [
    "## Handle Cards Dates"
   ]
  },
  {
   "cell_type": "code",
   "execution_count": 25,
   "metadata": {},
   "outputs": [],
   "source": [
    "now = dt.datetime.now()\n",
    "cards['Year PIN last Changed'] += (now.year - cards['Year PIN last Changed']).astype(np.uint16)\n",
    "cards['Expires'] = ((now - pd.to_datetime(cards['Expires'], infer_datetime_format=True)) / np.timedelta64(1, 'M')).astype(int)\n",
    "cards['Acct Open Date'] = ((now - pd.to_datetime(cards['Acct Open Date'], infer_datetime_format=True)) / np.timedelta64(1, 'M')).astype(int)\n",
    "cards['Card Duration'] = cards['Expires'] - cards['Acct Open Date']"
   ]
  },
  {
   "attachments": {},
   "cell_type": "markdown",
   "metadata": {},
   "source": [
    "## Transaction User and Card"
   ]
  },
  {
   "cell_type": "code",
   "execution_count": 26,
   "metadata": {},
   "outputs": [],
   "source": [
    "trans.sort_values(by=['User', 'Card', 'Year', 'Month', 'Day', 'Time'], inplace=True)\n",
    "trans['User'] = trans['User'].astype(np.uint16)\n",
    "trans['Card'] = trans['Card'].astype(np.uint8)"
   ]
  },
  {
   "attachments": {},
   "cell_type": "markdown",
   "metadata": {},
   "source": [
    "## Handling Date and Time"
   ]
  },
  {
   "cell_type": "code",
   "execution_count": 28,
   "metadata": {},
   "outputs": [],
   "source": [
    "trans['Time From Now'] = (now - pd.to_datetime(dict(year=trans['Year'], month=trans['Month'], day=trans['Day']))).dt.days\n",
    "trans['Time'] = trans['Time'].str.replace(':[0-9]+', '', regex=True).astype(np.uint8)"
   ]
  },
  {
   "attachments": {},
   "cell_type": "markdown",
   "metadata": {},
   "source": [
    "## Handling Amount"
   ]
  },
  {
   "cell_type": "code",
   "execution_count": 29,
   "metadata": {},
   "outputs": [],
   "source": [
    "trans['Amount'] = trans['Amount'].str.replace('$', '', regex=True).astype(float).apply(lambda x: np.log(max(1.0, x)))"
   ]
  },
  {
   "attachments": {},
   "cell_type": "markdown",
   "metadata": {},
   "source": [
    "## Handling Use Chip"
   ]
  },
  {
   "cell_type": "code",
   "execution_count": 30,
   "metadata": {},
   "outputs": [
    {
     "data": {
      "text/plain": [
       "[array(['Swipe Transaction', 'Online Transaction', 'Chip Transaction'],\n",
       "       dtype=object)]"
      ]
     },
     "execution_count": 30,
     "metadata": {},
     "output_type": "execute_result"
    }
   ],
   "source": [
    "use_chip_encoder = OneHotEncoder(categories=[list(trans['Use Chip'].unique())], handle_unknown='ignore', dtype=np.uint8)\n",
    "use_chip_encoder.fit_transform(trans[['Use Chip']])\n",
    "use_chip = pd.DataFrame(use_chip_encoder.transform(trans[['Use Chip']]).toarray(), columns=['Swipe Transaction', 'Online Transaction', 'Chip Transaction'])\n",
    "trans = pd.concat([trans.drop(columns=['Use Chip']), use_chip], axis=1)\n",
    "data_prep_models['use_chip_encoder'] = use_chip_encoder\n",
    "use_chip_encoder.categories_"
   ]
  },
  {
   "attachments": {},
   "cell_type": "markdown",
   "metadata": {},
   "source": [
    "## Handling Merchant City, State, Name and MCC"
   ]
  },
  {
   "cell_type": "code",
   "execution_count": 31,
   "metadata": {},
   "outputs": [],
   "source": [
    "merchant_name_encoder = LabelEncoder()\n",
    "merchant_name_encoder.fit(trans['Merchant Name'])\n",
    "trans['Merchant Name'] = merchant_name_encoder.transform(trans['Merchant Name'])\n",
    "data_prep_models['merchant_name_encoder'] = merchant_name_encoder"
   ]
  },
  {
   "cell_type": "code",
   "execution_count": 32,
   "metadata": {},
   "outputs": [
    {
     "data": {
      "text/plain": [
       "(0, 100342)"
      ]
     },
     "execution_count": 32,
     "metadata": {},
     "output_type": "execute_result"
    }
   ],
   "source": [
    "trans['Merchant Name'].min(), trans['Merchant Name'].max()"
   ]
  },
  {
   "cell_type": "code",
   "execution_count": 33,
   "metadata": {},
   "outputs": [],
   "source": [
    "trans['Merchant Name'] = trans['Merchant Name'].astype(np.uint32)"
   ]
  },
  {
   "cell_type": "code",
   "execution_count": 34,
   "metadata": {},
   "outputs": [],
   "source": [
    "merchant_city_encoder = LabelEncoder()\n",
    "merchant_city_encoder.fit(trans['Merchant City'])\n",
    "trans['Merchant City'] = merchant_city_encoder.transform(trans['Merchant City'])\n",
    "data_prep_models['merchant_city_encoder'] = merchant_city_encoder"
   ]
  },
  {
   "cell_type": "code",
   "execution_count": 35,
   "metadata": {},
   "outputs": [
    {
     "data": {
      "text/plain": [
       "(0, 13428)"
      ]
     },
     "execution_count": 35,
     "metadata": {},
     "output_type": "execute_result"
    }
   ],
   "source": [
    "trans['Merchant City'].min(), trans['Merchant City'].max()"
   ]
  },
  {
   "cell_type": "code",
   "execution_count": 36,
   "metadata": {},
   "outputs": [],
   "source": [
    "trans['Merchant City'] = trans['Merchant City'].astype(np.uint16)"
   ]
  },
  {
   "cell_type": "code",
   "execution_count": 37,
   "metadata": {},
   "outputs": [],
   "source": [
    "trans['Merchant State'].fillna('Unknown', inplace=True)\n",
    "merchant_state_encoder = LabelEncoder()\n",
    "merchant_state_encoder.fit(trans['Merchant State'])\n",
    "trans['Merchant State'] = merchant_state_encoder.transform(trans['Merchant State'])\n",
    "data_prep_models['merchant_state_encoder'] = merchant_state_encoder"
   ]
  },
  {
   "cell_type": "code",
   "execution_count": 38,
   "metadata": {},
   "outputs": [
    {
     "data": {
      "text/plain": [
       "(0, 223)"
      ]
     },
     "execution_count": 38,
     "metadata": {},
     "output_type": "execute_result"
    }
   ],
   "source": [
    "trans['Merchant State'].min(), trans['Merchant State'].max()"
   ]
  },
  {
   "cell_type": "code",
   "execution_count": 39,
   "metadata": {},
   "outputs": [],
   "source": [
    "trans['Merchant State'] = trans['Merchant State'].astype(np.uint8)"
   ]
  },
  {
   "cell_type": "code",
   "execution_count": 40,
   "metadata": {},
   "outputs": [],
   "source": [
    "mcc_encoder = LabelEncoder()\n",
    "mcc_encoder.fit(trans['MCC'])\n",
    "trans['MCC'] = mcc_encoder.transform(trans['MCC'])\n",
    "data_prep_models['mcc_encoder'] = mcc_encoder"
   ]
  },
  {
   "cell_type": "code",
   "execution_count": 41,
   "metadata": {},
   "outputs": [
    {
     "data": {
      "text/plain": [
       "(0, 108)"
      ]
     },
     "execution_count": 41,
     "metadata": {},
     "output_type": "execute_result"
    }
   ],
   "source": [
    "trans['MCC'].min(), trans['MCC'].max()"
   ]
  },
  {
   "cell_type": "code",
   "execution_count": 42,
   "metadata": {},
   "outputs": [],
   "source": [
    "trans['Merchant State'] = trans['Merchant State'].astype(np.uint8)"
   ]
  },
  {
   "attachments": {},
   "cell_type": "markdown",
   "metadata": {},
   "source": [
    "## Handling Errors"
   ]
  },
  {
   "cell_type": "code",
   "execution_count": 43,
   "metadata": {},
   "outputs": [],
   "source": [
    "trans['Errors?'].fillna('No Errors', inplace=True)\n",
    "errors_encoder = LabelEncoder()\n",
    "errors_encoder.fit(trans['Errors?'])\n",
    "trans['Errors?'] = errors_encoder.transform(trans['Errors?'])\n",
    "data_prep_models['errors_encoder'] = errors_encoder"
   ]
  },
  {
   "cell_type": "code",
   "execution_count": 44,
   "metadata": {},
   "outputs": [
    {
     "data": {
      "text/plain": [
       "(0, 23)"
      ]
     },
     "execution_count": 44,
     "metadata": {},
     "output_type": "execute_result"
    }
   ],
   "source": [
    "trans['Errors?'].min(), trans['Errors?'].max()"
   ]
  },
  {
   "cell_type": "code",
   "execution_count": 45,
   "metadata": {},
   "outputs": [],
   "source": [
    "trans['Errors?'] = trans['Errors?'].astype(np.uint8)"
   ]
  },
  {
   "cell_type": "code",
   "execution_count": 46,
   "metadata": {},
   "outputs": [],
   "source": [
    "trans['Is Fraud?'] = trans['Is Fraud?'].replace({'No': 0, 'Yes': 1}).astype(np.uint8)"
   ]
  },
  {
   "attachments": {},
   "cell_type": "markdown",
   "metadata": {},
   "source": [
    "## Saving Data Prep Models"
   ]
  },
  {
   "cell_type": "code",
   "execution_count": 47,
   "metadata": {},
   "outputs": [
    {
     "data": {
      "text/plain": [
       "['./Models/DataPrepModels.pkl']"
      ]
     },
     "execution_count": 47,
     "metadata": {},
     "output_type": "execute_result"
    }
   ],
   "source": [
    "joblib.dump(data_prep_models, './Models/DataPrepModels.pkl')"
   ]
  },
  {
   "attachments": {},
   "cell_type": "markdown",
   "metadata": {},
   "source": [
    "## Saving Final Data"
   ]
  },
  {
   "cell_type": "code",
   "execution_count": 55,
   "metadata": {},
   "outputs": [
    {
     "data": {
      "text/plain": [
       "['./Data/FinalData/types.pkl']"
      ]
     },
     "execution_count": 55,
     "metadata": {},
     "output_type": "execute_result"
    }
   ],
   "source": [
    "dtypes = {}\n",
    "dtypes['users'] = users[users_needed_cols].dtypes.to_dict()\n",
    "dtypes['cards'] = cards[cards_needed_cols].dtypes.to_dict()\n",
    "dtypes['trans'] = trans[trans_needed_cols].dtypes.to_dict()\n",
    "joblib.dump(dtypes, './Data/FinalData/types.pkl')"
   ]
  },
  {
   "cell_type": "code",
   "execution_count": 57,
   "metadata": {},
   "outputs": [],
   "source": [
    "users[users_needed_cols].to_csv('./Data/FinalData/users.csv', index=False)\n",
    "cards[cards_needed_cols].to_csv('./Data/FinalData/cards.csv', index=False)\n",
    "trans[trans_needed_cols].to_csv('./Data/FinalData/trans.csv', index=False)"
   ]
  },
  {
   "attachments": {},
   "cell_type": "markdown",
   "metadata": {},
   "source": [
    "# Load Data"
   ]
  },
  {
   "cell_type": "code",
   "execution_count": 4,
   "metadata": {},
   "outputs": [],
   "source": [
    "types = joblib.load('./Data/FinalData/types.pkl')\n",
    "\n",
    "users_needed_cols = ['Current Age', 'Retirement Age', 'Gender', 'Zipcode', 'Per Capita Income - Zipcode', \n",
    "                    'Yearly Income - Person', 'Total Debt', 'FICO Score', 'Num Credit Cards']\n",
    "cards_needed_cols = ['User', 'CARD INDEX', 'Year PIN last Changed', 'Acct Open Date', 'Expires', 'Card Duration', \n",
    "                    'Has Chip', 'Cards Issued', 'Credit Limit', 'Visa', 'Mastercard', 'Discover', 'Amex', 'Debit', \n",
    "                    'Credit', 'Debit (Prepaid)']\n",
    "trans_needed_cols = ['User', 'Card', 'Time', 'Time From Now', 'Amount', 'Merchant Name', 'Merchant City', \n",
    "                    'Merchant State', 'Zip', 'MCC', 'Errors?', 'Swipe Transaction', 'Online Transaction', \n",
    "                    'Chip Transaction', 'Is Fraud?']\n",
    "\n",
    "users = pd.read_csv('./Data/FinalData/users.csv', usecols=users_needed_cols, dtype=types['users'])\n",
    "cards = pd.read_csv('./Data/FinalData/cards.csv', usecols=cards_needed_cols, dtype=types['cards'])\n",
    "trans = pd.read_csv('./Data/FinalData/trans.csv', usecols=trans_needed_cols, dtype=types['trans'])"
   ]
  },
  {
   "attachments": {},
   "cell_type": "markdown",
   "metadata": {},
   "source": [
    "# Prepare Transactions Windows"
   ]
  },
  {
   "cell_type": "code",
   "execution_count": null,
   "metadata": {},
   "outputs": [],
   "source": [
    "stride = 5\n",
    "seq_len = 10\n",
    "trans_df = []\n",
    "targets = []\n",
    "trans_feats = [\n",
    "    'Time', 'Time From Now', 'Amount', 'Merchant Name', 'Merchant City', 'Merchant State', \n",
    "    'Zip', 'MCC', 'Errors?', 'Swipe Transaction', 'Online Transaction', 'Chip Transaction'\n",
    "]\n",
    "user_card_dict = trans.groupby('User')['Card'].unique().to_dict()\n",
    "trans.set_index(['User', 'Card'], inplace=True)\n",
    "\n",
    "for user_id in tqdm(user_card_dict.keys()):\n",
    "    for card_id in user_card_dict[user_id]:\n",
    "        t_df = trans.loc[user_id, card_id]\n",
    "        for i in range(0, t_df.shape[0], stride):\n",
    "            wind_df = t_df[i:i+seq_len]\n",
    "            trans_df.append((user_id, card_id, wind_df[trans_feats]))\n",
    "            targets.append(wind_df['Is Fraud?'].iloc[-1])\n",
    "joblib.dump(trans_df, '/content/drive/MyDrive/IBM_Dataset/trans_df.pkl')\n",
    "joblib.dump(targets, '/content/drive/MyDrive/IBM_Dataset/targets.pkl')"
   ]
  },
  {
   "cell_type": "code",
   "execution_count": null,
   "metadata": {},
   "outputs": [],
   "source": [
    "x_train_val, x_test, y_train_val, y_test = train_test_split(trans_df, targets, test_size=0.3, random_state=42, stratify=targets)\n",
    "x_train, x_val, y_train, y_val = train_test_split(trans_df, targets, test_size=0.1, random_state=42, stratify=targets)"
   ]
  },
  {
   "attachments": {},
   "cell_type": "markdown",
   "metadata": {},
   "source": [
    "# Model Parameters"
   ]
  },
  {
   "cell_type": "code",
   "execution_count": 58,
   "metadata": {},
   "outputs": [
    {
     "data": {
      "text/plain": [
       "35"
      ]
     },
     "execution_count": 58,
     "metadata": {},
     "output_type": "execute_result"
    }
   ],
   "source": [
    "batch_size = 8\n",
    "n_step = 10\n",
    "users_feats = 9\n",
    "cards_feats = 14\n",
    "trans_feats = 12\n",
    "n_feats = users_feats + cards_feats + trans_feats\n",
    "n_feats"
   ]
  },
  {
   "attachments": {},
   "cell_type": "markdown",
   "metadata": {},
   "source": [
    "# Data Loader"
   ]
  },
  {
   "cell_type": "code",
   "execution_count": null,
   "metadata": {},
   "outputs": [],
   "source": [
    "def get_batch(user_df: pd.DataFrame, card_df: pd.DataFrame, trans_df: list, target: list, batch_size: int, conv_input=False):\n",
    "    card_df.set_index(['User', 'CARD INDEX'], inplace=True)\n",
    "    while True:\n",
    "        idx = np.random.choice(range(len(trans_df)), size=len(trans_df), replace=False)\n",
    "        for i in range(0, len(idx), batch_size):\n",
    "            t_df = [trans_df[idx[j]] for j in range(i, i + batch_size)]\n",
    "            X = np.zeros((len(t_df), n_step, n_feats))\n",
    "            Y = np.array([targets[idx[j]] for j in range(i, i + batch_size)])\n",
    "\n",
    "            for it, (user_id, card_id, wind_df) in enumerate(t_df):\n",
    "                user = user_df.iloc[user_id]\n",
    "                card = card_df.loc[user_id, card_id]\n",
    "                x = pd.concat([user, card, wind_df], axis=1).ffill().values\n",
    "                X[it] = x\n",
    "            if conv_input:\n",
    "                X = np.transpose(X, axis=[0, 2, 1])\n",
    "            yield X, Y"
   ]
  },
  {
   "attachments": {},
   "cell_type": "markdown",
   "metadata": {},
   "source": [
    "# Training Plots"
   ]
  },
  {
   "cell_type": "code",
   "execution_count": null,
   "metadata": {},
   "outputs": [],
   "source": [
    "def plot_history(history):\n",
    "    \"\"\"Plots accuracy/loss for training/validation set as a function of the epochs\n",
    "        :param history: Training history of model\n",
    "        :return:\n",
    "    \"\"\"\n",
    "\n",
    "    fig, axs = plt.subplots(4)\n",
    "    fig.tight_layout(pad=3)\n",
    "\n",
    "    axs[0].plot(history.history[\"loss\"], label=\"train loss\")\n",
    "    axs[0].plot(history.history[\"val_loss\"], label=\"val loss\")\n",
    "    axs[0].set_ylabel(\"loss\")\n",
    "    axs[0].set_xlabel(\"Epoch\")\n",
    "    axs[0].legend(loc=\"upper right\")\n",
    "    axs[0].set_title(\"Loss\")\n",
    "\n",
    "    axs[1].plot(history.history[\"auc\"], label=\"train AUC\")\n",
    "    axs[1].plot(history.history[\"val_auc\"], label=\"val AUC\")\n",
    "    axs[1].set_ylabel(\"AUC\")\n",
    "    axs[1].legend(loc=\"lower right\")\n",
    "    axs[1].set_title(\"AUC\")\n",
    "\n",
    "    axs[2].plot(history.history[\"precision\"], label=\"train precision\")\n",
    "    axs[2].plot(history.history[\"val_precision\"], label=\"val precision\")\n",
    "    axs[2].set_ylabel(\"Precision\")\n",
    "    axs[2].legend(loc=\"lower right\")\n",
    "    axs[2].set_title(\"Precision\")\n",
    "\n",
    "    axs[3].plot(history.history[\"recall\"], label=\"train recall\")\n",
    "    axs[3].plot(history.history[\"val_recall\"], label=\"val recall\")\n",
    "    axs[3].set_ylabel(\"Recall\")\n",
    "    axs[3].legend(loc=\"lower right\")\n",
    "    axs[3].set_title(\"Recall\")\n"
   ]
  },
  {
   "attachments": {},
   "cell_type": "markdown",
   "metadata": {},
   "source": [
    "# Models"
   ]
  },
  {
   "attachments": {},
   "cell_type": "markdown",
   "metadata": {},
   "source": [
    "## LSTM"
   ]
  },
  {
   "cell_type": "code",
   "execution_count": 86,
   "metadata": {},
   "outputs": [],
   "source": [
    "def LstmModel():\n",
    "  model = keras.Sequential()\n",
    "  \n",
    "  model.add(layers.LSTM(units=64, kernel_regularizer='l2', return_sequences=True, time_major=False, input_shape=(n_step, n_feats)))\n",
    "  model.add(layers.LSTM(units=32, kernel_regularizer='l2', return_sequences=True, time_major=False))\n",
    "  model.add(layers.BatchNormalization())\n",
    "  model.add(layers.LSTM(units=16, kernel_regularizer='l2', return_sequences=False, time_major=False))\n",
    "  model.add(layers.Dense(16))\n",
    "  model.add(layers.Dropout(0.2))\n",
    "  model.add(layers.Dense(1, activation='sigmoid'))\n",
    "  return model"
   ]
  },
  {
   "attachments": {},
   "cell_type": "markdown",
   "metadata": {},
   "source": [
    "## GRU"
   ]
  },
  {
   "cell_type": "code",
   "execution_count": 87,
   "metadata": {},
   "outputs": [],
   "source": [
    "def GruModel():\n",
    "  model = keras.Sequential()\n",
    "  \n",
    "  model.add(layers.GRU(units=64, kernel_regularizer='l2', return_sequences=True, time_major=False, input_shape=(n_step, n_feats)))\n",
    "  model.add(layers.GRU(units=32, kernel_regularizer='l2', return_sequences=True, time_major=False))\n",
    "  model.add(layers.BatchNormalization())\n",
    "  model.add(layers.GRU(units=16, kernel_regularizer='l2', return_sequences=False, time_major=False))\n",
    "  model.add(layers.Dense(16))\n",
    "  model.add(layers.Dropout(0.2))\n",
    "  model.add(layers.Dense(1, activation='sigmoid'))\n",
    "  return model"
   ]
  },
  {
   "attachments": {},
   "cell_type": "markdown",
   "metadata": {},
   "source": [
    "## Conv1D"
   ]
  },
  {
   "cell_type": "code",
   "execution_count": 82,
   "metadata": {},
   "outputs": [],
   "source": [
    "def ConvModel():\n",
    "  model = keras.Sequential()\n",
    "  \n",
    "  model.add(layers.Conv1D(64, 3, activation='relu', kernel_regularizer='l2', input_shape=(n_feats, n_step)))\n",
    "  model.add(layers.AveragePooling1D(pool_size=2, strides=2))\n",
    "  model.add(layers.Conv1D(128, 7, activation='relu', kernel_regularizer='l2'))\n",
    "  model.add(layers.Conv1D(512, 5, activation='relu', kernel_regularizer='l2'))\n",
    "  model.add(layers.Conv1D(1024, 5, activation='relu', kernel_regularizer='l2'))\n",
    "  model.add(layers.AveragePooling1D(pool_size=2))\n",
    "  model.add(layers.Flatten())\n",
    "  model.add(layers.Dense(256))\n",
    "  model.add(layers.Dropout(0.3))\n",
    "  model.add(layers.Dense(128))\n",
    "  model.add(layers.Dense(1, activation='sigmoid'))\n",
    "  return model"
   ]
  },
  {
   "attachments": {},
   "cell_type": "markdown",
   "metadata": {},
   "source": [
    "## Conv-LSTM"
   ]
  },
  {
   "cell_type": "code",
   "execution_count": 74,
   "metadata": {},
   "outputs": [],
   "source": [
    "def ConvLstmModel():\n",
    "  model = keras.Sequential()\n",
    "\n",
    "  model.add(layers.Conv1D(64, 3, activation='relu', kernel_regularizer='l2', input_shape=(n_feats, n_step)))\n",
    "  model.add(layers.AveragePooling1D(pool_size=2, strides=2))\n",
    "  model.add(layers.Conv1D(128, 3, activation='relu', kernel_regularizer='l2'))\n",
    "  model.add(layers.Conv1D(512, 5, activation='relu', kernel_regularizer='l2'))\n",
    "  model.add(layers.Conv1D(1024, 5, activation='relu', kernel_regularizer='l2'))\n",
    "\n",
    "  model.add(layers.Dense(256))\n",
    "  model.add(layers.Dropout(0.3))\n",
    "\n",
    "  model.add(layers.LSTM(64, kernel_regularizer='l2',  return_sequences=True))\n",
    "  model.add(layers.LSTM(64, kernel_regularizer='l2',  return_sequences=False))\n",
    "  \n",
    "  model.add(layers.Dense(256))\n",
    "  model.add(layers.Dense(128))\n",
    "  model.add(layers.Dense(1, activation='sigmoid'))\n",
    "  return model"
   ]
  },
  {
   "attachments": {},
   "cell_type": "markdown",
   "metadata": {},
   "source": [
    "## Auto-Encoder"
   ]
  },
  {
   "attachments": {},
   "cell_type": "markdown",
   "metadata": {},
   "source": [
    "### Conv1D"
   ]
  },
  {
   "cell_type": "code",
   "execution_count": 101,
   "metadata": {},
   "outputs": [],
   "source": [
    "def ConvAE():\n",
    "    input = layers.Input(shape=(n_feats, n_step))\n",
    "    x = layers.Conv1D(64, 3, strides=2, activation='relu', kernel_regularizer='l2')(input)\n",
    "    x = layers.Conv1D(128, 5, strides=2, activation='relu', kernel_regularizer='l2')(x)\n",
    "    x = layers.AveragePooling1D(4)(x)\n",
    "    y = layers.Conv1DTranspose(128, 1, strides=7, activation='relu', kernel_regularizer='l2')(x)\n",
    "    y = layers.Conv1DTranspose(64, 5, strides=2, activation='relu', kernel_regularizer='l2')(y)\n",
    "    y = layers.Conv1DTranspose(10, 3, strides=2, activation='relu', kernel_regularizer='l2')(y)\n",
    "    encoder = Model(inputs=input, outputs=x)\n",
    "    ae = Model(inputs=input, outputs=y)\n",
    "    return ae"
   ]
  },
  {
   "attachments": {},
   "cell_type": "markdown",
   "metadata": {},
   "source": [
    "### LSTM"
   ]
  },
  {
   "cell_type": "code",
   "execution_count": 104,
   "metadata": {},
   "outputs": [],
   "source": [
    "def LstmAE():\n",
    "    input = layers.Input(shape=(n_step, n_feats))\n",
    "    x = layers.LSTM(units=64, kernel_regularizer='l2', return_sequences=True)(input)\n",
    "    x = layers.LSTM(units=32, kernel_regularizer='l2', return_sequences=False)(x)\n",
    "    y = layers.RepeatVector(n_step)(x)\n",
    "    y = layers.LSTM(units=32, kernel_regularizer='l2', return_sequences=True)(y)\n",
    "    y = layers.LSTM(units=64, kernel_regularizer='l2', return_sequences=True)(y)\n",
    "    output = layers.TimeDistributed(layers.Dense(n_feats))(y)\n",
    "    encoder = Model(inputs=input, outputs=x)\n",
    "    ae = Model(inputs=input, outputs=output)\n",
    "    return ae, encoder"
   ]
  },
  {
   "attachments": {},
   "cell_type": "markdown",
   "metadata": {},
   "source": [
    "## Model Definition"
   ]
  },
  {
   "cell_type": "code",
   "execution_count": 105,
   "metadata": {},
   "outputs": [],
   "source": [
    "def get_model(model_name):\n",
    "    model = None\n",
    "    if model_name == 'LSTM':\n",
    "        model = LstmModel()\n",
    "    elif model_name == 'GRU':\n",
    "        model = GruModel()\n",
    "    elif model_name == 'CONV':\n",
    "        model = ConvModel()\n",
    "    elif model_name == 'CONVLSTM':\n",
    "        model = ConvLstmModel()\n",
    "    elif model_name == 'CONVAE':\n",
    "        model = ConvAE()\n",
    "    elif model_name == 'LSTMAE':\n",
    "        model = LstmAE()\n",
    "    return model"
   ]
  },
  {
   "attachments": {},
   "cell_type": "markdown",
   "metadata": {},
   "source": [
    "## Training"
   ]
  },
  {
   "cell_type": "code",
   "execution_count": null,
   "metadata": {},
   "outputs": [],
   "source": [
    "lr = 0.001\n",
    "epochs = 20\n",
    "weight_decay = 0.0\n",
    "checkpoint_dir = '/content/drive/MyDrive/IBM_Dataset/checkpoints'"
   ]
  },
  {
   "cell_type": "code",
   "execution_count": null,
   "metadata": {},
   "outputs": [],
   "source": [
    "model_name = ''\n",
    "model = get_model(model_name)\n",
    "class_weights = compute_class_weight(class_weight='balanced', classes=[0, 1], y=targets)\n",
    "class_weights = {0: class_weights[0], 1: class_weights[1]}"
   ]
  },
  {
   "cell_type": "code",
   "execution_count": null,
   "metadata": {},
   "outputs": [],
   "source": [
    "train_loader = get_batch(users, cards, x_train, y_train, batch_size, True if model_name in {'CONV', 'CONVLSTM', 'CONVAE'} else False)\n",
    "val_loader = get_batch(users, cards, x_val, y_val, batch_size, True if model_name in {'CONV', 'CONVLSTM', 'CONVAE'} else False)\n",
    "test_loader = get_batch(users, cards, x_test, y_test, batch_size, True if model_name in {'CONV', 'CONVLSTM', 'CONVAE'} else False)"
   ]
  },
  {
   "cell_type": "code",
   "execution_count": null,
   "metadata": {},
   "outputs": [],
   "source": [
    "model.compile(\n",
    "    optimizer=keras.optimizers.Adam(learning_rate=lr, weight_decay=weight_decay), \n",
    "    loss='binary_crossentropy',\n",
    "    loss_weights=class_weights,\n",
    "    metrics=[keras.metrics.AUC()],\n",
    "    weighted_metrics=[keras.metrics.Precision(), keras.metrics.Recall()]\n",
    ")\n",
    "train_details = model.fit(\n",
    "    x=train_loader,\n",
    "    epochs=epochs,\n",
    "    validation_data=val_loader,\n",
    "    callbacks=[\n",
    "        tf.keras.callbacks.ReduceLROnPlateau(factor=0.5, patience=3, monitor='val_loss'),\n",
    "        tf.keras.callbacks.ModelCheckpoint(filepath=os.path.join(checkpoint_dir, model_name), monitor='val_loss', save_best_only=True)\n",
    "    ],\n",
    "    class_weight=class_weights\n",
    ")"
   ]
  },
  {
   "attachments": {},
   "cell_type": "markdown",
   "metadata": {},
   "source": [
    "# Classical Light-GBM"
   ]
  },
  {
   "attachments": {},
   "cell_type": "markdown",
   "metadata": {},
   "source": [
    "## Load Data"
   ]
  },
  {
   "cell_type": "code",
   "execution_count": 2,
   "metadata": {},
   "outputs": [],
   "source": [
    "types = joblib.load('./Data/FinalData/types.pkl')\n",
    "\n",
    "users_needed_cols = ['Current Age', 'Retirement Age', 'Gender', 'Zipcode', 'Per Capita Income - Zipcode', \n",
    "                    'Yearly Income - Person', 'Total Debt', 'FICO Score', 'Num Credit Cards']\n",
    "cards_needed_cols = ['User', 'CARD INDEX', 'Year PIN last Changed', 'Acct Open Date', 'Expires', 'Card Duration', \n",
    "                    'Has Chip', 'Cards Issued', 'Credit Limit', 'Visa', 'Mastercard', 'Discover', 'Amex', 'Debit', \n",
    "                    'Credit', 'Debit (Prepaid)']\n",
    "trans_needed_cols = ['User', 'Card', 'Time', 'Time From Now', 'Amount', 'Merchant Name', 'Merchant City', \n",
    "                    'Merchant State', 'Zip', 'MCC', 'Errors?', 'Swipe Transaction', 'Online Transaction', \n",
    "                    'Chip Transaction', 'Is Fraud?']\n",
    "\n",
    "users = pd.read_csv('./Data/FinalData/users.csv', usecols=users_needed_cols, dtype=types['users'])\n",
    "cards = pd.read_csv('./Data/FinalData/cards.csv', usecols=cards_needed_cols, dtype=types['cards'])\n",
    "trans = pd.read_csv('./Data/FinalData/trans.csv', usecols=trans_needed_cols, dtype=types['trans'])"
   ]
  },
  {
   "attachments": {},
   "cell_type": "markdown",
   "metadata": {},
   "source": [
    "## Prepare Data"
   ]
  },
  {
   "cell_type": "code",
   "execution_count": 3,
   "metadata": {},
   "outputs": [
    {
     "data": {
      "text/html": [
       "<div>\n",
       "<style scoped>\n",
       "    .dataframe tbody tr th:only-of-type {\n",
       "        vertical-align: middle;\n",
       "    }\n",
       "\n",
       "    .dataframe tbody tr th {\n",
       "        vertical-align: top;\n",
       "    }\n",
       "\n",
       "    .dataframe thead th {\n",
       "        text-align: right;\n",
       "    }\n",
       "</style>\n",
       "<table border=\"1\" class=\"dataframe\">\n",
       "  <thead>\n",
       "    <tr style=\"text-align: right;\">\n",
       "      <th></th>\n",
       "      <th>User</th>\n",
       "      <th>Card</th>\n",
       "      <th>Time</th>\n",
       "      <th>Time From Now</th>\n",
       "      <th>Amount</th>\n",
       "      <th>Merchant Name</th>\n",
       "      <th>Merchant City</th>\n",
       "      <th>Merchant State</th>\n",
       "      <th>Zip</th>\n",
       "      <th>MCC</th>\n",
       "      <th>Errors?</th>\n",
       "      <th>Swipe Transaction</th>\n",
       "      <th>Online Transaction</th>\n",
       "      <th>Chip Transaction</th>\n",
       "      <th>Is Fraud?</th>\n",
       "    </tr>\n",
       "  </thead>\n",
       "  <tbody>\n",
       "    <tr>\n",
       "      <th>0</th>\n",
       "      <td>0</td>\n",
       "      <td>0</td>\n",
       "      <td>6</td>\n",
       "      <td>7471</td>\n",
       "      <td>4.898511</td>\n",
       "      <td>69374</td>\n",
       "      <td>6274</td>\n",
       "      <td>28</td>\n",
       "      <td>24757</td>\n",
       "      <td>53</td>\n",
       "      <td>22</td>\n",
       "      <td>1</td>\n",
       "      <td>0</td>\n",
       "      <td>0</td>\n",
       "      <td>0</td>\n",
       "    </tr>\n",
       "    <tr>\n",
       "      <th>1</th>\n",
       "      <td>0</td>\n",
       "      <td>0</td>\n",
       "      <td>6</td>\n",
       "      <td>7471</td>\n",
       "      <td>3.650139</td>\n",
       "      <td>46284</td>\n",
       "      <td>7827</td>\n",
       "      <td>28</td>\n",
       "      <td>24759</td>\n",
       "      <td>56</td>\n",
       "      <td>22</td>\n",
       "      <td>1</td>\n",
       "      <td>0</td>\n",
       "      <td>0</td>\n",
       "      <td>0</td>\n",
       "    </tr>\n",
       "    <tr>\n",
       "      <th>2</th>\n",
       "      <td>0</td>\n",
       "      <td>0</td>\n",
       "      <td>6</td>\n",
       "      <td>7470</td>\n",
       "      <td>4.790321</td>\n",
       "      <td>46284</td>\n",
       "      <td>7827</td>\n",
       "      <td>28</td>\n",
       "      <td>24759</td>\n",
       "      <td>56</td>\n",
       "      <td>22</td>\n",
       "      <td>1</td>\n",
       "      <td>0</td>\n",
       "      <td>0</td>\n",
       "      <td>0</td>\n",
       "    </tr>\n",
       "    <tr>\n",
       "      <th>3</th>\n",
       "      <td>0</td>\n",
       "      <td>0</td>\n",
       "      <td>17</td>\n",
       "      <td>7470</td>\n",
       "      <td>4.859425</td>\n",
       "      <td>68751</td>\n",
       "      <td>7827</td>\n",
       "      <td>28</td>\n",
       "      <td>24759</td>\n",
       "      <td>61</td>\n",
       "      <td>22</td>\n",
       "      <td>1</td>\n",
       "      <td>0</td>\n",
       "      <td>0</td>\n",
       "      <td>0</td>\n",
       "    </tr>\n",
       "    <tr>\n",
       "      <th>4</th>\n",
       "      <td>0</td>\n",
       "      <td>0</td>\n",
       "      <td>6</td>\n",
       "      <td>7469</td>\n",
       "      <td>4.651195</td>\n",
       "      <td>81833</td>\n",
       "      <td>6274</td>\n",
       "      <td>28</td>\n",
       "      <td>24757</td>\n",
       "      <td>74</td>\n",
       "      <td>22</td>\n",
       "      <td>1</td>\n",
       "      <td>0</td>\n",
       "      <td>0</td>\n",
       "      <td>0</td>\n",
       "    </tr>\n",
       "    <tr>\n",
       "      <th>...</th>\n",
       "      <td>...</td>\n",
       "      <td>...</td>\n",
       "      <td>...</td>\n",
       "      <td>...</td>\n",
       "      <td>...</td>\n",
       "      <td>...</td>\n",
       "      <td>...</td>\n",
       "      <td>...</td>\n",
       "      <td>...</td>\n",
       "      <td>...</td>\n",
       "      <td>...</td>\n",
       "      <td>...</td>\n",
       "      <td>...</td>\n",
       "      <td>...</td>\n",
       "      <td>...</td>\n",
       "    </tr>\n",
       "    <tr>\n",
       "      <th>24386895</th>\n",
       "      <td>1999</td>\n",
       "      <td>1</td>\n",
       "      <td>22</td>\n",
       "      <td>1083</td>\n",
       "      <td>0.000000</td>\n",
       "      <td>22204</td>\n",
       "      <td>7555</td>\n",
       "      <td>134</td>\n",
       "      <td>622</td>\n",
       "      <td>59</td>\n",
       "      <td>22</td>\n",
       "      <td>0</td>\n",
       "      <td>0</td>\n",
       "      <td>1</td>\n",
       "      <td>0</td>\n",
       "    </tr>\n",
       "    <tr>\n",
       "      <th>24386896</th>\n",
       "      <td>1999</td>\n",
       "      <td>1</td>\n",
       "      <td>22</td>\n",
       "      <td>1083</td>\n",
       "      <td>3.988984</td>\n",
       "      <td>22204</td>\n",
       "      <td>7555</td>\n",
       "      <td>134</td>\n",
       "      <td>622</td>\n",
       "      <td>59</td>\n",
       "      <td>22</td>\n",
       "      <td>0</td>\n",
       "      <td>0</td>\n",
       "      <td>1</td>\n",
       "      <td>0</td>\n",
       "    </tr>\n",
       "    <tr>\n",
       "      <th>24386897</th>\n",
       "      <td>1999</td>\n",
       "      <td>1</td>\n",
       "      <td>7</td>\n",
       "      <td>1082</td>\n",
       "      <td>4.080077</td>\n",
       "      <td>63763</td>\n",
       "      <td>7555</td>\n",
       "      <td>134</td>\n",
       "      <td>622</td>\n",
       "      <td>35</td>\n",
       "      <td>22</td>\n",
       "      <td>0</td>\n",
       "      <td>0</td>\n",
       "      <td>1</td>\n",
       "      <td>0</td>\n",
       "    </tr>\n",
       "    <tr>\n",
       "      <th>24386898</th>\n",
       "      <td>1999</td>\n",
       "      <td>1</td>\n",
       "      <td>20</td>\n",
       "      <td>1082</td>\n",
       "      <td>3.763987</td>\n",
       "      <td>63763</td>\n",
       "      <td>7555</td>\n",
       "      <td>134</td>\n",
       "      <td>622</td>\n",
       "      <td>35</td>\n",
       "      <td>22</td>\n",
       "      <td>0</td>\n",
       "      <td>0</td>\n",
       "      <td>1</td>\n",
       "      <td>0</td>\n",
       "    </tr>\n",
       "    <tr>\n",
       "      <th>24386899</th>\n",
       "      <td>1999</td>\n",
       "      <td>1</td>\n",
       "      <td>23</td>\n",
       "      <td>1082</td>\n",
       "      <td>3.809547</td>\n",
       "      <td>75936</td>\n",
       "      <td>7555</td>\n",
       "      <td>134</td>\n",
       "      <td>622</td>\n",
       "      <td>71</td>\n",
       "      <td>22</td>\n",
       "      <td>0</td>\n",
       "      <td>0</td>\n",
       "      <td>1</td>\n",
       "      <td>0</td>\n",
       "    </tr>\n",
       "  </tbody>\n",
       "</table>\n",
       "<p>24386900 rows × 15 columns</p>\n",
       "</div>"
      ],
      "text/plain": [
       "          User  Card  Time  Time From Now    Amount  Merchant Name  \\\n",
       "0            0     0     6           7471  4.898511          69374   \n",
       "1            0     0     6           7471  3.650139          46284   \n",
       "2            0     0     6           7470  4.790321          46284   \n",
       "3            0     0    17           7470  4.859425          68751   \n",
       "4            0     0     6           7469  4.651195          81833   \n",
       "...        ...   ...   ...            ...       ...            ...   \n",
       "24386895  1999     1    22           1083  0.000000          22204   \n",
       "24386896  1999     1    22           1083  3.988984          22204   \n",
       "24386897  1999     1     7           1082  4.080077          63763   \n",
       "24386898  1999     1    20           1082  3.763987          63763   \n",
       "24386899  1999     1    23           1082  3.809547          75936   \n",
       "\n",
       "          Merchant City  Merchant State    Zip  MCC  Errors?  \\\n",
       "0                  6274              28  24757   53       22   \n",
       "1                  7827              28  24759   56       22   \n",
       "2                  7827              28  24759   56       22   \n",
       "3                  7827              28  24759   61       22   \n",
       "4                  6274              28  24757   74       22   \n",
       "...                 ...             ...    ...  ...      ...   \n",
       "24386895           7555             134    622   59       22   \n",
       "24386896           7555             134    622   59       22   \n",
       "24386897           7555             134    622   35       22   \n",
       "24386898           7555             134    622   35       22   \n",
       "24386899           7555             134    622   71       22   \n",
       "\n",
       "          Swipe Transaction  Online Transaction  Chip Transaction  Is Fraud?  \n",
       "0                         1                   0                 0          0  \n",
       "1                         1                   0                 0          0  \n",
       "2                         1                   0                 0          0  \n",
       "3                         1                   0                 0          0  \n",
       "4                         1                   0                 0          0  \n",
       "...                     ...                 ...               ...        ...  \n",
       "24386895                  0                   0                 1          0  \n",
       "24386896                  0                   0                 1          0  \n",
       "24386897                  0                   0                 1          0  \n",
       "24386898                  0                   0                 1          0  \n",
       "24386899                  0                   0                 1          0  \n",
       "\n",
       "[24386900 rows x 15 columns]"
      ]
     },
     "execution_count": 3,
     "metadata": {},
     "output_type": "execute_result"
    }
   ],
   "source": [
    "trans"
   ]
  },
  {
   "cell_type": "code",
   "execution_count": 12,
   "metadata": {},
   "outputs": [
    {
     "ename": "AttributeError",
     "evalue": "'Series' object has no attribute 'merge'",
     "output_type": "error",
     "traceback": [
      "\u001b[1;31m---------------------------------------------------------------------------\u001b[0m",
      "\u001b[1;31mAttributeError\u001b[0m                            Traceback (most recent call last)",
      "Cell \u001b[1;32mIn [12], line 1\u001b[0m\n\u001b[1;32m----> 1\u001b[0m users\u001b[39m.\u001b[39;49mloc[\u001b[39m0\u001b[39;49m, :]\u001b[39m.\u001b[39;49mmerge(cards\u001b[39m.\u001b[39mrename(columns\u001b[39m=\u001b[39m{\u001b[39m'\u001b[39m\u001b[39mCARD INDEX\u001b[39m\u001b[39m'\u001b[39m: \u001b[39m'\u001b[39m\u001b[39mCard\u001b[39m\u001b[39m'\u001b[39m}), on\u001b[39m=\u001b[39m\u001b[39m'\u001b[39m\u001b[39mUser\u001b[39m\u001b[39m'\u001b[39m)\u001b[39m.\u001b[39mmerge(trans, on\u001b[39m=\u001b[39m[\u001b[39m'\u001b[39m\u001b[39mUser\u001b[39m\u001b[39m'\u001b[39m, \u001b[39m'\u001b[39m\u001b[39mCard\u001b[39m\u001b[39m'\u001b[39m])\n",
      "File \u001b[1;32mc:\\Users\\haelkordi\\Anaconda3\\envs\\wenv\\lib\\site-packages\\pandas\\core\\generic.py:5902\u001b[0m, in \u001b[0;36mNDFrame.__getattr__\u001b[1;34m(self, name)\u001b[0m\n\u001b[0;32m   5895\u001b[0m \u001b[39mif\u001b[39;00m (\n\u001b[0;32m   5896\u001b[0m     name \u001b[39mnot\u001b[39;00m \u001b[39min\u001b[39;00m \u001b[39mself\u001b[39m\u001b[39m.\u001b[39m_internal_names_set\n\u001b[0;32m   5897\u001b[0m     \u001b[39mand\u001b[39;00m name \u001b[39mnot\u001b[39;00m \u001b[39min\u001b[39;00m \u001b[39mself\u001b[39m\u001b[39m.\u001b[39m_metadata\n\u001b[0;32m   5898\u001b[0m     \u001b[39mand\u001b[39;00m name \u001b[39mnot\u001b[39;00m \u001b[39min\u001b[39;00m \u001b[39mself\u001b[39m\u001b[39m.\u001b[39m_accessors\n\u001b[0;32m   5899\u001b[0m     \u001b[39mand\u001b[39;00m \u001b[39mself\u001b[39m\u001b[39m.\u001b[39m_info_axis\u001b[39m.\u001b[39m_can_hold_identifiers_and_holds_name(name)\n\u001b[0;32m   5900\u001b[0m ):\n\u001b[0;32m   5901\u001b[0m     \u001b[39mreturn\u001b[39;00m \u001b[39mself\u001b[39m[name]\n\u001b[1;32m-> 5902\u001b[0m \u001b[39mreturn\u001b[39;00m \u001b[39mobject\u001b[39;49m\u001b[39m.\u001b[39;49m\u001b[39m__getattribute__\u001b[39;49m(\u001b[39mself\u001b[39;49m, name)\n",
      "\u001b[1;31mAttributeError\u001b[0m: 'Series' object has no attribute 'merge'"
     ]
    }
   ],
   "source": [
    "users.loc[0, :].merge(cards.rename(columns={'CARD INDEX': 'Card'}), on='User').merge(trans, on=['User', 'Card'])"
   ]
  },
  {
   "cell_type": "code",
   "execution_count": 15,
   "metadata": {},
   "outputs": [
    {
     "data": {
      "text/html": [
       "<div>\n",
       "<style scoped>\n",
       "    .dataframe tbody tr th:only-of-type {\n",
       "        vertical-align: middle;\n",
       "    }\n",
       "\n",
       "    .dataframe tbody tr th {\n",
       "        vertical-align: top;\n",
       "    }\n",
       "\n",
       "    .dataframe thead th {\n",
       "        text-align: right;\n",
       "    }\n",
       "</style>\n",
       "<table border=\"1\" class=\"dataframe\">\n",
       "  <thead>\n",
       "    <tr style=\"text-align: right;\">\n",
       "      <th></th>\n",
       "      <th>User</th>\n",
       "      <th>Current Age</th>\n",
       "      <th>Retirement Age</th>\n",
       "      <th>Gender</th>\n",
       "      <th>Zipcode</th>\n",
       "      <th>Per Capita Income - Zipcode</th>\n",
       "      <th>Yearly Income - Person</th>\n",
       "      <th>Total Debt</th>\n",
       "      <th>FICO Score</th>\n",
       "      <th>Num Credit Cards</th>\n",
       "    </tr>\n",
       "  </thead>\n",
       "  <tbody>\n",
       "    <tr>\n",
       "      <th>0</th>\n",
       "      <td>0</td>\n",
       "      <td>53</td>\n",
       "      <td>66</td>\n",
       "      <td>0</td>\n",
       "      <td>24757</td>\n",
       "      <td>29278</td>\n",
       "      <td>59696</td>\n",
       "      <td>127613</td>\n",
       "      <td>787</td>\n",
       "      <td>5</td>\n",
       "    </tr>\n",
       "    <tr>\n",
       "      <th>1</th>\n",
       "      <td>1</td>\n",
       "      <td>53</td>\n",
       "      <td>68</td>\n",
       "      <td>0</td>\n",
       "      <td>2502</td>\n",
       "      <td>37891</td>\n",
       "      <td>77254</td>\n",
       "      <td>191349</td>\n",
       "      <td>701</td>\n",
       "      <td>5</td>\n",
       "    </tr>\n",
       "    <tr>\n",
       "      <th>2</th>\n",
       "      <td>2</td>\n",
       "      <td>81</td>\n",
       "      <td>67</td>\n",
       "      <td>0</td>\n",
       "      <td>24784</td>\n",
       "      <td>22681</td>\n",
       "      <td>33483</td>\n",
       "      <td>196</td>\n",
       "      <td>698</td>\n",
       "      <td>5</td>\n",
       "    </tr>\n",
       "    <tr>\n",
       "      <th>3</th>\n",
       "      <td>3</td>\n",
       "      <td>63</td>\n",
       "      <td>63</td>\n",
       "      <td>0</td>\n",
       "      <td>2224</td>\n",
       "      <td>163145</td>\n",
       "      <td>249925</td>\n",
       "      <td>202328</td>\n",
       "      <td>722</td>\n",
       "      <td>4</td>\n",
       "    </tr>\n",
       "    <tr>\n",
       "      <th>4</th>\n",
       "      <td>4</td>\n",
       "      <td>43</td>\n",
       "      <td>70</td>\n",
       "      <td>1</td>\n",
       "      <td>25598</td>\n",
       "      <td>53797</td>\n",
       "      <td>109687</td>\n",
       "      <td>183855</td>\n",
       "      <td>675</td>\n",
       "      <td>1</td>\n",
       "    </tr>\n",
       "    <tr>\n",
       "      <th>...</th>\n",
       "      <td>...</td>\n",
       "      <td>...</td>\n",
       "      <td>...</td>\n",
       "      <td>...</td>\n",
       "      <td>...</td>\n",
       "      <td>...</td>\n",
       "      <td>...</td>\n",
       "      <td>...</td>\n",
       "      <td>...</td>\n",
       "      <td>...</td>\n",
       "    </tr>\n",
       "    <tr>\n",
       "      <th>1995</th>\n",
       "      <td>1995</td>\n",
       "      <td>32</td>\n",
       "      <td>70</td>\n",
       "      <td>1</td>\n",
       "      <td>2548</td>\n",
       "      <td>23550</td>\n",
       "      <td>48010</td>\n",
       "      <td>87837</td>\n",
       "      <td>703</td>\n",
       "      <td>3</td>\n",
       "    </tr>\n",
       "    <tr>\n",
       "      <th>1996</th>\n",
       "      <td>1996</td>\n",
       "      <td>62</td>\n",
       "      <td>65</td>\n",
       "      <td>0</td>\n",
       "      <td>11864</td>\n",
       "      <td>24218</td>\n",
       "      <td>49378</td>\n",
       "      <td>104480</td>\n",
       "      <td>740</td>\n",
       "      <td>4</td>\n",
       "    </tr>\n",
       "    <tr>\n",
       "      <th>1997</th>\n",
       "      <td>1997</td>\n",
       "      <td>47</td>\n",
       "      <td>67</td>\n",
       "      <td>0</td>\n",
       "      <td>1695</td>\n",
       "      <td>15175</td>\n",
       "      <td>30942</td>\n",
       "      <td>71066</td>\n",
       "      <td>779</td>\n",
       "      <td>3</td>\n",
       "    </tr>\n",
       "    <tr>\n",
       "      <th>1998</th>\n",
       "      <td>1998</td>\n",
       "      <td>66</td>\n",
       "      <td>60</td>\n",
       "      <td>1</td>\n",
       "      <td>4285</td>\n",
       "      <td>25336</td>\n",
       "      <td>54654</td>\n",
       "      <td>27241</td>\n",
       "      <td>618</td>\n",
       "      <td>1</td>\n",
       "    </tr>\n",
       "    <tr>\n",
       "      <th>1999</th>\n",
       "      <td>1999</td>\n",
       "      <td>21</td>\n",
       "      <td>60</td>\n",
       "      <td>0</td>\n",
       "      <td>622</td>\n",
       "      <td>32325</td>\n",
       "      <td>65909</td>\n",
       "      <td>181261</td>\n",
       "      <td>673</td>\n",
       "      <td>2</td>\n",
       "    </tr>\n",
       "  </tbody>\n",
       "</table>\n",
       "<p>2000 rows × 10 columns</p>\n",
       "</div>"
      ],
      "text/plain": [
       "      User  Current Age  Retirement Age  Gender  Zipcode  \\\n",
       "0        0           53              66       0    24757   \n",
       "1        1           53              68       0     2502   \n",
       "2        2           81              67       0    24784   \n",
       "3        3           63              63       0     2224   \n",
       "4        4           43              70       1    25598   \n",
       "...    ...          ...             ...     ...      ...   \n",
       "1995  1995           32              70       1     2548   \n",
       "1996  1996           62              65       0    11864   \n",
       "1997  1997           47              67       0     1695   \n",
       "1998  1998           66              60       1     4285   \n",
       "1999  1999           21              60       0      622   \n",
       "\n",
       "      Per Capita Income - Zipcode  Yearly Income - Person  Total Debt  \\\n",
       "0                           29278                   59696      127613   \n",
       "1                           37891                   77254      191349   \n",
       "2                           22681                   33483         196   \n",
       "3                          163145                  249925      202328   \n",
       "4                           53797                  109687      183855   \n",
       "...                           ...                     ...         ...   \n",
       "1995                        23550                   48010       87837   \n",
       "1996                        24218                   49378      104480   \n",
       "1997                        15175                   30942       71066   \n",
       "1998                        25336                   54654       27241   \n",
       "1999                        32325                   65909      181261   \n",
       "\n",
       "      FICO Score  Num Credit Cards  \n",
       "0            787                 5  \n",
       "1            701                 5  \n",
       "2            698                 5  \n",
       "3            722                 4  \n",
       "4            675                 1  \n",
       "...          ...               ...  \n",
       "1995         703                 3  \n",
       "1996         740                 4  \n",
       "1997         779                 3  \n",
       "1998         618                 1  \n",
       "1999         673                 2  \n",
       "\n",
       "[2000 rows x 10 columns]"
      ]
     },
     "execution_count": 15,
     "metadata": {},
     "output_type": "execute_result"
    }
   ],
   "source": [
    "users.reset_index(inplace=True)\n",
    "users.rename(columns={'index': 'User'}, inplace=True)\n",
    "users"
   ]
  },
  {
   "cell_type": "code",
   "execution_count": 16,
   "metadata": {},
   "outputs": [
    {
     "data": {
      "text/html": [
       "<div>\n",
       "<style scoped>\n",
       "    .dataframe tbody tr th:only-of-type {\n",
       "        vertical-align: middle;\n",
       "    }\n",
       "\n",
       "    .dataframe tbody tr th {\n",
       "        vertical-align: top;\n",
       "    }\n",
       "\n",
       "    .dataframe thead th {\n",
       "        text-align: right;\n",
       "    }\n",
       "</style>\n",
       "<table border=\"1\" class=\"dataframe\">\n",
       "  <thead>\n",
       "    <tr style=\"text-align: right;\">\n",
       "      <th></th>\n",
       "      <th>User</th>\n",
       "      <th>Current Age</th>\n",
       "      <th>Retirement Age</th>\n",
       "      <th>Gender</th>\n",
       "      <th>Zipcode</th>\n",
       "      <th>Per Capita Income - Zipcode</th>\n",
       "      <th>Yearly Income - Person</th>\n",
       "      <th>Total Debt</th>\n",
       "      <th>FICO Score</th>\n",
       "      <th>Num Credit Cards</th>\n",
       "      <th>...</th>\n",
       "      <th>Has Chip</th>\n",
       "      <th>Cards Issued</th>\n",
       "      <th>Credit Limit</th>\n",
       "      <th>Visa</th>\n",
       "      <th>Mastercard</th>\n",
       "      <th>Discover</th>\n",
       "      <th>Amex</th>\n",
       "      <th>Debit</th>\n",
       "      <th>Credit</th>\n",
       "      <th>Debit (Prepaid)</th>\n",
       "    </tr>\n",
       "  </thead>\n",
       "  <tbody>\n",
       "    <tr>\n",
       "      <th>0</th>\n",
       "      <td>0</td>\n",
       "      <td>53</td>\n",
       "      <td>66</td>\n",
       "      <td>0</td>\n",
       "      <td>24757</td>\n",
       "      <td>29278</td>\n",
       "      <td>59696</td>\n",
       "      <td>127613</td>\n",
       "      <td>787</td>\n",
       "      <td>5</td>\n",
       "      <td>...</td>\n",
       "      <td>1</td>\n",
       "      <td>2</td>\n",
       "      <td>24295</td>\n",
       "      <td>1</td>\n",
       "      <td>0</td>\n",
       "      <td>0</td>\n",
       "      <td>0</td>\n",
       "      <td>1</td>\n",
       "      <td>0</td>\n",
       "      <td>0</td>\n",
       "    </tr>\n",
       "    <tr>\n",
       "      <th>1</th>\n",
       "      <td>0</td>\n",
       "      <td>53</td>\n",
       "      <td>66</td>\n",
       "      <td>0</td>\n",
       "      <td>24757</td>\n",
       "      <td>29278</td>\n",
       "      <td>59696</td>\n",
       "      <td>127613</td>\n",
       "      <td>787</td>\n",
       "      <td>5</td>\n",
       "      <td>...</td>\n",
       "      <td>1</td>\n",
       "      <td>2</td>\n",
       "      <td>24295</td>\n",
       "      <td>1</td>\n",
       "      <td>0</td>\n",
       "      <td>0</td>\n",
       "      <td>0</td>\n",
       "      <td>1</td>\n",
       "      <td>0</td>\n",
       "      <td>0</td>\n",
       "    </tr>\n",
       "    <tr>\n",
       "      <th>2</th>\n",
       "      <td>0</td>\n",
       "      <td>53</td>\n",
       "      <td>66</td>\n",
       "      <td>0</td>\n",
       "      <td>24757</td>\n",
       "      <td>29278</td>\n",
       "      <td>59696</td>\n",
       "      <td>127613</td>\n",
       "      <td>787</td>\n",
       "      <td>5</td>\n",
       "      <td>...</td>\n",
       "      <td>1</td>\n",
       "      <td>2</td>\n",
       "      <td>24295</td>\n",
       "      <td>1</td>\n",
       "      <td>0</td>\n",
       "      <td>0</td>\n",
       "      <td>0</td>\n",
       "      <td>1</td>\n",
       "      <td>0</td>\n",
       "      <td>0</td>\n",
       "    </tr>\n",
       "    <tr>\n",
       "      <th>3</th>\n",
       "      <td>0</td>\n",
       "      <td>53</td>\n",
       "      <td>66</td>\n",
       "      <td>0</td>\n",
       "      <td>24757</td>\n",
       "      <td>29278</td>\n",
       "      <td>59696</td>\n",
       "      <td>127613</td>\n",
       "      <td>787</td>\n",
       "      <td>5</td>\n",
       "      <td>...</td>\n",
       "      <td>1</td>\n",
       "      <td>2</td>\n",
       "      <td>24295</td>\n",
       "      <td>1</td>\n",
       "      <td>0</td>\n",
       "      <td>0</td>\n",
       "      <td>0</td>\n",
       "      <td>1</td>\n",
       "      <td>0</td>\n",
       "      <td>0</td>\n",
       "    </tr>\n",
       "    <tr>\n",
       "      <th>4</th>\n",
       "      <td>0</td>\n",
       "      <td>53</td>\n",
       "      <td>66</td>\n",
       "      <td>0</td>\n",
       "      <td>24757</td>\n",
       "      <td>29278</td>\n",
       "      <td>59696</td>\n",
       "      <td>127613</td>\n",
       "      <td>787</td>\n",
       "      <td>5</td>\n",
       "      <td>...</td>\n",
       "      <td>1</td>\n",
       "      <td>2</td>\n",
       "      <td>24295</td>\n",
       "      <td>1</td>\n",
       "      <td>0</td>\n",
       "      <td>0</td>\n",
       "      <td>0</td>\n",
       "      <td>1</td>\n",
       "      <td>0</td>\n",
       "      <td>0</td>\n",
       "    </tr>\n",
       "    <tr>\n",
       "      <th>...</th>\n",
       "      <td>...</td>\n",
       "      <td>...</td>\n",
       "      <td>...</td>\n",
       "      <td>...</td>\n",
       "      <td>...</td>\n",
       "      <td>...</td>\n",
       "      <td>...</td>\n",
       "      <td>...</td>\n",
       "      <td>...</td>\n",
       "      <td>...</td>\n",
       "      <td>...</td>\n",
       "      <td>...</td>\n",
       "      <td>...</td>\n",
       "      <td>...</td>\n",
       "      <td>...</td>\n",
       "      <td>...</td>\n",
       "      <td>...</td>\n",
       "      <td>...</td>\n",
       "      <td>...</td>\n",
       "      <td>...</td>\n",
       "      <td>...</td>\n",
       "    </tr>\n",
       "    <tr>\n",
       "      <th>19958</th>\n",
       "      <td>0</td>\n",
       "      <td>53</td>\n",
       "      <td>66</td>\n",
       "      <td>0</td>\n",
       "      <td>24757</td>\n",
       "      <td>29278</td>\n",
       "      <td>59696</td>\n",
       "      <td>127613</td>\n",
       "      <td>787</td>\n",
       "      <td>5</td>\n",
       "      <td>...</td>\n",
       "      <td>1</td>\n",
       "      <td>1</td>\n",
       "      <td>28</td>\n",
       "      <td>0</td>\n",
       "      <td>1</td>\n",
       "      <td>0</td>\n",
       "      <td>0</td>\n",
       "      <td>0</td>\n",
       "      <td>0</td>\n",
       "      <td>1</td>\n",
       "    </tr>\n",
       "    <tr>\n",
       "      <th>19959</th>\n",
       "      <td>0</td>\n",
       "      <td>53</td>\n",
       "      <td>66</td>\n",
       "      <td>0</td>\n",
       "      <td>24757</td>\n",
       "      <td>29278</td>\n",
       "      <td>59696</td>\n",
       "      <td>127613</td>\n",
       "      <td>787</td>\n",
       "      <td>5</td>\n",
       "      <td>...</td>\n",
       "      <td>1</td>\n",
       "      <td>1</td>\n",
       "      <td>28</td>\n",
       "      <td>0</td>\n",
       "      <td>1</td>\n",
       "      <td>0</td>\n",
       "      <td>0</td>\n",
       "      <td>0</td>\n",
       "      <td>0</td>\n",
       "      <td>1</td>\n",
       "    </tr>\n",
       "    <tr>\n",
       "      <th>19960</th>\n",
       "      <td>0</td>\n",
       "      <td>53</td>\n",
       "      <td>66</td>\n",
       "      <td>0</td>\n",
       "      <td>24757</td>\n",
       "      <td>29278</td>\n",
       "      <td>59696</td>\n",
       "      <td>127613</td>\n",
       "      <td>787</td>\n",
       "      <td>5</td>\n",
       "      <td>...</td>\n",
       "      <td>1</td>\n",
       "      <td>1</td>\n",
       "      <td>28</td>\n",
       "      <td>0</td>\n",
       "      <td>1</td>\n",
       "      <td>0</td>\n",
       "      <td>0</td>\n",
       "      <td>0</td>\n",
       "      <td>0</td>\n",
       "      <td>1</td>\n",
       "    </tr>\n",
       "    <tr>\n",
       "      <th>19961</th>\n",
       "      <td>0</td>\n",
       "      <td>53</td>\n",
       "      <td>66</td>\n",
       "      <td>0</td>\n",
       "      <td>24757</td>\n",
       "      <td>29278</td>\n",
       "      <td>59696</td>\n",
       "      <td>127613</td>\n",
       "      <td>787</td>\n",
       "      <td>5</td>\n",
       "      <td>...</td>\n",
       "      <td>1</td>\n",
       "      <td>1</td>\n",
       "      <td>28</td>\n",
       "      <td>0</td>\n",
       "      <td>1</td>\n",
       "      <td>0</td>\n",
       "      <td>0</td>\n",
       "      <td>0</td>\n",
       "      <td>0</td>\n",
       "      <td>1</td>\n",
       "    </tr>\n",
       "    <tr>\n",
       "      <th>19962</th>\n",
       "      <td>0</td>\n",
       "      <td>53</td>\n",
       "      <td>66</td>\n",
       "      <td>0</td>\n",
       "      <td>24757</td>\n",
       "      <td>29278</td>\n",
       "      <td>59696</td>\n",
       "      <td>127613</td>\n",
       "      <td>787</td>\n",
       "      <td>5</td>\n",
       "      <td>...</td>\n",
       "      <td>1</td>\n",
       "      <td>1</td>\n",
       "      <td>28</td>\n",
       "      <td>0</td>\n",
       "      <td>1</td>\n",
       "      <td>0</td>\n",
       "      <td>0</td>\n",
       "      <td>0</td>\n",
       "      <td>0</td>\n",
       "      <td>1</td>\n",
       "    </tr>\n",
       "  </tbody>\n",
       "</table>\n",
       "<p>19963 rows × 38 columns</p>\n",
       "</div>"
      ],
      "text/plain": [
       "       User  Current Age  Retirement Age  Gender  Zipcode  \\\n",
       "0         0           53              66       0    24757   \n",
       "1         0           53              66       0    24757   \n",
       "2         0           53              66       0    24757   \n",
       "3         0           53              66       0    24757   \n",
       "4         0           53              66       0    24757   \n",
       "...     ...          ...             ...     ...      ...   \n",
       "19958     0           53              66       0    24757   \n",
       "19959     0           53              66       0    24757   \n",
       "19960     0           53              66       0    24757   \n",
       "19961     0           53              66       0    24757   \n",
       "19962     0           53              66       0    24757   \n",
       "\n",
       "       Per Capita Income - Zipcode  Yearly Income - Person  Total Debt  \\\n",
       "0                            29278                   59696      127613   \n",
       "1                            29278                   59696      127613   \n",
       "2                            29278                   59696      127613   \n",
       "3                            29278                   59696      127613   \n",
       "4                            29278                   59696      127613   \n",
       "...                            ...                     ...         ...   \n",
       "19958                        29278                   59696      127613   \n",
       "19959                        29278                   59696      127613   \n",
       "19960                        29278                   59696      127613   \n",
       "19961                        29278                   59696      127613   \n",
       "19962                        29278                   59696      127613   \n",
       "\n",
       "       FICO Score  Num Credit Cards  ...  Has Chip  Cards Issued  \\\n",
       "0             787                 5  ...         1             2   \n",
       "1             787                 5  ...         1             2   \n",
       "2             787                 5  ...         1             2   \n",
       "3             787                 5  ...         1             2   \n",
       "4             787                 5  ...         1             2   \n",
       "...           ...               ...  ...       ...           ...   \n",
       "19958         787                 5  ...         1             1   \n",
       "19959         787                 5  ...         1             1   \n",
       "19960         787                 5  ...         1             1   \n",
       "19961         787                 5  ...         1             1   \n",
       "19962         787                 5  ...         1             1   \n",
       "\n",
       "       Credit Limit  Visa  Mastercard  Discover  Amex  Debit  Credit  \\\n",
       "0             24295     1           0         0     0      1       0   \n",
       "1             24295     1           0         0     0      1       0   \n",
       "2             24295     1           0         0     0      1       0   \n",
       "3             24295     1           0         0     0      1       0   \n",
       "4             24295     1           0         0     0      1       0   \n",
       "...             ...   ...         ...       ...   ...    ...     ...   \n",
       "19958            28     0           1         0     0      0       0   \n",
       "19959            28     0           1         0     0      0       0   \n",
       "19960            28     0           1         0     0      0       0   \n",
       "19961            28     0           1         0     0      0       0   \n",
       "19962            28     0           1         0     0      0       0   \n",
       "\n",
       "       Debit (Prepaid)  \n",
       "0                    0  \n",
       "1                    0  \n",
       "2                    0  \n",
       "3                    0  \n",
       "4                    0  \n",
       "...                ...  \n",
       "19958                1  \n",
       "19959                1  \n",
       "19960                1  \n",
       "19961                1  \n",
       "19962                1  \n",
       "\n",
       "[19963 rows x 38 columns]"
      ]
     },
     "execution_count": 16,
     "metadata": {},
     "output_type": "execute_result"
    }
   ],
   "source": [
    "users[users['User'] == 0].merge(pd.merge(trans, cards.rename(columns={'CARD INDEX': 'Card'}), on=['User', 'Card']), on='User')"
   ]
  },
  {
   "cell_type": "code",
   "execution_count": null,
   "metadata": {},
   "outputs": [],
   "source": []
  }
 ],
 "metadata": {
  "kernelspec": {
   "display_name": "wenv",
   "language": "python",
   "name": "python3"
  },
  "language_info": {
   "codemirror_mode": {
    "name": "ipython",
    "version": 3
   },
   "file_extension": ".py",
   "mimetype": "text/x-python",
   "name": "python",
   "nbconvert_exporter": "python",
   "pygments_lexer": "ipython3",
   "version": "3.9.13"
  },
  "orig_nbformat": 4,
  "vscode": {
   "interpreter": {
    "hash": "79af883d0fed3fde69702b9c6d67210ea7fab711f741cf74fe3ad86041e7d3c8"
   }
  }
 },
 "nbformat": 4,
 "nbformat_minor": 2
}
