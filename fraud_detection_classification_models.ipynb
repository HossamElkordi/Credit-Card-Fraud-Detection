{
  "cells": [
    {
      "cell_type": "code",
      "execution_count": null,
      "metadata": {
        "id": "aelz50CmMLX9"
      },
      "outputs": [],
      "source": [
        "import gc\n",
        "import os\n",
        "import joblib\n",
        "import random\n",
        "import numpy as np\n",
        "import pandas as pd\n",
        "import datetime as dt\n",
        "from tqdm import tqdm\n",
        "import tensorflow as tf\n",
        "from tensorflow import keras\n",
        "from keras import layers, Model\n",
        "from matplotlib import pyplot as plt\n",
        "from sklearn.model_selection import train_test_split\n",
        "from sklearn.utils.class_weight import compute_class_weight\n",
        "from sklearn.preprocessing import LabelEncoder, OneHotEncoder, MinMaxScaler"
      ]
    },
    {
      "cell_type": "markdown",
      "metadata": {
        "id": "rHaAPr2YMLYA"
      },
      "source": [
        "# Loading and Preparing Data"
      ]
    },
    {
      "cell_type": "code",
      "execution_count": null,
      "metadata": {
        "id": "rwaT_PA7MLYB"
      },
      "outputs": [],
      "source": [
        "users = pd.read_csv('./Data/users.csv')\n",
        "cards = pd.read_csv('./Data/cards.csv')\n",
        "trans = pd.read_csv('./Data/transactions.csv')"
      ]
    },
    {
      "cell_type": "code",
      "execution_count": null,
      "metadata": {
        "id": "qM_x-jfhMLYC"
      },
      "outputs": [],
      "source": [
        "users_needed_cols = ['Current Age', 'Retirement Age', 'Gender', 'Zipcode', 'Per Capita Income - Zipcode', \n",
        "                    'Yearly Income - Person', 'Total Debt', 'FICO Score', 'Num Credit Cards']\n",
        "cards_needed_cols = ['User', 'CARD INDEX', 'Year PIN last Changed', 'Acct Open Date', 'Expires', 'Card Duration', \n",
        "                    'Has Chip', 'Cards Issued', 'Credit Limit', 'Visa', 'Mastercard', 'Discover', 'Amex', 'Debit', \n",
        "                    'Credit', 'Debit (Prepaid)']\n",
        "trans_needed_cols = ['User', 'Card', 'Time', 'Time From Now', 'Amount', 'Merchant Name', 'Merchant City', \n",
        "                    'Merchant State', 'Zip', 'MCC', 'Errors?', 'Swipe Transaction', 'Online Transaction', \n",
        "                    'Chip Transaction', 'Is Fraud?']"
      ]
    },
    {
      "cell_type": "code",
      "execution_count": null,
      "metadata": {
        "id": "DyrzCk1kMLYC"
      },
      "outputs": [],
      "source": [
        "data_prep_models = {}"
      ]
    },
    {
      "cell_type": "markdown",
      "metadata": {
        "id": "gPebYyzgMLYC"
      },
      "source": [
        "## Handling Zip Codes"
      ]
    },
    {
      "cell_type": "code",
      "execution_count": null,
      "metadata": {
        "id": "iFeEszAUMLYD"
      },
      "outputs": [],
      "source": [
        "zip = pd.concat([users.Zipcode, trans.Zip.fillna(0).astype(int)])\n",
        "zip_encoder = LabelEncoder()\n",
        "zip_encoder.fit_transform(zip)\n",
        "users.Zipcode = zip_encoder.transform(users.Zipcode)\n",
        "trans.Zip = zip_encoder.transform(trans.Zip.fillna(0).astype(int))\n",
        "data_prep_models['zip_encoder'] = zip_encoder"
      ]
    },
    {
      "cell_type": "code",
      "execution_count": null,
      "metadata": {
        "colab": {
          "base_uri": "https://localhost:8080/"
        },
        "id": "czkj3pnNMLYD",
        "outputId": "c3c99d66-f26b-471d-bf50-606de5bb11fb"
      },
      "outputs": [
        {
          "output_type": "execute_result",
          "data": {
            "text/plain": [
              "(33, 27247)"
            ]
          },
          "metadata": {},
          "execution_count": 9
        }
      ],
      "source": [
        "users['Zipcode'].min(), users['Zipcode'].max()"
      ]
    },
    {
      "cell_type": "code",
      "execution_count": null,
      "metadata": {
        "colab": {
          "base_uri": "https://localhost:8080/"
        },
        "id": "K2LucaCIMLYE",
        "outputId": "b568721e-283e-4a06-af6d-e7553ac4ff6c"
      },
      "outputs": [
        {
          "output_type": "execute_result",
          "data": {
            "text/plain": [
              "(0, 27321)"
            ]
          },
          "metadata": {},
          "execution_count": 10
        }
      ],
      "source": [
        "trans['Zip'].min(), trans['Zip'].max()"
      ]
    },
    {
      "cell_type": "code",
      "execution_count": null,
      "metadata": {
        "id": "Bx4-xF1aMLYE"
      },
      "outputs": [],
      "source": [
        "users['Zipcode'] = users['Zipcode'].astype(np.uint16)\n",
        "trans['Zip'] = trans['Zip'].astype(np.uint16)"
      ]
    },
    {
      "cell_type": "markdown",
      "metadata": {
        "id": "7m8W8cMQMLYF"
      },
      "source": [
        "## Handling User Ages"
      ]
    },
    {
      "cell_type": "code",
      "execution_count": null,
      "metadata": {
        "colab": {
          "base_uri": "https://localhost:8080/"
        },
        "id": "mlDCY111MLYF",
        "outputId": "86071942-127a-4d55-f364-3c8b2cf2fb25"
      },
      "outputs": [
        {
          "output_type": "execute_result",
          "data": {
            "text/plain": [
              "(Current Age       18\n",
              " Retirement Age    50\n",
              " dtype: int64, Current Age       101\n",
              " Retirement Age     79\n",
              " dtype: int64)"
            ]
          },
          "metadata": {},
          "execution_count": 12
        }
      ],
      "source": [
        "users[['Current Age', 'Retirement Age']].min(), users[['Current Age', 'Retirement Age']].max()"
      ]
    },
    {
      "cell_type": "code",
      "execution_count": null,
      "metadata": {
        "id": "ThngHoHgMLYF"
      },
      "outputs": [],
      "source": [
        "users['Current Age'] = users['Current Age'].astype(np.uint8)\n",
        "users['Retirement Age'] = users['Retirement Age'].astype(np.uint8)"
      ]
    },
    {
      "cell_type": "markdown",
      "metadata": {
        "id": "pC917lpHMLYF"
      },
      "source": [
        "## Handling User Gender"
      ]
    },
    {
      "cell_type": "code",
      "execution_count": null,
      "metadata": {
        "colab": {
          "base_uri": "https://localhost:8080/"
        },
        "id": "aJswaZImMLYF",
        "outputId": "29dc2a1f-3b78-43fb-c80f-f18e7495ce58"
      },
      "outputs": [
        {
          "output_type": "execute_result",
          "data": {
            "text/plain": [
              "Female    1016\n",
              "Male       984\n",
              "Name: Gender, dtype: int64"
            ]
          },
          "metadata": {},
          "execution_count": 14
        }
      ],
      "source": [
        "users['Gender'].value_counts()"
      ]
    },
    {
      "cell_type": "code",
      "execution_count": null,
      "metadata": {
        "id": "Uk9XIn0eMLYG"
      },
      "outputs": [],
      "source": [
        "gender_encoder = LabelEncoder()\n",
        "gender_encoder.fit_transform(users['Gender'])\n",
        "users['Gender'] = gender_encoder.transform(users['Gender'])\n",
        "data_prep_models['gender_encoder'] = gender_encoder"
      ]
    },
    {
      "cell_type": "markdown",
      "metadata": {
        "id": "8FSl5fYFMLYG"
      },
      "source": [
        "## Handling Money"
      ]
    },
    {
      "cell_type": "code",
      "execution_count": null,
      "metadata": {
        "id": "SOeJ_7TQMLYG"
      },
      "outputs": [],
      "source": [
        "users['Per Capita Income - Zipcode'] = users['Per Capita Income - Zipcode'].str.replace('$', '', regex=True).astype(int)\n",
        "users['Yearly Income - Person'] = users['Yearly Income - Person'].str.replace('$', '', regex=True).astype(int)\n",
        "users['Total Debt'] = users['Total Debt'].str.replace('$', '', regex=True).astype(int)"
      ]
    },
    {
      "cell_type": "markdown",
      "metadata": {
        "id": "KBaOFiVwMLYG"
      },
      "source": [
        "## Handling FICO Score"
      ]
    },
    {
      "cell_type": "code",
      "execution_count": null,
      "metadata": {
        "colab": {
          "base_uri": "https://localhost:8080/"
        },
        "id": "JQHjero9MLYG",
        "outputId": "d2d8489d-c8a6-4cf5-be58-71234844f8cf"
      },
      "outputs": [
        {
          "output_type": "execute_result",
          "data": {
            "text/plain": [
              "(480, 850)"
            ]
          },
          "metadata": {},
          "execution_count": 17
        }
      ],
      "source": [
        "users['FICO Score'].min(), users['FICO Score'].max()"
      ]
    },
    {
      "cell_type": "code",
      "execution_count": null,
      "metadata": {
        "id": "k5enX51FMLYG"
      },
      "outputs": [],
      "source": [
        "users['FICO Score'] = users['FICO Score'].astype(np.uint16)"
      ]
    },
    {
      "cell_type": "markdown",
      "metadata": {
        "id": "Hg21RC5AMLYG"
      },
      "source": [
        "## Handling User's Credit Cards Number"
      ]
    },
    {
      "cell_type": "code",
      "execution_count": null,
      "metadata": {
        "id": "6R4Iv4uLMLYG"
      },
      "outputs": [],
      "source": [
        "users['Num Credit Cards'] = users['Num Credit Cards'].astype(np.uint8)"
      ]
    },
    {
      "cell_type": "markdown",
      "metadata": {
        "id": "zBweb1UPMLYH"
      },
      "source": [
        "## Handling User and Card Index"
      ]
    },
    {
      "cell_type": "code",
      "execution_count": null,
      "metadata": {
        "id": "IjdIwQTIMLYH"
      },
      "outputs": [],
      "source": [
        "cards['User'] = cards['User'].astype(np.uint16)\n",
        "cards['CARD INDEX'] = cards['CARD INDEX'].astype(np.uint8)"
      ]
    },
    {
      "cell_type": "markdown",
      "metadata": {
        "id": "jhQEuGopMLYH"
      },
      "source": [
        "## Handling Card Brand and Type"
      ]
    },
    {
      "cell_type": "code",
      "execution_count": null,
      "metadata": {
        "colab": {
          "base_uri": "https://localhost:8080/"
        },
        "id": "c1tjuJmHMLYH",
        "outputId": "07a67c38-00c8-4fd5-ed00-b012854eab30"
      },
      "outputs": [
        {
          "output_type": "execute_result",
          "data": {
            "text/plain": [
              "(Mastercard    3209\n",
              " Visa          2326\n",
              " Amex           402\n",
              " Discover       209\n",
              " Name: Card Brand, dtype: int64, Debit              3511\n",
              " Credit             2057\n",
              " Debit (Prepaid)     578\n",
              " Name: Card Type, dtype: int64)"
            ]
          },
          "metadata": {},
          "execution_count": 21
        }
      ],
      "source": [
        "cards['Card Brand'].value_counts(), cards['Card Type'].value_counts()"
      ]
    },
    {
      "cell_type": "code",
      "execution_count": null,
      "metadata": {
        "colab": {
          "base_uri": "https://localhost:8080/"
        },
        "id": "AaZor0U1MLYH",
        "outputId": "aac5caab-2e61-4296-f5d8-c64b1b2ede71"
      },
      "outputs": [
        {
          "output_type": "execute_result",
          "data": {
            "text/plain": [
              "[array(['Visa', 'Mastercard', 'Discover', 'Amex'], dtype=object),\n",
              " array(['Debit', 'Credit', 'Debit (Prepaid)'], dtype=object)]"
            ]
          },
          "metadata": {},
          "execution_count": 22
        }
      ],
      "source": [
        "card_brand_type_encoder = OneHotEncoder(categories=[cards['Card Brand'].unique(), cards['Card Type'].unique()], handle_unknown='ignore', dtype=np.uint8)\n",
        "brand = cards[['Card Brand', 'Card Type']]\n",
        "card_brand_type_encoder.fit_transform(brand)\n",
        "brand = pd.DataFrame(card_brand_type_encoder.transform(brand).toarray(), columns=['Visa', 'Mastercard', 'Discover', 'Amex', 'Debit', 'Credit', 'Debit (Prepaid)'])\n",
        "cards = pd.concat([cards.drop(columns=['Card Brand', 'Card Type']), brand], axis=1)\n",
        "data_prep_models['card_brand_type_encoder'] = card_brand_type_encoder\n",
        "card_brand_type_encoder.categories_"
      ]
    },
    {
      "cell_type": "markdown",
      "metadata": {
        "id": "EdySv0BUMLYH"
      },
      "source": [
        "## Handle Has Chip"
      ]
    },
    {
      "cell_type": "code",
      "execution_count": null,
      "metadata": {
        "colab": {
          "base_uri": "https://localhost:8080/"
        },
        "id": "Jt6KBU4xMLYH",
        "outputId": "a1db82fc-300a-4fb8-b03e-846fe03202a6"
      },
      "outputs": [
        {
          "output_type": "execute_result",
          "data": {
            "text/plain": [
              "YES    5500\n",
              "NO      646\n",
              "Name: Has Chip, dtype: int64"
            ]
          },
          "metadata": {},
          "execution_count": 23
        }
      ],
      "source": [
        "cards['Has Chip'].value_counts()"
      ]
    },
    {
      "cell_type": "code",
      "execution_count": null,
      "metadata": {
        "id": "UWrsZwmiMLYH"
      },
      "outputs": [],
      "source": [
        "has_chip_encoder = LabelEncoder()\n",
        "has_chip_encoder.fit_transform(cards['Has Chip'])\n",
        "cards['Has Chip'] = has_chip_encoder.transform(cards['Has Chip'])\n",
        "data_prep_models['has_chip_encoder'] = has_chip_encoder"
      ]
    },
    {
      "cell_type": "markdown",
      "metadata": {
        "id": "pnBszueBMLYH"
      },
      "source": [
        "## Handle Cards Issued"
      ]
    },
    {
      "cell_type": "code",
      "execution_count": null,
      "metadata": {
        "colab": {
          "base_uri": "https://localhost:8080/"
        },
        "id": "nsGdBVVNMLYI",
        "outputId": "b0940a7e-1bd7-4e03-c8a9-afc5c74de082"
      },
      "outputs": [
        {
          "output_type": "execute_result",
          "data": {
            "text/plain": [
              "(1, 3)"
            ]
          },
          "metadata": {},
          "execution_count": 25
        }
      ],
      "source": [
        "cards['Cards Issued'].min(), cards['Cards Issued'].max()"
      ]
    },
    {
      "cell_type": "code",
      "execution_count": null,
      "metadata": {
        "id": "vlodW7-tMLYI"
      },
      "outputs": [],
      "source": [
        "cards['Cards Issued'] = cards['Cards Issued'].astype(np.uint8)"
      ]
    },
    {
      "cell_type": "markdown",
      "metadata": {
        "id": "qf-e2BGCMLYI"
      },
      "source": [
        "## Handle Card Credit Limit"
      ]
    },
    {
      "cell_type": "code",
      "execution_count": null,
      "metadata": {
        "id": "2fyxPKt6MLYI"
      },
      "outputs": [],
      "source": [
        "cards['Credit Limit'] = cards['Credit Limit'].str.replace('$', '', regex=True).astype(int)"
      ]
    },
    {
      "cell_type": "markdown",
      "metadata": {
        "id": "JOOzE5u_MLYI"
      },
      "source": [
        "## Handle Cards Dates"
      ]
    },
    {
      "cell_type": "code",
      "execution_count": null,
      "metadata": {
        "id": "73ty-BBTMLYI"
      },
      "outputs": [],
      "source": [
        "now = dt.datetime.now()\n",
        "cards['Year PIN last Changed'] += (now.year - cards['Year PIN last Changed']).astype(np.uint16)\n",
        "cards['Expires'] = ((now - pd.to_datetime(cards['Expires'], infer_datetime_format=True)) / np.timedelta64(1, 'M')).astype(int)\n",
        "cards['Acct Open Date'] = ((now - pd.to_datetime(cards['Acct Open Date'], infer_datetime_format=True)) / np.timedelta64(1, 'M')).astype(int)\n",
        "cards['Card Duration'] = cards['Expires'] - cards['Acct Open Date']"
      ]
    },
    {
      "cell_type": "markdown",
      "metadata": {
        "id": "V5pxWrv1MLYI"
      },
      "source": [
        "## Transaction User and Card"
      ]
    },
    {
      "cell_type": "code",
      "execution_count": null,
      "metadata": {
        "id": "fDbrcjBhMLYI"
      },
      "outputs": [],
      "source": [
        "trans.sort_values(by=['User', 'Card', 'Year', 'Month', 'Day', 'Time'], inplace=True)\n",
        "trans['User'] = trans['User'].astype(np.uint16)\n",
        "trans['Card'] = trans['Card'].astype(np.uint8)"
      ]
    },
    {
      "cell_type": "markdown",
      "metadata": {
        "id": "a-mJ876_MLYI"
      },
      "source": [
        "## Handling Date and Time"
      ]
    },
    {
      "cell_type": "code",
      "execution_count": null,
      "metadata": {
        "id": "JMzaqAqaMLYI"
      },
      "outputs": [],
      "source": [
        "trans['Time From Now'] = (now - pd.to_datetime(dict(year=trans['Year'], month=trans['Month'], day=trans['Day']))).dt.days\n",
        "trans['Time'] = trans['Time'].str.replace(':[0-9]+', '', regex=True).astype(np.uint8)"
      ]
    },
    {
      "cell_type": "markdown",
      "metadata": {
        "id": "RLZcCwmqMLYI"
      },
      "source": [
        "## Handling Amount"
      ]
    },
    {
      "cell_type": "code",
      "execution_count": null,
      "metadata": {
        "id": "5R1b_ZiWMLYJ"
      },
      "outputs": [],
      "source": [
        "trans['Amount'] = trans['Amount'].str.replace('$', '', regex=True).astype(float).apply(lambda x: np.log(max(1.0, x)))"
      ]
    },
    {
      "cell_type": "markdown",
      "metadata": {
        "id": "yPpSXy_7MLYJ"
      },
      "source": [
        "## Handling Use Chip"
      ]
    },
    {
      "cell_type": "code",
      "execution_count": null,
      "metadata": {
        "colab": {
          "base_uri": "https://localhost:8080/"
        },
        "id": "u1nzL1vPMLYJ",
        "outputId": "182e4abf-d718-4590-b278-d9821f0485ad"
      },
      "outputs": [
        {
          "output_type": "execute_result",
          "data": {
            "text/plain": [
              "[array(['Swipe Transaction', 'Online Transaction', 'Chip Transaction'],\n",
              "       dtype=object)]"
            ]
          },
          "metadata": {},
          "execution_count": 32
        }
      ],
      "source": [
        "use_chip_encoder = OneHotEncoder(categories=[list(trans['Use Chip'].unique())], handle_unknown='ignore', dtype=np.uint8)\n",
        "use_chip_encoder.fit_transform(trans[['Use Chip']])\n",
        "use_chip = pd.DataFrame(use_chip_encoder.transform(trans[['Use Chip']]).toarray(), columns=['Swipe Transaction', 'Online Transaction', 'Chip Transaction'])\n",
        "trans = pd.concat([trans.drop(columns=['Use Chip']), use_chip], axis=1)\n",
        "data_prep_models['use_chip_encoder'] = use_chip_encoder\n",
        "use_chip_encoder.categories_"
      ]
    },
    {
      "cell_type": "markdown",
      "metadata": {
        "id": "LsfNRCTDMLYJ"
      },
      "source": [
        "## Handling Merchant City, State, Name and MCC"
      ]
    },
    {
      "cell_type": "code",
      "execution_count": null,
      "metadata": {
        "id": "SH3ZhMnKMLYJ"
      },
      "outputs": [],
      "source": [
        "merchant_name_encoder = LabelEncoder()\n",
        "merchant_name_encoder.fit(trans['Merchant Name'])\n",
        "trans['Merchant Name'] = merchant_name_encoder.transform(trans['Merchant Name'])\n",
        "data_prep_models['merchant_name_encoder'] = merchant_name_encoder"
      ]
    },
    {
      "cell_type": "code",
      "execution_count": null,
      "metadata": {
        "colab": {
          "base_uri": "https://localhost:8080/"
        },
        "id": "MeCOJ51WMLYJ",
        "outputId": "742fc2b4-5bf9-4332-a1a7-3e73a7711b57"
      },
      "outputs": [
        {
          "output_type": "execute_result",
          "data": {
            "text/plain": [
              "(0, 100342)"
            ]
          },
          "metadata": {},
          "execution_count": 34
        }
      ],
      "source": [
        "trans['Merchant Name'].min(), trans['Merchant Name'].max()"
      ]
    },
    {
      "cell_type": "code",
      "execution_count": null,
      "metadata": {
        "id": "xaZc2EBTMLYJ"
      },
      "outputs": [],
      "source": [
        "trans['Merchant Name'] = trans['Merchant Name'].astype(np.uint32)"
      ]
    },
    {
      "cell_type": "code",
      "execution_count": null,
      "metadata": {
        "id": "y_pWAmF-MLYJ"
      },
      "outputs": [],
      "source": [
        "merchant_city_encoder = LabelEncoder()\n",
        "merchant_city_encoder.fit(trans['Merchant City'])\n",
        "trans['Merchant City'] = merchant_city_encoder.transform(trans['Merchant City'])\n",
        "data_prep_models['merchant_city_encoder'] = merchant_city_encoder"
      ]
    },
    {
      "cell_type": "code",
      "execution_count": null,
      "metadata": {
        "colab": {
          "base_uri": "https://localhost:8080/"
        },
        "id": "Hltb-Ro1MLYJ",
        "outputId": "4a1b4d46-ab97-4c4a-eca9-3a9643a89200"
      },
      "outputs": [
        {
          "output_type": "execute_result",
          "data": {
            "text/plain": [
              "(0, 13428)"
            ]
          },
          "metadata": {},
          "execution_count": 37
        }
      ],
      "source": [
        "trans['Merchant City'].min(), trans['Merchant City'].max()"
      ]
    },
    {
      "cell_type": "code",
      "execution_count": null,
      "metadata": {
        "id": "Xz1K1MO0MLYJ"
      },
      "outputs": [],
      "source": [
        "trans['Merchant City'] = trans['Merchant City'].astype(np.uint16)"
      ]
    },
    {
      "cell_type": "code",
      "execution_count": null,
      "metadata": {
        "id": "pQ7nOgYlMLYJ"
      },
      "outputs": [],
      "source": [
        "trans['Merchant State'].fillna('Unknown', inplace=True)\n",
        "merchant_state_encoder = LabelEncoder()\n",
        "merchant_state_encoder.fit(trans['Merchant State'])\n",
        "trans['Merchant State'] = merchant_state_encoder.transform(trans['Merchant State'])\n",
        "data_prep_models['merchant_state_encoder'] = merchant_state_encoder"
      ]
    },
    {
      "cell_type": "code",
      "execution_count": null,
      "metadata": {
        "colab": {
          "base_uri": "https://localhost:8080/"
        },
        "id": "npyCxjzeMLYK",
        "outputId": "10969970-dc69-471f-ce70-9a294379f7b9"
      },
      "outputs": [
        {
          "output_type": "execute_result",
          "data": {
            "text/plain": [
              "(0, 223)"
            ]
          },
          "metadata": {},
          "execution_count": 40
        }
      ],
      "source": [
        "trans['Merchant State'].min(), trans['Merchant State'].max()"
      ]
    },
    {
      "cell_type": "code",
      "execution_count": null,
      "metadata": {
        "id": "4fvsMH6bMLYK"
      },
      "outputs": [],
      "source": [
        "trans['Merchant State'] = trans['Merchant State'].astype(np.uint8)"
      ]
    },
    {
      "cell_type": "code",
      "execution_count": null,
      "metadata": {
        "id": "Y7cfG_E0MLYK"
      },
      "outputs": [],
      "source": [
        "mcc_encoder = LabelEncoder()\n",
        "mcc_encoder.fit(trans['MCC'])\n",
        "trans['MCC'] = mcc_encoder.transform(trans['MCC'])\n",
        "data_prep_models['mcc_encoder'] = mcc_encoder"
      ]
    },
    {
      "cell_type": "code",
      "execution_count": null,
      "metadata": {
        "colab": {
          "base_uri": "https://localhost:8080/"
        },
        "id": "iRMIXXOkMLYK",
        "outputId": "fd8cd20c-4f25-4178-944a-6f1381477c70"
      },
      "outputs": [
        {
          "output_type": "execute_result",
          "data": {
            "text/plain": [
              "(0, 108)"
            ]
          },
          "metadata": {},
          "execution_count": 43
        }
      ],
      "source": [
        "trans['MCC'].min(), trans['MCC'].max()"
      ]
    },
    {
      "cell_type": "code",
      "execution_count": null,
      "metadata": {
        "id": "d_Nx83QcMLYK"
      },
      "outputs": [],
      "source": [
        "trans['Merchant State'] = trans['Merchant State'].astype(np.uint8)"
      ]
    },
    {
      "cell_type": "markdown",
      "metadata": {
        "id": "hMsZNQgVMLYK"
      },
      "source": [
        "## Handling Errors"
      ]
    },
    {
      "cell_type": "code",
      "execution_count": null,
      "metadata": {
        "id": "V_W6dYJTMLYK"
      },
      "outputs": [],
      "source": [
        "trans['Errors?'].fillna('No Errors', inplace=True)\n",
        "errors_encoder = LabelEncoder()\n",
        "errors_encoder.fit(trans['Errors?'])\n",
        "trans['Errors?'] = errors_encoder.transform(trans['Errors?'])\n",
        "data_prep_models['errors_encoder'] = errors_encoder"
      ]
    },
    {
      "cell_type": "code",
      "execution_count": null,
      "metadata": {
        "colab": {
          "base_uri": "https://localhost:8080/"
        },
        "id": "zoUxxdZaMLYK",
        "outputId": "2984a458-e4e6-4180-a201-741169ff2ed3"
      },
      "outputs": [
        {
          "output_type": "execute_result",
          "data": {
            "text/plain": [
              "(0, 23)"
            ]
          },
          "metadata": {},
          "execution_count": 46
        }
      ],
      "source": [
        "trans['Errors?'].min(), trans['Errors?'].max()"
      ]
    },
    {
      "cell_type": "code",
      "execution_count": null,
      "metadata": {
        "id": "dFNbxy7rMLYK"
      },
      "outputs": [],
      "source": [
        "trans['Errors?'] = trans['Errors?'].astype(np.uint8)"
      ]
    },
    {
      "cell_type": "code",
      "execution_count": null,
      "metadata": {
        "id": "indSvh-QMLYK"
      },
      "outputs": [],
      "source": [
        "trans['Is Fraud?'] = trans['Is Fraud?'].replace({'No': 0, 'Yes': 1}).astype(np.uint8)"
      ]
    },
    {
      "cell_type": "markdown",
      "metadata": {
        "id": "-Ytck-i4MLYL"
      },
      "source": [
        "## Saving Data Prep Models"
      ]
    },
    {
      "cell_type": "code",
      "execution_count": null,
      "metadata": {
        "colab": {
          "base_uri": "https://localhost:8080/"
        },
        "id": "n-e1hL4IMLYL",
        "outputId": "55cdc7ed-248d-476c-980f-cd04de189d00"
      },
      "outputs": [
        {
          "output_type": "execute_result",
          "data": {
            "text/plain": [
              "['./Models/DataPrepModels.pkl']"
            ]
          },
          "metadata": {},
          "execution_count": 49
        }
      ],
      "source": [
        "joblib.dump(data_prep_models, './Models/DataPrepModels.pkl')"
      ]
    },
    {
      "cell_type": "markdown",
      "metadata": {
        "id": "7ep5QwIIMLYL"
      },
      "source": [
        "## Saving Final Data"
      ]
    },
    {
      "cell_type": "code",
      "execution_count": null,
      "metadata": {
        "colab": {
          "base_uri": "https://localhost:8080/"
        },
        "id": "9NZ1vkMPMLYL",
        "outputId": "a97b24fa-7bdb-4083-9a6d-f5638e24335f"
      },
      "outputs": [
        {
          "output_type": "execute_result",
          "data": {
            "text/plain": [
              "['./Data/FinalData/types.pkl']"
            ]
          },
          "metadata": {},
          "execution_count": 50
        }
      ],
      "source": [
        "dtypes = {}\n",
        "dtypes['users'] = users[users_needed_cols].dtypes.to_dict()\n",
        "dtypes['cards'] = cards[cards_needed_cols].dtypes.to_dict()\n",
        "dtypes['trans'] = trans[trans_needed_cols].dtypes.to_dict()\n",
        "joblib.dump(dtypes, './Data/FinalData/types.pkl')"
      ]
    },
    {
      "cell_type": "code",
      "execution_count": null,
      "metadata": {
        "id": "rEEsUHgVMLYL"
      },
      "outputs": [],
      "source": [
        "users[users_needed_cols].to_csv('./Data/FinalData/users.csv', index=False)\n",
        "cards[cards_needed_cols].to_csv('./Data/FinalData/cards.csv', index=False)\n",
        "trans[trans_needed_cols].to_csv('./Data/FinalData/trans.csv', index=False)"
      ]
    },
    {
      "cell_type": "code",
      "source": [
        "!zip -r final_data.zip /content/Data\n",
        "!zip -r final_models.zip /content/Models"
      ],
      "metadata": {
        "colab": {
          "base_uri": "https://localhost:8080/"
        },
        "id": "h6u3aU86OXnD",
        "outputId": "e868088d-5d2b-4ebe-96be-b13dd36adc08"
      },
      "execution_count": null,
      "outputs": [
        {
          "output_type": "stream",
          "name": "stdout",
          "text": [
            "  adding: content/Data/ (stored 0%)\n",
            "  adding: content/Data/.ipynb_checkpoints/ (stored 0%)\n",
            "  adding: content/Data/FinalData/ (stored 0%)\n",
            "  adding: content/Data/FinalData/trans.csv (deflated 80%)\n",
            "  adding: content/Data/FinalData/users.csv (deflated 55%)\n",
            "  adding: content/Data/FinalData/cards.csv (deflated 74%)\n",
            "  adding: content/Data/FinalData/types.pkl (deflated 43%)\n",
            "  adding: content/Models/ (stored 0%)\n",
            "  adding: content/Models/DataPrepModels.pkl (deflated 28%)\n"
          ]
        }
      ]
    },
    {
      "cell_type": "code",
      "source": [
        "!cp /content/final_models.zip /content/drive/MyDrive/IBM_Dataset/\n",
        "!cp /content/final_data.zip /content/drive/MyDrive/IBM_Dataset/"
      ],
      "metadata": {
        "id": "VSsaHTtnPbcG"
      },
      "execution_count": null,
      "outputs": []
    },
    {
      "cell_type": "markdown",
      "metadata": {
        "id": "ytdwoawhMLYL"
      },
      "source": [
        "# Load Data"
      ]
    },
    {
      "cell_type": "code",
      "source": [
        "from google.colab import drive\n",
        "drive.mount('/content/drive')"
      ],
      "metadata": {
        "colab": {
          "base_uri": "https://localhost:8080/"
        },
        "id": "hAMxisS-MRON",
        "outputId": "bc4635a3-7cbb-4ecc-99ea-2d9128d182f2"
      },
      "execution_count": null,
      "outputs": [
        {
          "output_type": "stream",
          "name": "stdout",
          "text": [
            "Mounted at /content/drive\n"
          ]
        }
      ]
    },
    {
      "cell_type": "code",
      "source": [
        "!cp /content/drive/MyDrive/IBM_Dataset/final_data.zip /content/\n",
        "!cp /content/drive/MyDrive/IBM_Dataset/final_models.zip /content/"
      ],
      "metadata": {
        "id": "mMQT7UBlMibH"
      },
      "execution_count": null,
      "outputs": []
    },
    {
      "cell_type": "code",
      "source": [
        "!unzip final_data.zip\n",
        "!unzip final_models.zip\n",
        "!mv /content/content/Data Data\n",
        "!mv /content/content/Models Models\n",
        "!rm -r /content/content\n",
        "!rm final_data.zip\n",
        "!rm final_models.zip"
      ],
      "metadata": {
        "id": "xP0eoJHoMvPe"
      },
      "execution_count": null,
      "outputs": []
    },
    {
      "cell_type": "code",
      "execution_count": null,
      "metadata": {
        "id": "5Ad0AahfMLYL"
      },
      "outputs": [],
      "source": [
        "types = joblib.load('./Data/FinalData/types.pkl')\n",
        "\n",
        "users_needed_cols = ['Current Age', 'Retirement Age', 'Gender', 'Zipcode', 'Per Capita Income - Zipcode', \n",
        "                    'Yearly Income - Person', 'Total Debt', 'FICO Score', 'Num Credit Cards']\n",
        "cards_needed_cols = ['User', 'CARD INDEX', 'Year PIN last Changed', 'Acct Open Date', 'Expires', 'Card Duration', \n",
        "                    'Has Chip', 'Cards Issued', 'Credit Limit', 'Visa', 'Mastercard', 'Discover', 'Amex', 'Debit', \n",
        "                    'Credit', 'Debit (Prepaid)']\n",
        "trans_needed_cols = ['User', 'Card', 'Time', 'Time From Now', 'Amount', 'Merchant Name', 'Merchant City', \n",
        "                    'Merchant State', 'Zip', 'MCC', 'Errors?', 'Swipe Transaction', 'Online Transaction', \n",
        "                    'Chip Transaction', 'Is Fraud?']\n",
        "\n",
        "users = pd.read_csv('./Data/FinalData/users.csv', usecols=users_needed_cols, dtype=types['users'])\n",
        "cards = pd.read_csv('./Data/FinalData/cards.csv', usecols=cards_needed_cols, dtype=types['cards'])\n",
        "if os.path.exists('/content/drive/MyDrive/IBM_Dataset/trans_df.pkl'):\n",
        "  trans_df = joblib.load('/content/drive/MyDrive/IBM_Dataset/trans_df.pkl')\n",
        "  targets = joblib.load('/content/drive/MyDrive/IBM_Dataset/targets.pkl')\n",
        "else:\n",
        "  trans = pd.read_csv('./Data/FinalData/trans.csv', usecols=trans_needed_cols, dtype=types['trans'])"
      ]
    },
    {
      "cell_type": "code",
      "source": [
        "if not os.path.exists('/content/drive/MyDrive/IBM_Dataset/trans_df.pkl')\n",
        "  ids = {1869, 1897, 1594, 1727, 1627, 1527, 1474, 1418, 1307, 1807, 1021,\n",
        "          1997,  761,  553,  752,  288,  533,  151,  129,  165,  529,   16,\n",
        "            3,  802,  521,   42,  440, 1898, 1397,  786, 1893,   91, 1034,\n",
        "          1428,  453, 1146,  209, 1778,  398, 1534, 1622,   22,  291,  952,\n",
        "          1192, 1564,  539, 1328,   89,  359, 1305,  330,  420,  644,  836,\n",
        "          256,  688,  234,  574, 1188,  953, 1204, 1508, 1420, 1524,  139,\n",
        "          699, 1083, 1349, 1343, 1091,   62,  748,  794, 1102, 1103,  744,\n",
        "          1393,  473,   97, 1291, 1896, 1584,  182,  128,  540, 1725,  943,\n",
        "          899,  490, 1601,  494, 1589,  428,  938,  853, 1224,  515,  883,\n",
        "          823,  692, 1823, 1417, 1887, 1777, 1938, 1361, 1306, 1319,   53,\n",
        "          1755, 1759, 1977,  966,  657,  711, 1115, 1895,  876, 1882,  718,\n",
        "          1990, 1017,  150,  720,  751, 1478,  463,  271, 1180, 1693,  934,\n",
        "          1266, 1656, 1649,  418,  864, 1169,  672,  979,  215, 1533,  595,\n",
        "          901,  559,  714,  569, 1657,  520, 1962, 1934, 1038, 1107, 1006,\n",
        "          1841, 1809, 1802, 1567, 1773,  268,  299, 1736,  318, 1790,  782,\n",
        "          462,  907,  896, 1597,  452,  509, 1258,  729,   75,  881, 1913,\n",
        "          1877,  365,  188,   61,   77,  809,  503, 1158, 1735,  662, 1764,\n",
        "          831, 1223, 1178, 1470,  776,   49,   55, 1945, 1929,  621,  647,\n",
        "          1820,  726, 1918, 1519, 1908,  544,  180, 1522, 1827, 1444, 1734,\n",
        "            0, 1166, 1008, 1106, 1049,  827, 1052, 1173,  790,  885,  920,\n",
        "          1236,  929}\n",
        "  trans = trans[trans['User'].isin(ids)]"
      ],
      "metadata": {
        "id": "MmCv6jhXVUhn"
      },
      "execution_count": null,
      "outputs": []
    },
    {
      "cell_type": "markdown",
      "metadata": {
        "id": "tLk2L8VTMLYL"
      },
      "source": [
        "# Prepare Transactions Windows"
      ]
    },
    {
      "cell_type": "code",
      "source": [
        "stride = 5\n",
        "seq_len = 10"
      ],
      "metadata": {
        "id": "nIf8LFZA5nW6"
      },
      "execution_count": null,
      "outputs": []
    },
    {
      "cell_type": "code",
      "source": [
        "trans.reset_index(inplace=True)"
      ],
      "metadata": {
        "id": "5_pbQA70dOmn"
      },
      "execution_count": null,
      "outputs": []
    },
    {
      "cell_type": "code",
      "execution_count": null,
      "metadata": {
        "id": "nQtF8EdUMLYL"
      },
      "outputs": [],
      "source": [
        "if not os.path.exists('/content/drive/MyDrive/IBM_Dataset/trans_df.pkl')  \n",
        "  trans_df = []\n",
        "  targets = []\n",
        "  trans_feats = [\n",
        "      'Time', 'Time From Now', 'Amount', 'Merchant Name', 'Merchant City', 'Merchant State', \n",
        "      'Zip', 'MCC', 'Errors?', 'Swipe Transaction', 'Online Transaction', 'Chip Transaction'\n",
        "  ]\n",
        "  user_card_dict = trans.groupby('User')['Card'].unique().to_dict()\n",
        "  trans.set_index(['User', 'Card'], inplace=True)\n",
        "\n",
        "  for user_id in tqdm(user_card_dict.keys()):\n",
        "      for card_id in user_card_dict[user_id]:\n",
        "          t_df = trans.loc[user_id, card_id]\n",
        "          for i in range(0, t_df.shape[0], stride):\n",
        "              wind_df = t_df[i:i+seq_len]\n",
        "              trans_df.append((user_id, card_id, wind_df[trans_feats]))\n",
        "              targets.append(wind_df['Is Fraud?'].iloc[-1])\n",
        "  joblib.dump(trans_df, '/content/drive/MyDrive/IBM_Dataset/trans_df.pkl')\n",
        "  joblib.dump(targets, '/content/drive/MyDrive/IBM_Dataset/targets.pkl')"
      ]
    },
    {
      "cell_type": "code",
      "execution_count": null,
      "metadata": {
        "id": "VCpjpCgtMLYM"
      },
      "outputs": [],
      "source": [
        "x_train_val, x_test, y_train_val, y_test = train_test_split(trans_df, targets, test_size=0.3, random_state=42, stratify=targets)\n",
        "x_train, x_val, y_train, y_val = train_test_split(trans_df, targets, test_size=0.1, random_state=42, stratify=targets)"
      ]
    },
    {
      "cell_type": "markdown",
      "metadata": {
        "id": "J6wvFYqqMLYM"
      },
      "source": [
        "# Model Parameters"
      ]
    },
    {
      "cell_type": "code",
      "execution_count": null,
      "metadata": {
        "colab": {
          "base_uri": "https://localhost:8080/"
        },
        "id": "ndLmZwisMLYM",
        "outputId": "159f7c41-c86f-4d71-ef9e-3a10307a1826"
      },
      "outputs": [
        {
          "output_type": "execute_result",
          "data": {
            "text/plain": [
              "35"
            ]
          },
          "metadata": {},
          "execution_count": 24
        }
      ],
      "source": [
        "batch_size = 8\n",
        "n_step = 10\n",
        "users_feats = 9\n",
        "cards_feats = 14\n",
        "trans_feats = 12\n",
        "n_feats = users_feats + cards_feats + trans_feats\n",
        "n_feats"
      ]
    },
    {
      "cell_type": "markdown",
      "metadata": {
        "id": "Gs4rb9QqMLYM"
      },
      "source": [
        "# Data Loader"
      ]
    },
    {
      "cell_type": "code",
      "execution_count": null,
      "metadata": {
        "id": "SdQeTIoLMLYM"
      },
      "outputs": [],
      "source": [
        "def get_batch(user_df: pd.DataFrame, card_df: pd.DataFrame, trans_df: list, target: list, batch_size: int, conv_input=False):\n",
        "    card_df.set_index(['User', 'CARD INDEX'], inplace=True)\n",
        "    while True:\n",
        "        idx = np.random.choice(range(len(trans_df)), size=len(trans_df), replace=False)\n",
        "        for i in range(0, len(idx), batch_size):\n",
        "            t_df = [trans_df[idx[j]] for j in range(i, i + batch_size)]\n",
        "            X = np.zeros((len(t_df), n_step, n_feats))\n",
        "            Y = np.array([targets[idx[j]] for j in range(i, i + batch_size)])\n",
        "\n",
        "            for it, (user_id, card_id, wind_df) in enumerate(t_df):\n",
        "                if wind_df.shape[0] < seq_len:\n",
        "                  continue\n",
        "                user = user_df.iloc[[user_id]]\n",
        "                card = card_df.loc[user_id, card_id].to_frame().T\n",
        "                # print(user.shape, card.shape, wind_df.reset_index(drop=True).shape)\n",
        "                x = pd.concat([user.reset_index(drop=True), card.reset_index(drop=True), wind_df[trans_feats].reset_index(drop=True)], axis=1).ffill()\n",
        "\n",
        "                # print(x)\n",
        "                # print(x.columns)\n",
        "                X[it] = x\n",
        "            if conv_input:\n",
        "                X = np.transpose(X, axis=[0, 2, 1])\n",
        "            yield X, Y\n",
        "cards.reset_index(inplace=True)"
      ]
    },
    {
      "cell_type": "markdown",
      "metadata": {
        "id": "FsaHfcbOMLYM"
      },
      "source": [
        "# Training Plots"
      ]
    },
    {
      "cell_type": "code",
      "execution_count": null,
      "metadata": {
        "id": "j-C_OAtQMLYM"
      },
      "outputs": [],
      "source": [
        "def plot_history(history):\n",
        "    \"\"\"Plots accuracy/loss for training/validation set as a function of the epochs\n",
        "        :param history: Training history of model\n",
        "        :return:\n",
        "    \"\"\"\n",
        "\n",
        "    fig, axs = plt.subplots(4)\n",
        "    fig.tight_layout(pad=3)\n",
        "\n",
        "    axs[0].plot(history.history[\"loss\"], label=\"train loss\")\n",
        "    axs[0].plot(history.history[\"val_loss\"], label=\"val loss\")\n",
        "    axs[0].set_ylabel(\"loss\")\n",
        "    axs[0].set_xlabel(\"Epoch\")\n",
        "    axs[0].legend(loc=\"upper right\")\n",
        "    axs[0].set_title(\"Loss\")\n",
        "\n",
        "    axs[1].plot(history.history[\"auc\"], label=\"train AUC\")\n",
        "    axs[1].plot(history.history[\"val_auc\"], label=\"val AUC\")\n",
        "    axs[1].set_ylabel(\"AUC\")\n",
        "    axs[1].legend(loc=\"lower right\")\n",
        "    axs[1].set_title(\"AUC\")\n",
        "\n",
        "    axs[2].plot(history.history[\"precision\"], label=\"train precision\")\n",
        "    axs[2].plot(history.history[\"val_precision\"], label=\"val precision\")\n",
        "    axs[2].set_ylabel(\"Precision\")\n",
        "    axs[2].legend(loc=\"lower right\")\n",
        "    axs[2].set_title(\"Precision\")\n",
        "\n",
        "    axs[3].plot(history.history[\"recall\"], label=\"train recall\")\n",
        "    axs[3].plot(history.history[\"val_recall\"], label=\"val recall\")\n",
        "    axs[3].set_ylabel(\"Recall\")\n",
        "    axs[3].legend(loc=\"lower right\")\n",
        "    axs[3].set_title(\"Recall\")\n"
      ]
    },
    {
      "cell_type": "markdown",
      "metadata": {
        "id": "IVwX4ZXgMLYM"
      },
      "source": [
        "# Models"
      ]
    },
    {
      "cell_type": "markdown",
      "metadata": {
        "id": "q4dR6jg9MLYM"
      },
      "source": [
        "## LSTM"
      ]
    },
    {
      "cell_type": "code",
      "execution_count": null,
      "metadata": {
        "id": "i2XzrBAcMLYM"
      },
      "outputs": [],
      "source": [
        "def LstmModel():\n",
        "  model = keras.Sequential()\n",
        "  \n",
        "  model.add(layers.LSTM(units=64, kernel_regularizer='l2', return_sequences=True, time_major=False, input_shape=(n_step, n_feats)))\n",
        "  model.add(layers.LSTM(units=32, kernel_regularizer='l2', return_sequences=True, time_major=False))\n",
        "  model.add(layers.BatchNormalization())\n",
        "  model.add(layers.LSTM(units=16, kernel_regularizer='l2', return_sequences=False, time_major=False))\n",
        "  model.add(layers.Dense(16))\n",
        "  model.add(layers.Dropout(0.2))\n",
        "  model.add(layers.Dense(1, activation='sigmoid'))\n",
        "  return model"
      ]
    },
    {
      "cell_type": "markdown",
      "metadata": {
        "id": "y3AoWXRWMLYM"
      },
      "source": [
        "## GRU"
      ]
    },
    {
      "cell_type": "code",
      "execution_count": null,
      "metadata": {
        "id": "UNNN6Mv1MLYN"
      },
      "outputs": [],
      "source": [
        "def GruModel():\n",
        "  model = keras.Sequential()\n",
        "  \n",
        "  model.add(layers.GRU(units=64, kernel_regularizer='l2', return_sequences=True, time_major=False, input_shape=(n_step, n_feats)))\n",
        "  model.add(layers.GRU(units=32, kernel_regularizer='l2', return_sequences=True, time_major=False))\n",
        "  model.add(layers.BatchNormalization())\n",
        "  model.add(layers.GRU(units=16, kernel_regularizer='l2', return_sequences=False, time_major=False))\n",
        "  model.add(layers.Dense(16))\n",
        "  model.add(layers.Dropout(0.2))\n",
        "  model.add(layers.Dense(1, activation='sigmoid'))\n",
        "  return model"
      ]
    },
    {
      "cell_type": "markdown",
      "metadata": {
        "id": "71f_9ChKMLYN"
      },
      "source": [
        "## Conv1D"
      ]
    },
    {
      "cell_type": "code",
      "execution_count": null,
      "metadata": {
        "id": "CLtAgzjvMLYN"
      },
      "outputs": [],
      "source": [
        "def ConvModel():\n",
        "  model = keras.Sequential()\n",
        "  \n",
        "  model.add(layers.Conv1D(64, 3, activation='relu', kernel_regularizer='l2', input_shape=(n_feats, n_step)))\n",
        "  model.add(layers.AveragePooling1D(pool_size=2, strides=2))\n",
        "  model.add(layers.Conv1D(128, 7, activation='relu', kernel_regularizer='l2'))\n",
        "  model.add(layers.Conv1D(512, 5, activation='relu', kernel_regularizer='l2'))\n",
        "  model.add(layers.Conv1D(1024, 5, activation='relu', kernel_regularizer='l2'))\n",
        "  model.add(layers.AveragePooling1D(pool_size=2))\n",
        "  model.add(layers.Flatten())\n",
        "  model.add(layers.Dense(256))\n",
        "  model.add(layers.Dropout(0.3))\n",
        "  model.add(layers.Dense(128))\n",
        "  model.add(layers.Dense(1, activation='sigmoid'))\n",
        "  return model"
      ]
    },
    {
      "cell_type": "markdown",
      "metadata": {
        "id": "RWUggpuUMLYN"
      },
      "source": [
        "## Conv-LSTM"
      ]
    },
    {
      "cell_type": "code",
      "execution_count": null,
      "metadata": {
        "id": "fs35BUUbMLYN"
      },
      "outputs": [],
      "source": [
        "def ConvLstmModel():\n",
        "  model = keras.Sequential()\n",
        "\n",
        "  model.add(layers.Conv1D(64, 3, activation='relu', kernel_regularizer='l2', input_shape=(n_feats, n_step)))\n",
        "  model.add(layers.AveragePooling1D(pool_size=2, strides=2))\n",
        "  model.add(layers.Conv1D(128, 3, activation='relu', kernel_regularizer='l2'))\n",
        "  model.add(layers.Conv1D(512, 5, activation='relu', kernel_regularizer='l2'))\n",
        "  model.add(layers.Conv1D(1024, 5, activation='relu', kernel_regularizer='l2'))\n",
        "\n",
        "  model.add(layers.Dense(256))\n",
        "  model.add(layers.Dropout(0.3))\n",
        "\n",
        "  model.add(layers.LSTM(64, kernel_regularizer='l2',  return_sequences=True))\n",
        "  model.add(layers.LSTM(64, kernel_regularizer='l2',  return_sequences=False))\n",
        "  \n",
        "  model.add(layers.Dense(256))\n",
        "  model.add(layers.Dense(128))\n",
        "  model.add(layers.Dense(1, activation='sigmoid'))\n",
        "  return model"
      ]
    },
    {
      "cell_type": "markdown",
      "metadata": {
        "id": "6uuhTHMeMLYN"
      },
      "source": [
        "## Auto-Encoder"
      ]
    },
    {
      "cell_type": "markdown",
      "metadata": {
        "id": "au5UVULAMLYN"
      },
      "source": [
        "### Conv1D"
      ]
    },
    {
      "cell_type": "code",
      "execution_count": null,
      "metadata": {
        "id": "ygHfm9aPMLYN"
      },
      "outputs": [],
      "source": [
        "def ConvAE():\n",
        "    input = layers.Input(shape=(n_feats, n_step))\n",
        "    x = layers.Conv1D(64, 3, strides=2, activation='relu', kernel_regularizer='l2')(input)\n",
        "    x = layers.Conv1D(128, 5, strides=2, activation='relu', kernel_regularizer='l2')(x)\n",
        "    x = layers.AveragePooling1D(4)(x)\n",
        "    y = layers.Conv1DTranspose(128, 1, strides=7, activation='relu', kernel_regularizer='l2')(x)\n",
        "    y = layers.Conv1DTranspose(64, 5, strides=2, activation='relu', kernel_regularizer='l2')(y)\n",
        "    y = layers.Conv1DTranspose(10, 3, strides=2, activation='relu', kernel_regularizer='l2')(y)\n",
        "    encoder = Model(inputs=input, outputs=x)\n",
        "    ae = Model(inputs=input, outputs=y)\n",
        "    return ae, encoder"
      ]
    },
    {
      "cell_type": "markdown",
      "metadata": {
        "id": "wgLbyX2-MLYN"
      },
      "source": [
        "### LSTM"
      ]
    },
    {
      "cell_type": "code",
      "execution_count": null,
      "metadata": {
        "id": "R-WT9L48MLYN"
      },
      "outputs": [],
      "source": [
        "def LstmAE():\n",
        "    input = layers.Input(shape=(n_step, n_feats))\n",
        "    x = layers.LSTM(units=64, kernel_regularizer='l2', return_sequences=True)(input)\n",
        "    x = layers.LSTM(units=32, kernel_regularizer='l2', return_sequences=False)(x)\n",
        "    y = layers.RepeatVector(n_step)(x)\n",
        "    y = layers.LSTM(units=32, kernel_regularizer='l2', return_sequences=True)(y)\n",
        "    y = layers.LSTM(units=64, kernel_regularizer='l2', return_sequences=True)(y)\n",
        "    output = layers.TimeDistributed(layers.Dense(n_feats))(y)\n",
        "    encoder = Model(inputs=input, outputs=x)\n",
        "    ae = Model(inputs=input, outputs=output)\n",
        "    return ae, encoder"
      ]
    },
    {
      "cell_type": "markdown",
      "metadata": {
        "id": "Xzlr-9JuMLYN"
      },
      "source": [
        "# Model Definition"
      ]
    },
    {
      "cell_type": "code",
      "execution_count": null,
      "metadata": {
        "id": "-bVklsi_MLYO"
      },
      "outputs": [],
      "source": [
        "def get_model(model_name):\n",
        "    model = None\n",
        "    if model_name == 'LSTM':\n",
        "        model = LstmModel()\n",
        "    elif model_name == 'GRU':\n",
        "        model = GruModel()\n",
        "    elif model_name == 'CONV':\n",
        "        model = ConvModel()\n",
        "    elif model_name == 'CONVLSTM':\n",
        "        model = ConvLstmModel()\n",
        "    elif model_name == 'CONVAE':\n",
        "        model = ConvAE()\n",
        "    elif model_name == 'LSTMAE':\n",
        "        model = LstmAE()\n",
        "    return model"
      ]
    },
    {
      "cell_type": "markdown",
      "metadata": {
        "id": "U_buT0tfMLYO"
      },
      "source": [
        "# Training"
      ]
    },
    {
      "cell_type": "code",
      "execution_count": null,
      "metadata": {
        "id": "JzJkV9hrMLYO"
      },
      "outputs": [],
      "source": [
        "lr = 0.001\n",
        "epochs = 20\n",
        "weight_decay = 0.0\n",
        "checkpoint_dir = '/content/drive/MyDrive/IBM_Dataset/checkpoints'"
      ]
    },
    {
      "cell_type": "code",
      "execution_count": null,
      "metadata": {
        "id": "2Yy5GkCiMLYO"
      },
      "outputs": [],
      "source": [
        "model_name = 'LSTM'\n",
        "model = get_model(model_name)\n",
        "class_weights = compute_class_weight(class_weight='balanced', classes=[0, 1], y=targets)\n",
        "class_weights = {0: class_weights[0], 1: class_weights[1]}"
      ]
    },
    {
      "cell_type": "code",
      "execution_count": null,
      "metadata": {
        "id": "_IT6Pi3lMLYO"
      },
      "outputs": [],
      "source": [
        "train_loader = get_batch(users, cards, x_train, y_train, batch_size, True if model_name in {'CONV', 'CONVLSTM', 'CONVAE'} else False)\n",
        "val_loader = get_batch(users, cards, x_val, y_val, batch_size, True if model_name in {'CONV', 'CONVLSTM', 'CONVAE'} else False)\n",
        "test_loader = get_batch(users, cards, x_test, y_test, batch_size, True if model_name in {'CONV', 'CONVLSTM', 'CONVAE'} else False)"
      ]
    },
    {
      "cell_type": "code",
      "execution_count": null,
      "metadata": {
        "colab": {
          "base_uri": "https://localhost:8080/",
          "height": 415
        },
        "id": "P1KmE-vAMLYP",
        "outputId": "2b2714d9-2edd-48b2-d6ec-f32842ca5ba1"
      },
      "outputs": [
        {
          "output_type": "stream",
          "name": "stdout",
          "text": [
            "Epoch 1/20\n",
            "  995/88058 [..............................] - ETA: 1:43:28 - loss: 1.5212 - auc_2: 0.4885 - precision_2: 0.5269 - recall_2: 0.2000"
          ]
        },
        {
          "output_type": "error",
          "ename": "KeyboardInterrupt",
          "evalue": "ignored",
          "traceback": [
            "\u001b[0;31m---------------------------------------------------------------------------\u001b[0m",
            "\u001b[0;31mKeyboardInterrupt\u001b[0m                         Traceback (most recent call last)",
            "\u001b[0;32m<ipython-input-167-6ff302ca9084>\u001b[0m in \u001b[0;36m<module>\u001b[0;34m\u001b[0m\n\u001b[1;32m      5\u001b[0m     \u001b[0mweighted_metrics\u001b[0m\u001b[0;34m=\u001b[0m\u001b[0;34m[\u001b[0m\u001b[0mkeras\u001b[0m\u001b[0;34m.\u001b[0m\u001b[0mmetrics\u001b[0m\u001b[0;34m.\u001b[0m\u001b[0mPrecision\u001b[0m\u001b[0;34m(\u001b[0m\u001b[0;34m)\u001b[0m\u001b[0;34m,\u001b[0m \u001b[0mkeras\u001b[0m\u001b[0;34m.\u001b[0m\u001b[0mmetrics\u001b[0m\u001b[0;34m.\u001b[0m\u001b[0mRecall\u001b[0m\u001b[0;34m(\u001b[0m\u001b[0;34m)\u001b[0m\u001b[0;34m]\u001b[0m\u001b[0;34m\u001b[0m\u001b[0;34m\u001b[0m\u001b[0m\n\u001b[1;32m      6\u001b[0m )\n\u001b[0;32m----> 7\u001b[0;31m train_details = model.fit(\n\u001b[0m\u001b[1;32m      8\u001b[0m     \u001b[0mx\u001b[0m\u001b[0;34m=\u001b[0m\u001b[0mtrain_loader\u001b[0m\u001b[0;34m,\u001b[0m\u001b[0;34m\u001b[0m\u001b[0;34m\u001b[0m\u001b[0m\n\u001b[1;32m      9\u001b[0m     \u001b[0msteps_per_epoch\u001b[0m\u001b[0;34m=\u001b[0m\u001b[0mlen\u001b[0m\u001b[0;34m(\u001b[0m\u001b[0mx_train\u001b[0m\u001b[0;34m)\u001b[0m \u001b[0;34m//\u001b[0m \u001b[0mbatch_size\u001b[0m\u001b[0;34m,\u001b[0m\u001b[0;34m\u001b[0m\u001b[0;34m\u001b[0m\u001b[0m\n",
            "\u001b[0;32m/usr/local/lib/python3.8/dist-packages/keras/utils/traceback_utils.py\u001b[0m in \u001b[0;36merror_handler\u001b[0;34m(*args, **kwargs)\u001b[0m\n\u001b[1;32m     63\u001b[0m         \u001b[0mfiltered_tb\u001b[0m \u001b[0;34m=\u001b[0m \u001b[0;32mNone\u001b[0m\u001b[0;34m\u001b[0m\u001b[0;34m\u001b[0m\u001b[0m\n\u001b[1;32m     64\u001b[0m         \u001b[0;32mtry\u001b[0m\u001b[0;34m:\u001b[0m\u001b[0;34m\u001b[0m\u001b[0;34m\u001b[0m\u001b[0m\n\u001b[0;32m---> 65\u001b[0;31m             \u001b[0;32mreturn\u001b[0m \u001b[0mfn\u001b[0m\u001b[0;34m(\u001b[0m\u001b[0;34m*\u001b[0m\u001b[0margs\u001b[0m\u001b[0;34m,\u001b[0m \u001b[0;34m**\u001b[0m\u001b[0mkwargs\u001b[0m\u001b[0;34m)\u001b[0m\u001b[0;34m\u001b[0m\u001b[0;34m\u001b[0m\u001b[0m\n\u001b[0m\u001b[1;32m     66\u001b[0m         \u001b[0;32mexcept\u001b[0m \u001b[0mException\u001b[0m \u001b[0;32mas\u001b[0m \u001b[0me\u001b[0m\u001b[0;34m:\u001b[0m\u001b[0;34m\u001b[0m\u001b[0;34m\u001b[0m\u001b[0m\n\u001b[1;32m     67\u001b[0m             \u001b[0mfiltered_tb\u001b[0m \u001b[0;34m=\u001b[0m \u001b[0m_process_traceback_frames\u001b[0m\u001b[0;34m(\u001b[0m\u001b[0me\u001b[0m\u001b[0;34m.\u001b[0m\u001b[0m__traceback__\u001b[0m\u001b[0;34m)\u001b[0m\u001b[0;34m\u001b[0m\u001b[0;34m\u001b[0m\u001b[0m\n",
            "\u001b[0;32m/usr/local/lib/python3.8/dist-packages/keras/engine/training.py\u001b[0m in \u001b[0;36mfit\u001b[0;34m(self, x, y, batch_size, epochs, verbose, callbacks, validation_split, validation_data, shuffle, class_weight, sample_weight, initial_epoch, steps_per_epoch, validation_steps, validation_batch_size, validation_freq, max_queue_size, workers, use_multiprocessing)\u001b[0m\n\u001b[1;32m   1648\u001b[0m                         ):\n\u001b[1;32m   1649\u001b[0m                             \u001b[0mcallbacks\u001b[0m\u001b[0;34m.\u001b[0m\u001b[0mon_train_batch_begin\u001b[0m\u001b[0;34m(\u001b[0m\u001b[0mstep\u001b[0m\u001b[0;34m)\u001b[0m\u001b[0;34m\u001b[0m\u001b[0;34m\u001b[0m\u001b[0m\n\u001b[0;32m-> 1650\u001b[0;31m                             \u001b[0mtmp_logs\u001b[0m \u001b[0;34m=\u001b[0m \u001b[0mself\u001b[0m\u001b[0;34m.\u001b[0m\u001b[0mtrain_function\u001b[0m\u001b[0;34m(\u001b[0m\u001b[0miterator\u001b[0m\u001b[0;34m)\u001b[0m\u001b[0;34m\u001b[0m\u001b[0;34m\u001b[0m\u001b[0m\n\u001b[0m\u001b[1;32m   1651\u001b[0m                             \u001b[0;32mif\u001b[0m \u001b[0mdata_handler\u001b[0m\u001b[0;34m.\u001b[0m\u001b[0mshould_sync\u001b[0m\u001b[0;34m:\u001b[0m\u001b[0;34m\u001b[0m\u001b[0;34m\u001b[0m\u001b[0m\n\u001b[1;32m   1652\u001b[0m                                 \u001b[0mcontext\u001b[0m\u001b[0;34m.\u001b[0m\u001b[0masync_wait\u001b[0m\u001b[0;34m(\u001b[0m\u001b[0;34m)\u001b[0m\u001b[0;34m\u001b[0m\u001b[0;34m\u001b[0m\u001b[0m\n",
            "\u001b[0;32m/usr/local/lib/python3.8/dist-packages/tensorflow/python/util/traceback_utils.py\u001b[0m in \u001b[0;36merror_handler\u001b[0;34m(*args, **kwargs)\u001b[0m\n\u001b[1;32m    148\u001b[0m     \u001b[0mfiltered_tb\u001b[0m \u001b[0;34m=\u001b[0m \u001b[0;32mNone\u001b[0m\u001b[0;34m\u001b[0m\u001b[0;34m\u001b[0m\u001b[0m\n\u001b[1;32m    149\u001b[0m     \u001b[0;32mtry\u001b[0m\u001b[0;34m:\u001b[0m\u001b[0;34m\u001b[0m\u001b[0;34m\u001b[0m\u001b[0m\n\u001b[0;32m--> 150\u001b[0;31m       \u001b[0;32mreturn\u001b[0m \u001b[0mfn\u001b[0m\u001b[0;34m(\u001b[0m\u001b[0;34m*\u001b[0m\u001b[0margs\u001b[0m\u001b[0;34m,\u001b[0m \u001b[0;34m**\u001b[0m\u001b[0mkwargs\u001b[0m\u001b[0;34m)\u001b[0m\u001b[0;34m\u001b[0m\u001b[0;34m\u001b[0m\u001b[0m\n\u001b[0m\u001b[1;32m    151\u001b[0m     \u001b[0;32mexcept\u001b[0m \u001b[0mException\u001b[0m \u001b[0;32mas\u001b[0m \u001b[0me\u001b[0m\u001b[0;34m:\u001b[0m\u001b[0;34m\u001b[0m\u001b[0;34m\u001b[0m\u001b[0m\n\u001b[1;32m    152\u001b[0m       \u001b[0mfiltered_tb\u001b[0m \u001b[0;34m=\u001b[0m \u001b[0m_process_traceback_frames\u001b[0m\u001b[0;34m(\u001b[0m\u001b[0me\u001b[0m\u001b[0;34m.\u001b[0m\u001b[0m__traceback__\u001b[0m\u001b[0;34m)\u001b[0m\u001b[0;34m\u001b[0m\u001b[0;34m\u001b[0m\u001b[0m\n",
            "\u001b[0;32m/usr/local/lib/python3.8/dist-packages/tensorflow/python/eager/polymorphic_function/polymorphic_function.py\u001b[0m in \u001b[0;36m__call__\u001b[0;34m(self, *args, **kwds)\u001b[0m\n\u001b[1;32m    878\u001b[0m \u001b[0;34m\u001b[0m\u001b[0m\n\u001b[1;32m    879\u001b[0m       \u001b[0;32mwith\u001b[0m \u001b[0mOptionalXlaContext\u001b[0m\u001b[0;34m(\u001b[0m\u001b[0mself\u001b[0m\u001b[0;34m.\u001b[0m\u001b[0m_jit_compile\u001b[0m\u001b[0;34m)\u001b[0m\u001b[0;34m:\u001b[0m\u001b[0;34m\u001b[0m\u001b[0;34m\u001b[0m\u001b[0m\n\u001b[0;32m--> 880\u001b[0;31m         \u001b[0mresult\u001b[0m \u001b[0;34m=\u001b[0m \u001b[0mself\u001b[0m\u001b[0;34m.\u001b[0m\u001b[0m_call\u001b[0m\u001b[0;34m(\u001b[0m\u001b[0;34m*\u001b[0m\u001b[0margs\u001b[0m\u001b[0;34m,\u001b[0m \u001b[0;34m**\u001b[0m\u001b[0mkwds\u001b[0m\u001b[0;34m)\u001b[0m\u001b[0;34m\u001b[0m\u001b[0;34m\u001b[0m\u001b[0m\n\u001b[0m\u001b[1;32m    881\u001b[0m \u001b[0;34m\u001b[0m\u001b[0m\n\u001b[1;32m    882\u001b[0m       \u001b[0mnew_tracing_count\u001b[0m \u001b[0;34m=\u001b[0m \u001b[0mself\u001b[0m\u001b[0;34m.\u001b[0m\u001b[0mexperimental_get_tracing_count\u001b[0m\u001b[0;34m(\u001b[0m\u001b[0;34m)\u001b[0m\u001b[0;34m\u001b[0m\u001b[0;34m\u001b[0m\u001b[0m\n",
            "\u001b[0;32m/usr/local/lib/python3.8/dist-packages/tensorflow/python/eager/polymorphic_function/polymorphic_function.py\u001b[0m in \u001b[0;36m_call\u001b[0;34m(self, *args, **kwds)\u001b[0m\n\u001b[1;32m    910\u001b[0m       \u001b[0;31m# In this case we have created variables on the first call, so we run the\u001b[0m\u001b[0;34m\u001b[0m\u001b[0;34m\u001b[0m\u001b[0;34m\u001b[0m\u001b[0m\n\u001b[1;32m    911\u001b[0m       \u001b[0;31m# defunned version which is guaranteed to never create variables.\u001b[0m\u001b[0;34m\u001b[0m\u001b[0;34m\u001b[0m\u001b[0;34m\u001b[0m\u001b[0m\n\u001b[0;32m--> 912\u001b[0;31m       \u001b[0;32mreturn\u001b[0m \u001b[0mself\u001b[0m\u001b[0;34m.\u001b[0m\u001b[0m_no_variable_creation_fn\u001b[0m\u001b[0;34m(\u001b[0m\u001b[0;34m*\u001b[0m\u001b[0margs\u001b[0m\u001b[0;34m,\u001b[0m \u001b[0;34m**\u001b[0m\u001b[0mkwds\u001b[0m\u001b[0;34m)\u001b[0m  \u001b[0;31m# pylint: disable=not-callable\u001b[0m\u001b[0;34m\u001b[0m\u001b[0;34m\u001b[0m\u001b[0m\n\u001b[0m\u001b[1;32m    913\u001b[0m     \u001b[0;32melif\u001b[0m \u001b[0mself\u001b[0m\u001b[0;34m.\u001b[0m\u001b[0m_variable_creation_fn\u001b[0m \u001b[0;32mis\u001b[0m \u001b[0;32mnot\u001b[0m \u001b[0;32mNone\u001b[0m\u001b[0;34m:\u001b[0m\u001b[0;34m\u001b[0m\u001b[0;34m\u001b[0m\u001b[0m\n\u001b[1;32m    914\u001b[0m       \u001b[0;31m# Release the lock early so that multiple threads can perform the call\u001b[0m\u001b[0;34m\u001b[0m\u001b[0;34m\u001b[0m\u001b[0;34m\u001b[0m\u001b[0m\n",
            "\u001b[0;32m/usr/local/lib/python3.8/dist-packages/tensorflow/python/eager/polymorphic_function/tracing_compiler.py\u001b[0m in \u001b[0;36m__call__\u001b[0;34m(self, *args, **kwargs)\u001b[0m\n\u001b[1;32m    132\u001b[0m       (concrete_function,\n\u001b[1;32m    133\u001b[0m        filtered_flat_args) = self._maybe_define_function(args, kwargs)\n\u001b[0;32m--> 134\u001b[0;31m     return concrete_function._call_flat(\n\u001b[0m\u001b[1;32m    135\u001b[0m         filtered_flat_args, captured_inputs=concrete_function.captured_inputs)  # pylint: disable=protected-access\n\u001b[1;32m    136\u001b[0m \u001b[0;34m\u001b[0m\u001b[0m\n",
            "\u001b[0;32m/usr/local/lib/python3.8/dist-packages/tensorflow/python/eager/polymorphic_function/monomorphic_function.py\u001b[0m in \u001b[0;36m_call_flat\u001b[0;34m(self, args, captured_inputs, cancellation_manager)\u001b[0m\n\u001b[1;32m   1743\u001b[0m         and executing_eagerly):\n\u001b[1;32m   1744\u001b[0m       \u001b[0;31m# No tape is watching; skip to running the function.\u001b[0m\u001b[0;34m\u001b[0m\u001b[0;34m\u001b[0m\u001b[0;34m\u001b[0m\u001b[0m\n\u001b[0;32m-> 1745\u001b[0;31m       return self._build_call_outputs(self._inference_function.call(\n\u001b[0m\u001b[1;32m   1746\u001b[0m           ctx, args, cancellation_manager=cancellation_manager))\n\u001b[1;32m   1747\u001b[0m     forward_backward = self._select_forward_and_backward_functions(\n",
            "\u001b[0;32m/usr/local/lib/python3.8/dist-packages/tensorflow/python/eager/polymorphic_function/monomorphic_function.py\u001b[0m in \u001b[0;36mcall\u001b[0;34m(self, ctx, args, cancellation_manager)\u001b[0m\n\u001b[1;32m    376\u001b[0m       \u001b[0;32mwith\u001b[0m \u001b[0m_InterpolateFunctionError\u001b[0m\u001b[0;34m(\u001b[0m\u001b[0mself\u001b[0m\u001b[0;34m)\u001b[0m\u001b[0;34m:\u001b[0m\u001b[0;34m\u001b[0m\u001b[0;34m\u001b[0m\u001b[0m\n\u001b[1;32m    377\u001b[0m         \u001b[0;32mif\u001b[0m \u001b[0mcancellation_manager\u001b[0m \u001b[0;32mis\u001b[0m \u001b[0;32mNone\u001b[0m\u001b[0;34m:\u001b[0m\u001b[0;34m\u001b[0m\u001b[0;34m\u001b[0m\u001b[0m\n\u001b[0;32m--> 378\u001b[0;31m           outputs = execute.execute(\n\u001b[0m\u001b[1;32m    379\u001b[0m               \u001b[0mstr\u001b[0m\u001b[0;34m(\u001b[0m\u001b[0mself\u001b[0m\u001b[0;34m.\u001b[0m\u001b[0msignature\u001b[0m\u001b[0;34m.\u001b[0m\u001b[0mname\u001b[0m\u001b[0;34m)\u001b[0m\u001b[0;34m,\u001b[0m\u001b[0;34m\u001b[0m\u001b[0;34m\u001b[0m\u001b[0m\n\u001b[1;32m    380\u001b[0m               \u001b[0mnum_outputs\u001b[0m\u001b[0;34m=\u001b[0m\u001b[0mself\u001b[0m\u001b[0;34m.\u001b[0m\u001b[0m_num_outputs\u001b[0m\u001b[0;34m,\u001b[0m\u001b[0;34m\u001b[0m\u001b[0;34m\u001b[0m\u001b[0m\n",
            "\u001b[0;32m/usr/local/lib/python3.8/dist-packages/tensorflow/python/eager/execute.py\u001b[0m in \u001b[0;36mquick_execute\u001b[0;34m(op_name, num_outputs, inputs, attrs, ctx, name)\u001b[0m\n\u001b[1;32m     50\u001b[0m   \u001b[0;32mtry\u001b[0m\u001b[0;34m:\u001b[0m\u001b[0;34m\u001b[0m\u001b[0;34m\u001b[0m\u001b[0m\n\u001b[1;32m     51\u001b[0m     \u001b[0mctx\u001b[0m\u001b[0;34m.\u001b[0m\u001b[0mensure_initialized\u001b[0m\u001b[0;34m(\u001b[0m\u001b[0;34m)\u001b[0m\u001b[0;34m\u001b[0m\u001b[0;34m\u001b[0m\u001b[0m\n\u001b[0;32m---> 52\u001b[0;31m     tensors = pywrap_tfe.TFE_Py_Execute(ctx._handle, device_name, op_name,\n\u001b[0m\u001b[1;32m     53\u001b[0m                                         inputs, attrs, num_outputs)\n\u001b[1;32m     54\u001b[0m   \u001b[0;32mexcept\u001b[0m \u001b[0mcore\u001b[0m\u001b[0;34m.\u001b[0m\u001b[0m_NotOkStatusException\u001b[0m \u001b[0;32mas\u001b[0m \u001b[0me\u001b[0m\u001b[0;34m:\u001b[0m\u001b[0;34m\u001b[0m\u001b[0;34m\u001b[0m\u001b[0m\n",
            "\u001b[0;31mKeyboardInterrupt\u001b[0m: "
          ]
        }
      ],
      "source": [
        "model.compile(\n",
        "    optimizer=keras.optimizers.Adam(learning_rate=lr, weight_decay=weight_decay), \n",
        "    loss='binary_crossentropy',\n",
        "    metrics=[keras.metrics.AUC()],\n",
        "    weighted_metrics=[keras.metrics.Precision(), keras.metrics.Recall()]\n",
        ")\n",
        "train_details = model.fit(\n",
        "    x=train_loader,\n",
        "    steps_per_epoch=len(x_train) // batch_size,\n",
        "    validation_steps=len(x_val) // batch_size,\n",
        "    epochs=epochs,\n",
        "    validation_data=val_loader,\n",
        "    callbacks=[\n",
        "        tf.keras.callbacks.ReduceLROnPlateau(factor=0.5, patience=3, monitor='val_loss'),\n",
        "        tf.keras.callbacks.ModelCheckpoint(filepath=os.path.join(checkpoint_dir, model_name), monitor='val_loss', save_best_only=True)\n",
        "    ],\n",
        "    class_weight=class_weights\n",
        ")"
      ]
    },
    {
      "cell_type": "code",
      "source": [],
      "metadata": {
        "id": "WsB842cR2Q7R"
      },
      "execution_count": null,
      "outputs": []
    }
  ],
  "metadata": {
    "kernelspec": {
      "display_name": "wenv",
      "language": "python",
      "name": "python3"
    },
    "language_info": {
      "codemirror_mode": {
        "name": "ipython",
        "version": 3
      },
      "file_extension": ".py",
      "mimetype": "text/x-python",
      "name": "python",
      "nbconvert_exporter": "python",
      "pygments_lexer": "ipython3",
      "version": "3.9.13"
    },
    "orig_nbformat": 4,
    "vscode": {
      "interpreter": {
        "hash": "79af883d0fed3fde69702b9c6d67210ea7fab711f741cf74fe3ad86041e7d3c8"
      }
    },
    "colab": {
      "provenance": [],
      "collapsed_sections": [
        "rHaAPr2YMLYA",
        "IVwX4ZXgMLYM",
        "q4dR6jg9MLYM",
        "y3AoWXRWMLYM",
        "71f_9ChKMLYN",
        "RWUggpuUMLYN",
        "6uuhTHMeMLYN",
        "au5UVULAMLYN",
        "wgLbyX2-MLYN"
      ]
    }
  },
  "nbformat": 4,
  "nbformat_minor": 0
}