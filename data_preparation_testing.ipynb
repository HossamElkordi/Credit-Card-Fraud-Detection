{
 "cells": [
  {
   "cell_type": "code",
   "execution_count": 1,
   "metadata": {},
   "outputs": [],
   "source": [
    "import math\n",
    "import numpy as np\n",
    "import pandas as pd\n",
    "from Scripts.data import Data"
   ]
  },
  {
   "cell_type": "code",
   "execution_count": 2,
   "metadata": {},
   "outputs": [],
   "source": [
    "df = pd.read_csv('./Data/transactions.csv')"
   ]
  },
  {
   "cell_type": "code",
   "execution_count": 3,
   "metadata": {},
   "outputs": [
    {
     "name": "stdout",
     "output_type": "stream",
     "text": [
      "<class 'pandas.core.frame.DataFrame'>\n",
      "RangeIndex: 24386900 entries, 0 to 24386899\n",
      "Data columns (total 15 columns):\n",
      " #   Column          Dtype  \n",
      "---  ------          -----  \n",
      " 0   User            int64  \n",
      " 1   Card            int64  \n",
      " 2   Year            int64  \n",
      " 3   Month           int64  \n",
      " 4   Day             int64  \n",
      " 5   Time            object \n",
      " 6   Amount          object \n",
      " 7   Use Chip        object \n",
      " 8   Merchant Name   int64  \n",
      " 9   Merchant City   object \n",
      " 10  Merchant State  object \n",
      " 11  Zip             float64\n",
      " 12  MCC             int64  \n",
      " 13  Errors?         object \n",
      " 14  Is Fraud?       object \n",
      "dtypes: float64(1), int64(7), object(7)\n",
      "memory usage: 10.8 GB\n"
     ]
    }
   ],
   "source": [
    "df.info(memory_usage=\"deep\")"
   ]
  },
  {
   "cell_type": "code",
   "execution_count": 4,
   "metadata": {},
   "outputs": [],
   "source": [
    "df['Zip'] = df['Zip'].fillna(0).astype(int)\n",
    "num8_col = ['Card', 'Month', 'Day']\n",
    "num16_col = ['User', 'Year']\n",
    "cat_col = ['Time', 'Amount', 'Use Chip', 'Merchant Name', 'Merchant City', \n",
    "            'Merchant State', 'Zip', 'MCC', 'Errors?', 'Is Fraud?']\n",
    "df[num8_col] = df[num8_col].astype('int8')\n",
    "df[num16_col] = df[num16_col].astype('int16')\n",
    "df[cat_col] = df[cat_col].astype('category')\n",
    "df['Amount'] = df['Amount'].apply(lambda x: x[1:]).astype(float).apply(lambda amt: max(1, amt)).apply(math.log)\n",
    "df['Errors?'] = df['Errors?'].cat.add_categories('None').fillna('None')\n",
    "df['Is Fraud?'] = df['Is Fraud?'].cat.rename_categories([0, 1]).astype('int8')\n",
    "df['Merchant State'] = df['Merchant State'].cat.add_categories('None').fillna('None')\n",
    "df['Use Chip'] = df['Use Chip'].cat.add_categories('None').fillna('None')"
   ]
  },
  {
   "cell_type": "code",
   "execution_count": 8,
   "metadata": {},
   "outputs": [],
   "source": [
    "def timeEncoder(X):\n",
    "    X_hm = X['Time'].str.split(':', expand=True)\n",
    "    d = pd.to_numeric(pd.to_datetime(dict(year=X['Year'], month=X['Month'], day=X['Day'], hour=X_hm[0], minute=X_hm[1]))).astype('int64')\n",
    "    return d\n",
    "\n",
    "timestamp = timeEncoder(df[['Year', 'Month', 'Day', 'Time']])"
   ]
  },
  {
   "cell_type": "code",
   "execution_count": 11,
   "metadata": {},
   "outputs": [],
   "source": [
    "df['timestamp'] = timestamp"
   ]
  },
  {
   "cell_type": "code",
   "execution_count": 12,
   "metadata": {},
   "outputs": [
    {
     "name": "stdout",
     "output_type": "stream",
     "text": [
      "<class 'pandas.core.frame.DataFrame'>\n",
      "RangeIndex: 24386900 entries, 0 to 24386899\n",
      "Data columns (total 16 columns):\n",
      " #   Column          Dtype   \n",
      "---  ------          -----   \n",
      " 0   User            int16   \n",
      " 1   Card            int8    \n",
      " 2   Year            int16   \n",
      " 3   Month           int8    \n",
      " 4   Day             int8    \n",
      " 5   Time            category\n",
      " 6   Amount          float64 \n",
      " 7   Use Chip        category\n",
      " 8   Merchant Name   category\n",
      " 9   Merchant City   category\n",
      " 10  Merchant State  category\n",
      " 11  Zip             category\n",
      " 12  MCC             category\n",
      " 13  Errors?         category\n",
      " 14  Is Fraud?       int8    \n",
      " 15  timestamp       int64   \n",
      "dtypes: category(8), float64(1), int16(2), int64(1), int8(4)\n",
      "memory usage: 912.5 MB\n"
     ]
    }
   ],
   "source": [
    "df.info(memory_usage=\"deep\")"
   ]
  },
  {
   "cell_type": "code",
   "execution_count": null,
   "metadata": {},
   "outputs": [],
   "source": []
  }
 ],
 "metadata": {
  "kernelspec": {
   "display_name": "py39",
   "language": "python",
   "name": "python3"
  },
  "language_info": {
   "codemirror_mode": {
    "name": "ipython",
    "version": 3
   },
   "file_extension": ".py",
   "mimetype": "text/x-python",
   "name": "python",
   "nbconvert_exporter": "python",
   "pygments_lexer": "ipython3",
   "version": "3.9.12"
  },
  "orig_nbformat": 4,
  "vscode": {
   "interpreter": {
    "hash": "78274f11d02abe01282ab0a43a111750ecce5551d51b9a2e8f18a2a15cb4f073"
   }
  }
 },
 "nbformat": 4,
 "nbformat_minor": 2
}
